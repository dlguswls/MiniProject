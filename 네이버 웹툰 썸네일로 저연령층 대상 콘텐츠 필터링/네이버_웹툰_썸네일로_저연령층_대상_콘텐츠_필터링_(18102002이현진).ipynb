{
  "nbformat": 4,
  "nbformat_minor": 0,
  "metadata": {
    "colab": {
      "provenance": [],
      "collapsed_sections": [
        "CU4TygHvGkmz"
      ],
      "machine_shape": "hm",
      "authorship_tag": "ABX9TyOXrDqJg0uVNKiqdldZjqqC",
      "include_colab_link": true
    },
    "kernelspec": {
      "name": "python3",
      "display_name": "Python 3"
    },
    "language_info": {
      "name": "python"
    }
  },
  "cells": [
    {
      "cell_type": "markdown",
      "metadata": {
        "id": "view-in-github",
        "colab_type": "text"
      },
      "source": [
        "<a href=\"https://colab.research.google.com/github/dlguswls/MiniProject/blob/main/%EB%84%A4%EC%9D%B4%EB%B2%84%20%EC%9B%B9%ED%88%B0%20%EC%8D%B8%EB%84%A4%EC%9D%BC%EB%A1%9C%20%EC%A0%80%EC%97%B0%EB%A0%B9%EC%B8%B5%20%EB%8C%80%EC%83%81%20%EC%BD%98%ED%85%90%EC%B8%A0%20%ED%95%84%ED%84%B0%EB%A7%81/%EB%84%A4%EC%9D%B4%EB%B2%84_%EC%9B%B9%ED%88%B0_%EC%8D%B8%EB%84%A4%EC%9D%BC%EB%A1%9C_%EC%A0%80%EC%97%B0%EB%A0%B9%EC%B8%B5_%EB%8C%80%EC%83%81_%EC%BD%98%ED%85%90%EC%B8%A0_%ED%95%84%ED%84%B0%EB%A7%81_(18102002%EC%9D%B4%ED%98%84%EC%A7%84).ipynb\" target=\"_parent\"><img src=\"https://colab.research.google.com/assets/colab-badge.svg\" alt=\"Open In Colab\"/></a>"
      ]
    },
    {
      "cell_type": "markdown",
      "source": [
        "# 네이버 웹툰 크롤링"
      ],
      "metadata": {
        "id": "CU4TygHvGkmz"
      }
    },
    {
      "cell_type": "markdown",
      "source": [
        "크롤링 코드는 JUPYTER NOTEBOOK 환경에서 작성되어 로컬 저장소에 결과를 저장하는 코드입니다!"
      ],
      "metadata": {
        "id": "tuxW2NiFGv9K"
      }
    },
    {
      "cell_type": "code",
      "source": [
        "!pip install requests\n",
        "!pip install pandas\n",
        "!pip install BeautifulSoup4\n",
        "!pip install xlrd\n",
        "!pip install openpyxl\n",
        "!pip install selenium"
      ],
      "metadata": {
        "id": "4zGm3iDNcs5P",
        "colab": {
          "base_uri": "https://localhost:8080/"
        },
        "outputId": "ab37abfd-2fae-4de6-b69e-74783b6f43aa"
      },
      "execution_count": null,
      "outputs": [
        {
          "output_type": "stream",
          "name": "stdout",
          "text": [
            "Looking in indexes: https://pypi.org/simple, https://us-python.pkg.dev/colab-wheels/public/simple/\n",
            "Requirement already satisfied: requests in /usr/local/lib/python3.7/dist-packages (2.23.0)\n",
            "Requirement already satisfied: certifi>=2017.4.17 in /usr/local/lib/python3.7/dist-packages (from requests) (2022.5.18.1)\n",
            "Requirement already satisfied: idna<3,>=2.5 in /usr/local/lib/python3.7/dist-packages (from requests) (2.10)\n",
            "Requirement already satisfied: urllib3!=1.25.0,!=1.25.1,<1.26,>=1.21.1 in /usr/local/lib/python3.7/dist-packages (from requests) (1.24.3)\n",
            "Requirement already satisfied: chardet<4,>=3.0.2 in /usr/local/lib/python3.7/dist-packages (from requests) (3.0.4)\n",
            "Looking in indexes: https://pypi.org/simple, https://us-python.pkg.dev/colab-wheels/public/simple/\n",
            "Requirement already satisfied: pandas in /usr/local/lib/python3.7/dist-packages (1.3.5)\n",
            "Requirement already satisfied: python-dateutil>=2.7.3 in /usr/local/lib/python3.7/dist-packages (from pandas) (2.8.2)\n",
            "Requirement already satisfied: pytz>=2017.3 in /usr/local/lib/python3.7/dist-packages (from pandas) (2022.1)\n",
            "Requirement already satisfied: numpy>=1.17.3 in /usr/local/lib/python3.7/dist-packages (from pandas) (1.21.6)\n",
            "Requirement already satisfied: six>=1.5 in /usr/local/lib/python3.7/dist-packages (from python-dateutil>=2.7.3->pandas) (1.15.0)\n",
            "Looking in indexes: https://pypi.org/simple, https://us-python.pkg.dev/colab-wheels/public/simple/\n",
            "Requirement already satisfied: BeautifulSoup4 in /usr/local/lib/python3.7/dist-packages (4.6.3)\n",
            "Looking in indexes: https://pypi.org/simple, https://us-python.pkg.dev/colab-wheels/public/simple/\n",
            "Requirement already satisfied: xlrd in /usr/local/lib/python3.7/dist-packages (1.1.0)\n",
            "Looking in indexes: https://pypi.org/simple, https://us-python.pkg.dev/colab-wheels/public/simple/\n",
            "Requirement already satisfied: openpyxl in /usr/local/lib/python3.7/dist-packages (3.0.10)\n",
            "Requirement already satisfied: et-xmlfile in /usr/local/lib/python3.7/dist-packages (from openpyxl) (1.1.0)\n",
            "Looking in indexes: https://pypi.org/simple, https://us-python.pkg.dev/colab-wheels/public/simple/\n",
            "Collecting selenium\n",
            "  Downloading selenium-4.2.0-py3-none-any.whl (983 kB)\n",
            "\u001b[K     |████████████████████████████████| 983 kB 5.2 MB/s \n",
            "\u001b[?25hCollecting trio-websocket~=0.9\n",
            "  Downloading trio_websocket-0.9.2-py3-none-any.whl (16 kB)\n",
            "Collecting urllib3[secure,socks]~=1.26\n",
            "  Downloading urllib3-1.26.9-py2.py3-none-any.whl (138 kB)\n",
            "\u001b[K     |████████████████████████████████| 138 kB 43.4 MB/s \n",
            "\u001b[?25hCollecting trio~=0.17\n",
            "  Downloading trio-0.20.0-py3-none-any.whl (359 kB)\n",
            "\u001b[K     |████████████████████████████████| 359 kB 43.2 MB/s \n",
            "\u001b[?25hCollecting async-generator>=1.9\n",
            "  Downloading async_generator-1.10-py3-none-any.whl (18 kB)\n",
            "Requirement already satisfied: sortedcontainers in /usr/local/lib/python3.7/dist-packages (from trio~=0.17->selenium) (2.4.0)\n",
            "Requirement already satisfied: attrs>=19.2.0 in /usr/local/lib/python3.7/dist-packages (from trio~=0.17->selenium) (21.4.0)\n",
            "Requirement already satisfied: idna in /usr/local/lib/python3.7/dist-packages (from trio~=0.17->selenium) (2.10)\n",
            "Collecting outcome\n",
            "  Downloading outcome-1.1.0-py2.py3-none-any.whl (9.7 kB)\n",
            "Collecting sniffio\n",
            "  Downloading sniffio-1.2.0-py3-none-any.whl (10 kB)\n",
            "Collecting wsproto>=0.14\n",
            "  Downloading wsproto-1.1.0-py3-none-any.whl (24 kB)\n",
            "Collecting pyOpenSSL>=0.14\n",
            "  Downloading pyOpenSSL-22.0.0-py2.py3-none-any.whl (55 kB)\n",
            "\u001b[K     |████████████████████████████████| 55 kB 2.5 MB/s \n",
            "\u001b[?25hRequirement already satisfied: certifi in /usr/local/lib/python3.7/dist-packages (from urllib3[secure,socks]~=1.26->selenium) (2022.5.18.1)\n",
            "Collecting cryptography>=1.3.4\n",
            "  Downloading cryptography-37.0.2-cp36-abi3-manylinux_2_24_x86_64.whl (4.0 MB)\n",
            "\u001b[K     |████████████████████████████████| 4.0 MB 31.6 MB/s \n",
            "\u001b[?25hRequirement already satisfied: PySocks!=1.5.7,<2.0,>=1.5.6 in /usr/local/lib/python3.7/dist-packages (from urllib3[secure,socks]~=1.26->selenium) (1.7.1)\n",
            "Requirement already satisfied: cffi>=1.12 in /usr/local/lib/python3.7/dist-packages (from cryptography>=1.3.4->urllib3[secure,socks]~=1.26->selenium) (1.15.0)\n",
            "Requirement already satisfied: pycparser in /usr/local/lib/python3.7/dist-packages (from cffi>=1.12->cryptography>=1.3.4->urllib3[secure,socks]~=1.26->selenium) (2.21)\n",
            "Collecting h11<1,>=0.9.0\n",
            "  Downloading h11-0.13.0-py3-none-any.whl (58 kB)\n",
            "\u001b[K     |████████████████████████████████| 58 kB 5.1 MB/s \n",
            "\u001b[?25hRequirement already satisfied: typing-extensions in /usr/local/lib/python3.7/dist-packages (from h11<1,>=0.9.0->wsproto>=0.14->trio-websocket~=0.9->selenium) (4.2.0)\n",
            "Installing collected packages: sniffio, outcome, h11, cryptography, async-generator, wsproto, urllib3, trio, pyOpenSSL, trio-websocket, selenium\n",
            "  Attempting uninstall: urllib3\n",
            "    Found existing installation: urllib3 1.24.3\n",
            "    Uninstalling urllib3-1.24.3:\n",
            "      Successfully uninstalled urllib3-1.24.3\n",
            "\u001b[31mERROR: pip's dependency resolver does not currently take into account all the packages that are installed. This behaviour is the source of the following dependency conflicts.\n",
            "requests 2.23.0 requires urllib3!=1.25.0,!=1.25.1,<1.26,>=1.21.1, but you have urllib3 1.26.9 which is incompatible.\n",
            "datascience 0.10.6 requires folium==0.2.1, but you have folium 0.8.3 which is incompatible.\u001b[0m\n",
            "Successfully installed async-generator-1.10 cryptography-37.0.2 h11-0.13.0 outcome-1.1.0 pyOpenSSL-22.0.0 selenium-4.2.0 sniffio-1.2.0 trio-0.20.0 trio-websocket-0.9.2 urllib3-1.26.9 wsproto-1.1.0\n"
          ]
        }
      ]
    },
    {
      "cell_type": "code",
      "source": [
        "import requests\n",
        "from bs4 import BeautifulSoup\n",
        "from selenium import webdriver\n",
        "from time import sleep\n",
        "import pandas as pd\n",
        "import pandas as pd"
      ],
      "metadata": {
        "id": "aeNFq-ISE3ah",
        "colab": {
          "base_uri": "https://localhost:8080/"
        },
        "outputId": "583f6c56-ce84-460f-c11c-8ff680f23513"
      },
      "execution_count": null,
      "outputs": [
        {
          "output_type": "stream",
          "name": "stderr",
          "text": [
            "/usr/local/lib/python3.7/dist-packages/requests/__init__.py:91: RequestsDependencyWarning: urllib3 (1.26.9) or chardet (3.0.4) doesn't match a supported version!\n",
            "  RequestsDependencyWarning)\n"
          ]
        }
      ]
    },
    {
      "cell_type": "markdown",
      "source": [
        "현재 연재중인 요일별 웹툰 크롤링"
      ],
      "metadata": {
        "id": "nK9IWcd4HzFm"
      }
    },
    {
      "cell_type": "code",
      "source": [
        "URL = 'https://comic.naver.com/webtoon/weekday.nhn'\n",
        "html = requests.get(URL).text # html 문서 전체를 긁어서 출력해줌, .text는 태그 제외하고 text만 출력되게 함\n",
        "soup = BeautifulSoup(html, 'html.parser')"
      ],
      "metadata": {
        "id": "KLLAWoYWWqpu"
      },
      "execution_count": null,
      "outputs": []
    },
    {
      "cell_type": "code",
      "source": [
        "title = soup.find_all('a', {'class' : 'title'}) # a태그에서 class='title'인 html소스를 찾아 할당\n",
        "id_list = [] ; title_list = [] ; genre_list = [] ; thumbnail_list = []\n",
        "num = 0"
      ],
      "metadata": {
        "id": "GmDHVILMHGD2"
      },
      "execution_count": null,
      "outputs": []
    },
    {
      "cell_type": "code",
      "source": [
        "driver = webdriver.Chrome('C:/Users/82109/project/chromedriver.exe') # 크롬 사용하니까\n",
        "driver.get(URL)"
      ],
      "metadata": {
        "id": "ASm5XHD2HGL-"
      },
      "execution_count": null,
      "outputs": []
    },
    {
      "cell_type": "code",
      "source": [
        "for i in range(len(title)):\n",
        "        \n",
        "    page = driver.find_elements_by_css_selector('a.title')\n",
        "    page[i].click() #월요일 첫 번째 웹툰부터 순서대로 클릭\n",
        "    \n",
        "    sleep(0.5)\n",
        "\n",
        "    id_list.append(i)\n",
        "    title_list.append(driver.find_element_by_css_selector('span.title').text)\n",
        "    genre_list.append(driver.find_element_by_css_selector('span.genre').text)\n",
        "    thumbnail_list.append(driver.find_element_by_css_selector('.thumb>a>img').get_attribute('src'))\n",
        "\n",
        "    sleep(0.5)\n",
        "\n",
        "    driver.back()"
      ],
      "metadata": {
        "id": "MBb14DSXHGOL"
      },
      "execution_count": null,
      "outputs": []
    },
    {
      "cell_type": "code",
      "source": [
        "data = pd.DataFrame([id_list, title_list, genre_list, thumbnail_list]) # 529개의 데이터"
      ],
      "metadata": {
        "id": "NvV5MFwcHGQo"
      },
      "execution_count": null,
      "outputs": []
    },
    {
      "cell_type": "code",
      "source": [
        "data.T.to_csv(\"data.csv\", encoding = 'cp949')"
      ],
      "metadata": {
        "id": "dtHSXD1BHGUw"
      },
      "execution_count": null,
      "outputs": []
    },
    {
      "cell_type": "code",
      "source": [
        "title = soup.select('ul>li>dl>dt>a') # a태그에서 class='title'인 html소스를 찾아 할당\n",
        "id_list = [] ; title_list = [] ; genre_list = [] ; thumbnail_list = []\n",
        "num = 0"
      ],
      "metadata": {
        "id": "-afVvwyeH8IW"
      },
      "execution_count": null,
      "outputs": []
    },
    {
      "cell_type": "code",
      "source": [
        "driver = webdriver.Chrome('C:/Users/82109/project/chromedriver.exe') # 크롬 사용하니까\n",
        "driver.get(URL)"
      ],
      "metadata": {
        "id": "4q4pT8IyH8Fd"
      },
      "execution_count": null,
      "outputs": []
    },
    {
      "cell_type": "code",
      "source": [
        "for i in range(len(title)):\n",
        "        \n",
        "    page = driver.find_elements_by_css_selector('ul>li>dl>dt>a')\n",
        "    page[i].click() #월요일 첫 번째 웹툰부터 순서대로 클릭\n",
        "    \n",
        "    sleep(0.5)\n",
        "\n",
        "    id_list.append(i)\n",
        "    title_list.append(driver.find_element_by_css_selector('span.title').text)\n",
        "    genre_list.append(driver.find_element_by_css_selector('span.genre').text)\n",
        "    thumbnail_list.append(driver.find_element_by_css_selector('.thumb>a>img').get_attribute('src'))\n",
        "\n",
        "    sleep(0.5)\n",
        "\n",
        "    driver.back()"
      ],
      "metadata": {
        "id": "t4Hd6dMZH8Az"
      },
      "execution_count": null,
      "outputs": []
    },
    {
      "cell_type": "code",
      "source": [
        "data = pd.DataFrame([id_list, title_list, genre_list, thumbnail_list]) # 1986개의 데이터"
      ],
      "metadata": {
        "id": "7mOfmX06H74C"
      },
      "execution_count": null,
      "outputs": []
    },
    {
      "cell_type": "code",
      "source": [
        "data.T.to_csv(\"finish_data2.csv\", encoding = 'cp949')"
      ],
      "metadata": {
        "id": "HQbF5lbtH70A"
      },
      "execution_count": null,
      "outputs": []
    },
    {
      "cell_type": "markdown",
      "source": [
        "두 데이터프레임 합치기"
      ],
      "metadata": {
        "id": "sN682e9TKUoE"
      }
    },
    {
      "cell_type": "code",
      "source": [
        "df1 = pd.read_csv('data.csv', encoding = 'cp949', index_col = 0)\n",
        "df2 = pd.read_csv('finish_data2.csv', encoding = 'cp949', idnex_col = 0)"
      ],
      "metadata": {
        "id": "3F404TcBH7VA"
      },
      "execution_count": null,
      "outputs": []
    },
    {
      "cell_type": "code",
      "source": [
        "df1.drop('0', axis = 1, inplace = True)\n",
        "df2.drop('0', axis = 1, inplace = True)"
      ],
      "metadata": {
        "id": "bEJPwWZJKXGa"
      },
      "execution_count": null,
      "outputs": []
    },
    {
      "cell_type": "code",
      "source": [
        "df1.columns = ['title', 'genre', 'thumbnail']\n",
        "df2.columns = ['title', 'genre', 'thumbnail']"
      ],
      "metadata": {
        "id": "Gq17yXVyKXI0"
      },
      "execution_count": null,
      "outputs": []
    },
    {
      "cell_type": "code",
      "source": [
        "df = pd.concat([df1, df2], axis = 0)"
      ],
      "metadata": {
        "id": "7W2ns4inKXLf"
      },
      "execution_count": null,
      "outputs": []
    },
    {
      "cell_type": "code",
      "source": [
        "df.to_csv('df.csv', encoding = 'utf-8')"
      ],
      "metadata": {
        "id": "3DMt27JEKXbh"
      },
      "execution_count": null,
      "outputs": []
    },
    {
      "cell_type": "markdown",
      "source": [
        "# df 불러오기\n",
        "\n"
      ],
      "metadata": {
        "id": "ih3cAu_zJYPl"
      }
    },
    {
      "cell_type": "code",
      "source": [
        "from google.colab import drive\n",
        "drive.mount('/content/drive')"
      ],
      "metadata": {
        "colab": {
          "base_uri": "https://localhost:8080/"
        },
        "id": "fC2EBz-WK63E",
        "outputId": "7c098116-4a21-4bcf-e3c0-b2ed55e996ad"
      },
      "execution_count": null,
      "outputs": [
        {
          "output_type": "stream",
          "name": "stdout",
          "text": [
            "Mounted at /content/drive\n"
          ]
        }
      ]
    },
    {
      "cell_type": "code",
      "source": [
        "import pandas as pd"
      ],
      "metadata": {
        "id": "T_pAJpzeEs6W"
      },
      "execution_count": null,
      "outputs": []
    },
    {
      "cell_type": "code",
      "source": [
        "data = pd.read_csv('/content/drive/MyDrive/Project/blockchain_deeplearning/df.csv', encoding = 'utf-8', index_col = 0)\n",
        "data = data.reset_index()"
      ],
      "metadata": {
        "id": "Oj1jKfAkEvUJ"
      },
      "execution_count": null,
      "outputs": []
    },
    {
      "cell_type": "code",
      "source": [
        "data"
      ],
      "metadata": {
        "id": "FKpR-WaUFHbg",
        "colab": {
          "base_uri": "https://localhost:8080/",
          "height": 424
        },
        "outputId": "8c5cac22-55f1-4aeb-dc8e-c02a2fb33d59"
      },
      "execution_count": null,
      "outputs": [
        {
          "output_type": "execute_result",
          "data": {
            "text/plain": [
              "      index    title      genre  \\\n",
              "0         0      참교육    스토리, 액션   \n",
              "1         1  쇼미더럭키짱!   에피소드, 액션   \n",
              "2         2  뷰티풀 군바리   스토리, 드라마   \n",
              "3         3     신의 탑   스토리, 판타지   \n",
              "4         4  퀘스트지상주의   스토리, 드라마   \n",
              "...     ...      ...        ...   \n",
              "2510   1981       AA   스토리, 로맨스   \n",
              "2511   1982     사랑in  옴니버스, 로맨스   \n",
              "2512   1983       까뱅   에피소드, 개그   \n",
              "2513   1984      와탕카   에피소드, 개그   \n",
              "2514   1985       타투  옴니버스, 드라마   \n",
              "\n",
              "                                              thumbnail  \n",
              "0     https://shared-comic.pstatic.net/thumb/webtoon...  \n",
              "1     https://shared-comic.pstatic.net/thumb/webtoon...  \n",
              "2     https://shared-comic.pstatic.net/thumb/webtoon...  \n",
              "3     https://shared-comic.pstatic.net/thumb/webtoon...  \n",
              "4     https://shared-comic.pstatic.net/thumb/webtoon...  \n",
              "...                                                 ...  \n",
              "2510  https://shared-comic.pstatic.net/thumb/webtoon...  \n",
              "2511  https://shared-comic.pstatic.net/thumb/webtoon...  \n",
              "2512  https://shared-comic.pstatic.net/thumb/webtoon...  \n",
              "2513  https://shared-comic.pstatic.net/thumb/webtoon...  \n",
              "2514  https://shared-comic.pstatic.net/thumb/webtoon...  \n",
              "\n",
              "[2515 rows x 4 columns]"
            ],
            "text/html": [
              "\n",
              "  <div id=\"df-02465e8b-97c6-4fb3-a646-ea8b20c9fe76\">\n",
              "    <div class=\"colab-df-container\">\n",
              "      <div>\n",
              "<style scoped>\n",
              "    .dataframe tbody tr th:only-of-type {\n",
              "        vertical-align: middle;\n",
              "    }\n",
              "\n",
              "    .dataframe tbody tr th {\n",
              "        vertical-align: top;\n",
              "    }\n",
              "\n",
              "    .dataframe thead th {\n",
              "        text-align: right;\n",
              "    }\n",
              "</style>\n",
              "<table border=\"1\" class=\"dataframe\">\n",
              "  <thead>\n",
              "    <tr style=\"text-align: right;\">\n",
              "      <th></th>\n",
              "      <th>index</th>\n",
              "      <th>title</th>\n",
              "      <th>genre</th>\n",
              "      <th>thumbnail</th>\n",
              "    </tr>\n",
              "  </thead>\n",
              "  <tbody>\n",
              "    <tr>\n",
              "      <th>0</th>\n",
              "      <td>0</td>\n",
              "      <td>참교육</td>\n",
              "      <td>스토리, 액션</td>\n",
              "      <td>https://shared-comic.pstatic.net/thumb/webtoon...</td>\n",
              "    </tr>\n",
              "    <tr>\n",
              "      <th>1</th>\n",
              "      <td>1</td>\n",
              "      <td>쇼미더럭키짱!</td>\n",
              "      <td>에피소드, 액션</td>\n",
              "      <td>https://shared-comic.pstatic.net/thumb/webtoon...</td>\n",
              "    </tr>\n",
              "    <tr>\n",
              "      <th>2</th>\n",
              "      <td>2</td>\n",
              "      <td>뷰티풀 군바리</td>\n",
              "      <td>스토리, 드라마</td>\n",
              "      <td>https://shared-comic.pstatic.net/thumb/webtoon...</td>\n",
              "    </tr>\n",
              "    <tr>\n",
              "      <th>3</th>\n",
              "      <td>3</td>\n",
              "      <td>신의 탑</td>\n",
              "      <td>스토리, 판타지</td>\n",
              "      <td>https://shared-comic.pstatic.net/thumb/webtoon...</td>\n",
              "    </tr>\n",
              "    <tr>\n",
              "      <th>4</th>\n",
              "      <td>4</td>\n",
              "      <td>퀘스트지상주의</td>\n",
              "      <td>스토리, 드라마</td>\n",
              "      <td>https://shared-comic.pstatic.net/thumb/webtoon...</td>\n",
              "    </tr>\n",
              "    <tr>\n",
              "      <th>...</th>\n",
              "      <td>...</td>\n",
              "      <td>...</td>\n",
              "      <td>...</td>\n",
              "      <td>...</td>\n",
              "    </tr>\n",
              "    <tr>\n",
              "      <th>2510</th>\n",
              "      <td>1981</td>\n",
              "      <td>AA</td>\n",
              "      <td>스토리, 로맨스</td>\n",
              "      <td>https://shared-comic.pstatic.net/thumb/webtoon...</td>\n",
              "    </tr>\n",
              "    <tr>\n",
              "      <th>2511</th>\n",
              "      <td>1982</td>\n",
              "      <td>사랑in</td>\n",
              "      <td>옴니버스, 로맨스</td>\n",
              "      <td>https://shared-comic.pstatic.net/thumb/webtoon...</td>\n",
              "    </tr>\n",
              "    <tr>\n",
              "      <th>2512</th>\n",
              "      <td>1983</td>\n",
              "      <td>까뱅</td>\n",
              "      <td>에피소드, 개그</td>\n",
              "      <td>https://shared-comic.pstatic.net/thumb/webtoon...</td>\n",
              "    </tr>\n",
              "    <tr>\n",
              "      <th>2513</th>\n",
              "      <td>1984</td>\n",
              "      <td>와탕카</td>\n",
              "      <td>에피소드, 개그</td>\n",
              "      <td>https://shared-comic.pstatic.net/thumb/webtoon...</td>\n",
              "    </tr>\n",
              "    <tr>\n",
              "      <th>2514</th>\n",
              "      <td>1985</td>\n",
              "      <td>타투</td>\n",
              "      <td>옴니버스, 드라마</td>\n",
              "      <td>https://shared-comic.pstatic.net/thumb/webtoon...</td>\n",
              "    </tr>\n",
              "  </tbody>\n",
              "</table>\n",
              "<p>2515 rows × 4 columns</p>\n",
              "</div>\n",
              "      <button class=\"colab-df-convert\" onclick=\"convertToInteractive('df-02465e8b-97c6-4fb3-a646-ea8b20c9fe76')\"\n",
              "              title=\"Convert this dataframe to an interactive table.\"\n",
              "              style=\"display:none;\">\n",
              "        \n",
              "  <svg xmlns=\"http://www.w3.org/2000/svg\" height=\"24px\"viewBox=\"0 0 24 24\"\n",
              "       width=\"24px\">\n",
              "    <path d=\"M0 0h24v24H0V0z\" fill=\"none\"/>\n",
              "    <path d=\"M18.56 5.44l.94 2.06.94-2.06 2.06-.94-2.06-.94-.94-2.06-.94 2.06-2.06.94zm-11 1L8.5 8.5l.94-2.06 2.06-.94-2.06-.94L8.5 2.5l-.94 2.06-2.06.94zm10 10l.94 2.06.94-2.06 2.06-.94-2.06-.94-.94-2.06-.94 2.06-2.06.94z\"/><path d=\"M17.41 7.96l-1.37-1.37c-.4-.4-.92-.59-1.43-.59-.52 0-1.04.2-1.43.59L10.3 9.45l-7.72 7.72c-.78.78-.78 2.05 0 2.83L4 21.41c.39.39.9.59 1.41.59.51 0 1.02-.2 1.41-.59l7.78-7.78 2.81-2.81c.8-.78.8-2.07 0-2.86zM5.41 20L4 18.59l7.72-7.72 1.47 1.35L5.41 20z\"/>\n",
              "  </svg>\n",
              "      </button>\n",
              "      \n",
              "  <style>\n",
              "    .colab-df-container {\n",
              "      display:flex;\n",
              "      flex-wrap:wrap;\n",
              "      gap: 12px;\n",
              "    }\n",
              "\n",
              "    .colab-df-convert {\n",
              "      background-color: #E8F0FE;\n",
              "      border: none;\n",
              "      border-radius: 50%;\n",
              "      cursor: pointer;\n",
              "      display: none;\n",
              "      fill: #1967D2;\n",
              "      height: 32px;\n",
              "      padding: 0 0 0 0;\n",
              "      width: 32px;\n",
              "    }\n",
              "\n",
              "    .colab-df-convert:hover {\n",
              "      background-color: #E2EBFA;\n",
              "      box-shadow: 0px 1px 2px rgba(60, 64, 67, 0.3), 0px 1px 3px 1px rgba(60, 64, 67, 0.15);\n",
              "      fill: #174EA6;\n",
              "    }\n",
              "\n",
              "    [theme=dark] .colab-df-convert {\n",
              "      background-color: #3B4455;\n",
              "      fill: #D2E3FC;\n",
              "    }\n",
              "\n",
              "    [theme=dark] .colab-df-convert:hover {\n",
              "      background-color: #434B5C;\n",
              "      box-shadow: 0px 1px 3px 1px rgba(0, 0, 0, 0.15);\n",
              "      filter: drop-shadow(0px 1px 2px rgba(0, 0, 0, 0.3));\n",
              "      fill: #FFFFFF;\n",
              "    }\n",
              "  </style>\n",
              "\n",
              "      <script>\n",
              "        const buttonEl =\n",
              "          document.querySelector('#df-02465e8b-97c6-4fb3-a646-ea8b20c9fe76 button.colab-df-convert');\n",
              "        buttonEl.style.display =\n",
              "          google.colab.kernel.accessAllowed ? 'block' : 'none';\n",
              "\n",
              "        async function convertToInteractive(key) {\n",
              "          const element = document.querySelector('#df-02465e8b-97c6-4fb3-a646-ea8b20c9fe76');\n",
              "          const dataTable =\n",
              "            await google.colab.kernel.invokeFunction('convertToInteractive',\n",
              "                                                     [key], {});\n",
              "          if (!dataTable) return;\n",
              "\n",
              "          const docLinkHtml = 'Like what you see? Visit the ' +\n",
              "            '<a target=\"_blank\" href=https://colab.research.google.com/notebooks/data_table.ipynb>data table notebook</a>'\n",
              "            + ' to learn more about interactive tables.';\n",
              "          element.innerHTML = '';\n",
              "          dataTable['output_type'] = 'display_data';\n",
              "          await google.colab.output.renderOutput(dataTable, element);\n",
              "          const docLink = document.createElement('div');\n",
              "          docLink.innerHTML = docLinkHtml;\n",
              "          element.appendChild(docLink);\n",
              "        }\n",
              "      </script>\n",
              "    </div>\n",
              "  </div>\n",
              "  "
            ]
          },
          "metadata": {},
          "execution_count": 4
        }
      ]
    },
    {
      "cell_type": "code",
      "source": [
        "df = data"
      ],
      "metadata": {
        "id": "JlM-EPtKJ5Fw"
      },
      "execution_count": null,
      "outputs": []
    },
    {
      "cell_type": "markdown",
      "source": [
        "# 이미지 보여주기"
      ],
      "metadata": {
        "id": "2yyY4r6rJfsh"
      }
    },
    {
      "cell_type": "code",
      "execution_count": null,
      "metadata": {
        "id": "oA_xplVrEkRe",
        "colab": {
          "base_uri": "https://localhost:8080/"
        },
        "outputId": "2777ad8b-3475-477b-f081-ae7fbfe134d6"
      },
      "outputs": [
        {
          "output_type": "stream",
          "name": "stdout",
          "text": [
            "1.0720210075378418\n"
          ]
        }
      ],
      "source": [
        "import requests\n",
        "from io import BytesIO\n",
        "from PIL import Image\n",
        "import time\n",
        "\n",
        "# 다운받을 이미지 url\n",
        "url = data['thumbnail'][0]\n",
        "\n",
        "# time check\n",
        "start = time.time()\n",
        "\n",
        "# request.get 요청\n",
        "res = requests.get(url)\n",
        "\n",
        "# 이미지 다운로드 시간 체크\n",
        "print(time.time() - start)\n",
        "\n",
        "#Img open\n",
        "request_get_img = Image.open(BytesIO(res.content))"
      ]
    },
    {
      "cell_type": "code",
      "source": [
        "request_get_img"
      ],
      "metadata": {
        "id": "UPVYikWUFmA9",
        "colab": {
          "base_uri": "https://localhost:8080/",
          "height": 118
        },
        "outputId": "802e70be-87a5-4be5-e7e4-7fc6482443f2"
      },
      "execution_count": null,
      "outputs": [
        {
          "output_type": "execute_result",
          "data": {
            "text/plain": [
              "<PIL.JpegImagePlugin.JpegImageFile image mode=RGB size=125x101 at 0x7F110245ECD0>"
            ],
            "image/png": "[encoded data removed]"
          },
          "metadata": {},
          "execution_count": 13
        }
      ]
    },
    {
      "cell_type": "code",
      "source": [
        "imag1_size = request_get_img.size\n",
        "\n",
        "print(imag1_size)"
      ],
      "metadata": {
        "id": "65QIOo9vHcZX",
        "colab": {
          "base_uri": "https://localhost:8080/"
        },
        "outputId": "02ebe497-4b44-44ba-dc55-ed9807bdeb69"
      },
      "execution_count": null,
      "outputs": [
        {
          "output_type": "stream",
          "name": "stdout",
          "text": [
            "(125, 101)\n"
          ]
        }
      ]
    },
    {
      "cell_type": "markdown",
      "source": [
        "# 전처리"
      ],
      "metadata": {
        "id": "mOYStZvAmrax"
      }
    },
    {
      "cell_type": "markdown",
      "source": [
        "## 장르 정리"
      ],
      "metadata": {
        "id": "lpNZBfumdE-1"
      }
    },
    {
      "cell_type": "code",
      "source": [
        "data['genre'].value_counts()"
      ],
      "metadata": {
        "colab": {
          "base_uri": "https://localhost:8080/"
        },
        "id": "JGNHYRy4tArt",
        "outputId": "08c6bb69-6d30-42b0-9ea8-8aee989a2159"
      },
      "execution_count": null,
      "outputs": [
        {
          "output_type": "execute_result",
          "data": {
            "text/plain": [
              "스토리, 로맨스       502\n",
              "스토리, 드라마       485\n",
              "스토리, 판타지       422\n",
              "스토리, 스릴러       273\n",
              "스토리, 액션        178\n",
              "스토리, 개그         98\n",
              "에피소드, 일상        83\n",
              "에피소드, 개그        71\n",
              "에피소드, 드라마       67\n",
              "옴니버스, 스릴러       40\n",
              "옴니버스, 드라마       35\n",
              "스토리, 무협/사극      31\n",
              "스토리, 감성         30\n",
              "에피소드, 로맨스       25\n",
              "스토리, 스포츠        25\n",
              "옴니버스, 개그        25\n",
              "옴니버스, 판타지       21\n",
              "에피소드, 감성        20\n",
              "옴니버스, 일상        19\n",
              "에피소드, 액션        17\n",
              "에피소드, 스릴러       15\n",
              "스토리, 일상         11\n",
              "에피소드, 판타지        8\n",
              "옴니버스, 로맨스        6\n",
              "에피소드, 스포츠        2\n",
              "에피소드, 무협/사극      2\n",
              "옴니버스, 감성         2\n",
              "옴니버스, 액션         1\n",
              "옴니버스, 스포츠        1\n",
              "Name: genre, dtype: int64"
            ]
          },
          "metadata": {},
          "execution_count": 5
        }
      ]
    },
    {
      "cell_type": "code",
      "source": [
        "data['genre'] = data['genre'].apply(lambda x : x.split(',')[1].strip())"
      ],
      "metadata": {
        "id": "Tda2jPgbtB_0"
      },
      "execution_count": null,
      "outputs": []
    },
    {
      "cell_type": "code",
      "source": [
        "data['genre'].value_counts()"
      ],
      "metadata": {
        "colab": {
          "base_uri": "https://localhost:8080/"
        },
        "id": "8IREjhEKtCBf",
        "outputId": "4bfcba0e-bb21-410e-e87c-7ee279015a27"
      },
      "execution_count": null,
      "outputs": [
        {
          "output_type": "execute_result",
          "data": {
            "text/plain": [
              "드라마      587\n",
              "로맨스      533\n",
              "판타지      451\n",
              "스릴러      328\n",
              "액션       196\n",
              "개그       194\n",
              "일상       113\n",
              "감성        52\n",
              "무협/사극     33\n",
              "스포츠       28\n",
              "Name: genre, dtype: int64"
            ]
          },
          "metadata": {},
          "execution_count": 7
        }
      ]
    },
    {
      "cell_type": "markdown",
      "source": [
        "## 데이터 폴더 생성"
      ],
      "metadata": {
        "id": "U9QVIhTbFnCQ"
      }
    },
    {
      "cell_type": "markdown",
      "source": [
        "### 데이터 다운받기"
      ],
      "metadata": {
        "id": "LkJHdZlXVrRO"
      }
    },
    {
      "cell_type": "code",
      "source": [
        "# 폴더 생성 함수\n",
        "\n",
        "import os\n",
        " \n",
        "def createFolder(directory):\n",
        "    try:\n",
        "        if not os.path.exists(directory):\n",
        "            os.makedirs(directory)\n",
        "    except OSError:\n",
        "        print ('Error: Creating directory. ' +  directory)"
      ],
      "metadata": {
        "id": "u3DddJfk-ri-"
      },
      "execution_count": null,
      "outputs": []
    },
    {
      "cell_type": "code",
      "source": [
        "genre_k = list(data['genre'].value_counts().index)"
      ],
      "metadata": {
        "id": "xyExZbdyw7es"
      },
      "execution_count": null,
      "outputs": []
    },
    {
      "cell_type": "code",
      "source": [
        "genre_k"
      ],
      "metadata": {
        "colab": {
          "base_uri": "https://localhost:8080/"
        },
        "id": "kviixry-xBPj",
        "outputId": "5c381b50-1f52-400b-f4ac-a544c1d1e1e8"
      },
      "execution_count": null,
      "outputs": [
        {
          "output_type": "execute_result",
          "data": {
            "text/plain": [
              "['드라마', '로맨스', '판타지', '스릴러', '액션', '개그', '일상', '감성', '무협/사극', '스포츠']"
            ]
          },
          "metadata": {},
          "execution_count": 33
        }
      ]
    },
    {
      "cell_type": "code",
      "source": [
        "genre = [\"Drama\", \"Romance\", \"Fantasy\", \"Thriller\", \"Action\", \"Joke\", \"Daily\", \"Sentiment\", \"Historical\", \"Sports\"]"
      ],
      "metadata": {
        "id": "PMvm2nYBxJBz"
      },
      "execution_count": null,
      "outputs": []
    },
    {
      "cell_type": "code",
      "source": [
        "createFolder('/content/drive/MyDrive/Project/blockchain_deeplearning/data')\n",
        "for i in [genre] : \n",
        "  createFolder('/content/drive/MyDrive/Project/blockchain_deeplearning/data/{}'.format(i))"
      ],
      "metadata": {
        "id": "nyF1BntlG4bX"
      },
      "execution_count": null,
      "outputs": []
    },
    {
      "cell_type": "code",
      "source": [
        "from pandas.core.groupby.generic import DataFrameGroupBy\n",
        "import requests\n",
        "from io import BytesIO\n",
        "from PIL import Image\n",
        "from tqdm import tqdm\n",
        "\n",
        "def img_save(data) : \n",
        "  for i in tqdm(range(len(data))) : \n",
        "    res = requests.get(data['thumbnail'][i])\n",
        "    img = Image.open(BytesIO(res.content))\n",
        "    for k in range(len(genre_k)) : \n",
        "      if data['genre'][i] == genre_k[k] : \n",
        "        img.save('/content/drive/MyDrive/Project/blockchain_deeplearning/data/{}/{}.png'.format(genre[k], str(i)))\n",
        "        break"
      ],
      "metadata": {
        "id": "-GCTPb_E-srg"
      },
      "execution_count": null,
      "outputs": []
    },
    {
      "cell_type": "code",
      "source": [
        "img_save(data)"
      ],
      "metadata": {
        "colab": {
          "base_uri": "https://localhost:8080/"
        },
        "id": "Esg42LVzDgVE",
        "outputId": "eff5256e-1092-4952-e1f9-7602bd41ac5d"
      },
      "execution_count": null,
      "outputs": [
        {
          "output_type": "stream",
          "name": "stderr",
          "text": [
            "100%|██████████| 2515/2515 [28:00<00:00,  1.50it/s]\n"
          ]
        }
      ]
    },
    {
      "cell_type": "markdown",
      "source": [
        "### train, validation, test 데이터 나누기"
      ],
      "metadata": {
        "id": "hLGBURYVKBOB"
      }
    },
    {
      "cell_type": "code",
      "source": [
        "createFolder('/content/drive/MyDrive/Project/blockchain_deeplearning/dataset/train')\n",
        "createFolder('/content/drive/MyDrive/Project/blockchain_deeplearning/dataset/valid')\n",
        "createFolder('/content/drive/MyDrive/Project/blockchain_deeplearning/dataset/test')"
      ],
      "metadata": {
        "id": "K9mhVocs0fUm"
      },
      "execution_count": null,
      "outputs": []
    },
    {
      "cell_type": "code",
      "source": [
        "createFolder('/content/drive/MyDrive/Project/blockchain_deeplearning/dataset/train/0')\n",
        "createFolder('/content/drive/MyDrive/Project/blockchain_deeplearning/dataset/train/1')\n",
        "createFolder('/content/drive/MyDrive/Project/blockchain_deeplearning/dataset/valid/0')\n",
        "createFolder('/content/drive/MyDrive/Project/blockchain_deeplearning/dataset/valid/1')\n",
        "createFolder('/content/drive/MyDrive/Project/blockchain_deeplearning/dataset/test/0')\n",
        "createFolder('/content/drive/MyDrive/Project/blockchain_deeplearning/dataset/test/1')"
      ],
      "metadata": {
        "id": "lQ9QsR3C-s7n"
      },
      "execution_count": null,
      "outputs": []
    },
    {
      "cell_type": "markdown",
      "source": [
        "* 자극적인 : 0, Thriller, Action, Historical\n",
        "* 자극적이지않은 : 1, Drama, Romance, Fantasy, Joker, Daily, Sentiment, Sports"
      ],
      "metadata": {
        "id": "1jI_b0Pd9ejf"
      }
    },
    {
      "cell_type": "code",
      "source": [
        "genre = [\"Drama\", \"Romance\", \"Fantasy\", \"Thriller\", \"Action\", \"Joke\", \"Daily\", \"Sentiment\", \"Historical\", \"Sports\"]"
      ],
      "metadata": {
        "id": "yIktQfIR51UK"
      },
      "execution_count": null,
      "outputs": []
    },
    {
      "cell_type": "code",
      "source": [
        "import glob\n",
        "import shutil\n",
        "from tqdm import tqdm\n",
        "\n",
        "for k in ['Thriller', 'Action', 'Historical'] : \n",
        "  png_lists = glob.glob('/content/drive/MyDrive/Project/blockchain_deeplearning/data/{}/*.png'.format(k))\n",
        "  counts = len(png_lists)\n",
        "  train_len = len(counts * 0.8)\n",
        "  valid_len = len(counts * 0.1)\n",
        "  test_len = counts - train_len - valid_len\n",
        "\n",
        "  for i in range(train_len) : \n",
        "    filename = png_lists[i].split('/')[-1]\n",
        "    src = '/content/drive/MyDrive/Project/blockchain_deeplearning/data/{}/'.format(k)\n",
        "    dir = '/content/drive/MyDrive/Project/blockchain_deeplearning/dataset/train/0/'\n",
        "    shutil.move(src+filename, dir+filename)\n",
        "\n",
        "  png_lists = glob.glob('/content/drive/MyDrive/Project/blockchain_deeplearning/data/{}/*.png'.format(k))\n",
        "  for i in range(valid_len) : \n",
        "    filename = png_lists[i].split('/')[-1]\n",
        "    src = '/content/drive/MyDrive/Project/blockchain_deeplearning/data/{}/'.format(k)\n",
        "    dir = '/content/drive/MyDrive/Project/blockchain_deeplearning/dataset/valid/0/'\n",
        "    shutil.move(src+filename, dir+filename)\n",
        "\n",
        "  png_lists = glob.glob('/content/drive/MyDrive/Project/blockchain_deeplearning/data/{}/*.png'.format(k))\n",
        "  for i in range(test_len) : \n",
        "      filename = png_lists[i].split('/')[-1]\n",
        "      src = '/content/drive/MyDrive/Project/blockchain_deeplearning/data/{}/'.format(k)\n",
        "      dir = '/content/drive/MyDrive/Project/blockchain_deeplearning/dataset/test/0/'\n",
        "      shutil.move(src+filename, dir+filename)\n",
        "\n",
        "\n",
        "train_count = 0\n",
        "valid_count = 0\n",
        "test_count = 0\n",
        "\n",
        "for k in [\"Drama\", \"Romance\", \"Fantasy\", \"Joke\", \"Daily\", \"Sentiment\", \"Sports\"] : \n",
        "  png_lists = glob.glob('/content/drive/MyDrive/Project/blockchain_deeplearning/data/{}/*.png'.format(k))\n",
        "  counts = len(png_lists)\n",
        "  train_len = len(counts * 0.8)\n",
        "  valid_len = len(counts * 0.1)\n",
        "  test_len = counts - train_len - valid_len\n",
        "\n",
        "  for i in range(train_len) : \n",
        "    if train_count>=470 : \n",
        "      break\n",
        "    filename = png_lists[i].split('/')[-1]\n",
        "    src = '/content/drive/MyDrive/Project/blockchain_deeplearning/data/{}/'.format(k)\n",
        "    dir = '/content/drive/MyDrive/Project/blockchain_deeplearning/dataset/train/1/'\n",
        "    shutil.move(src+filename, dir+filename)\n",
        "    train_count +=1\n",
        "\n",
        "  png_lists = glob.glob('/content/drive/MyDrive/Project/blockchain_deeplearning/data/{}/*.png'.format(k))\n",
        "  for i in range(valid_len) :\n",
        "    if valid_count>=60 : \n",
        "      break \n",
        "    filename = png_lists[i].split('/')[-1]\n",
        "    src = '/content/drive/MyDrive/Project/blockchain_deeplearning/data/{}/'.format(k)\n",
        "    dir = '/content/drive/MyDrive/Project/blockchain_deeplearning/dataset/valid/1/'\n",
        "    shutil.move(src+filename, dir+filename)\n",
        "    valid_count+=1\n",
        "    \n",
        "  png_lists = glob.glob('/content/drive/MyDrive/Project/blockchain_deeplearning/data/{}/*.png'.format(k))\n",
        "  for i in range(test_len) : \n",
        "    if test_count>=60 : \n",
        "      break\n",
        "    filename = png_lists[i].split('/')[-1]\n",
        "    src = '/content/drive/MyDrive/Project/blockchain_deeplearning/data/{}/'.format(k)\n",
        "    dir = '/content/drive/MyDrive/Project/blockchain_deeplearning/dataset/test/1/'\n",
        "    shutil.move(src+filename, dir+filename)\n",
        "    test_count+=1"
      ],
      "metadata": {
        "id": "gkaEDn00TVFH"
      },
      "execution_count": null,
      "outputs": []
    },
    {
      "cell_type": "markdown",
      "source": [
        "## input data 조정"
      ],
      "metadata": {
        "id": "uW4JAtArfbDp"
      }
    },
    {
      "cell_type": "code",
      "source": [
        "genre = ['0', '1']"
      ],
      "metadata": {
        "id": "rBQV8ICT4CnG"
      },
      "execution_count": null,
      "outputs": []
    },
    {
      "cell_type": "code",
      "source": [
        "dst_path = '/content/drive/MyDrive/Project/blockchain_deeplearning/dataset'"
      ],
      "metadata": {
        "id": "kFj5qIpTJR0O"
      },
      "execution_count": null,
      "outputs": []
    },
    {
      "cell_type": "code",
      "source": [
        "import os\n",
        "for i in genre : \n",
        "  train_dir = os.path.join(dst_path, 'train/{}'.format(i))\n",
        "  print('total training {} images:'.format(i), len(os.listdir(train_dir)))\n",
        "\n",
        "for i in genre : \n",
        "  validation_dir = os.path.join(dst_path, 'valid/{}'.format(i))\n",
        "  print('total validation {} images:'.format(i), len(os.listdir(validation_dir)))\n",
        "\n",
        "for i in genre : \n",
        "  test_dir = os.path.join(dst_path, 'test/{}'.format(i))\n",
        "  print('total test {} images:'.format(i), len(os.listdir(test_dir)))\n"
      ],
      "metadata": {
        "colab": {
          "base_uri": "https://localhost:8080/"
        },
        "id": "2X7KqpOeKJSY",
        "outputId": "77167e6f-3934-4175-fe25-fe9213ef50c1"
      },
      "execution_count": null,
      "outputs": [
        {
          "output_type": "stream",
          "name": "stdout",
          "text": [
            "total training 0 images: 444\n",
            "total training 1 images: 469\n",
            "total validation 0 images: 56\n",
            "total validation 1 images: 59\n",
            "total test 0 images: 57\n",
            "total test 1 images: 59\n"
          ]
        }
      ]
    },
    {
      "cell_type": "code",
      "source": [
        "from tensorflow.keras.preprocessing.image import ImageDataGenerator\n",
        "\n",
        "train_dir = os.path.join(dst_path, 'train')\n",
        "validation_dir = os.path.join(dst_path, 'valid')\n",
        "test_dir = os.path.join(dst_path, 'test')\n",
        "\n",
        "# 0~1 사이 값으로 만든다\n",
        "train_datagen = ImageDataGenerator(rescale=1./255,\n",
        "                                   rotation_range=40,\n",
        "                                   width_shift_range=0.2,\n",
        "                                   height_shift_range=0.2,\n",
        "                                   shear_range=0.2,\n",
        "                                   zoom_range=0.2,\n",
        "                                   horizontal_flip=True,\n",
        "                                   fill_mode='nearest')  \n",
        "test_datagen = ImageDataGenerator(rescale=1./255)\n",
        "\n",
        "train_generator = train_datagen.flow_from_directory(train_dir,\n",
        "                                                    target_size=(150,150),   # 이 타겟 사이즈에 맞춰서 resize된다\n",
        "                                                    batch_size=20,\n",
        "                                                    class_mode='binary')\n",
        "\n",
        "validation_generator = test_datagen.flow_from_directory(validation_dir,\n",
        "                                                        target_size=(150,150),\n",
        "                                                        batch_size=20,\n",
        "                                                        class_mode='binary')\n",
        "\n",
        "test_generator = test_datagen.flow_from_directory(test_dir,\n",
        "                                                  target_size=(150,150),\n",
        "                                                  batch_size=20,\n",
        "                                                  class_mode='binary')"
      ],
      "metadata": {
        "colab": {
          "base_uri": "https://localhost:8080/"
        },
        "id": "4QUYgD3pKJYk",
        "outputId": "a67908df-226b-47ad-b640-2fdd26d6ce61"
      },
      "execution_count": null,
      "outputs": [
        {
          "output_type": "stream",
          "name": "stdout",
          "text": [
            "Found 913 images belonging to 2 classes.\n",
            "Found 115 images belonging to 2 classes.\n",
            "Found 116 images belonging to 2 classes.\n"
          ]
        }
      ]
    },
    {
      "cell_type": "code",
      "source": [
        "for data_batch, labels_batch in train_generator:\n",
        "  print('data batch shape:', data_batch.shape)\n",
        "  print('labels batch shape:', labels_batch.shape)\n",
        "  break"
      ],
      "metadata": {
        "colab": {
          "base_uri": "https://localhost:8080/"
        },
        "id": "ZIrn9S1VKJbH",
        "outputId": "14f57cf8-fcbf-4841-c80a-880c219796f3"
      },
      "execution_count": null,
      "outputs": [
        {
          "output_type": "stream",
          "name": "stdout",
          "text": [
            "data batch shape: (20, 150, 150, 3)\n",
            "labels batch shape: (20,)\n"
          ]
        }
      ]
    },
    {
      "cell_type": "markdown",
      "source": [
        "# CNN"
      ],
      "metadata": {
        "id": "HQ-fHzEBWUuz"
      }
    },
    {
      "cell_type": "code",
      "source": [
        "from tensorflow.keras import layers \n",
        "from tensorflow.keras import models\n",
        "from keras import regularizers\n",
        "\n",
        "model = models.Sequential() \n",
        "model.add(layers.Conv2D(32, (3, 3), activation='relu', input_shape=(150, 150, 3)))    # 컬러 이미지라서 input 3차원\n",
        "model.add(layers.MaxPooling2D((2, 2))) \n",
        "model.add(layers.Conv2D(64, (3, 3), activation='relu')) \n",
        "model.add(layers.MaxPooling2D((2, 2))) \n",
        "model.add(layers.Conv2D(128, (3, 3), activation='relu')) \n",
        "model.add(layers.MaxPooling2D((2, 2))) \n",
        "model.add(layers.Conv2D(128, (3, 3), activation='relu')) \n",
        "model.add(layers.MaxPooling2D((2, 2))) \n",
        "model.add(layers.Flatten()) \n",
        "model.add(layers.Dense(128,kernel_regularizer=regularizers.l2(0.005), activation='relu'))\n",
        "model.add(layers.Dense(1, activation='sigmoid'))\n",
        "# 요즘은 Fully Connected Layer 안쓰고\n",
        "# 이 모델 구조 자체도 자동 제작되게 함"
      ],
      "metadata": {
        "id": "75kWDdAxTaqu"
      },
      "execution_count": null,
      "outputs": []
    },
    {
      "cell_type": "code",
      "source": [
        "model.summary()\n",
        "# 3211776 = 6272*512+512"
      ],
      "metadata": {
        "colab": {
          "base_uri": "https://localhost:8080/"
        },
        "id": "07TUEf4-Tas4",
        "outputId": "dfe41404-8735-40c1-8c13-d6e163efc350"
      },
      "execution_count": null,
      "outputs": [
        {
          "output_type": "stream",
          "name": "stdout",
          "text": [
            "Model: \"sequential\"\n",
            "_________________________________________________________________\n",
            " Layer (type)                Output Shape              Param #   \n",
            "=================================================================\n",
            " conv2d (Conv2D)             (None, 148, 148, 32)      896       \n",
            "                                                                 \n",
            " max_pooling2d (MaxPooling2D  (None, 74, 74, 32)       0         \n",
            " )                                                               \n",
            "                                                                 \n",
            " conv2d_1 (Conv2D)           (None, 72, 72, 64)        18496     \n",
            "                                                                 \n",
            " max_pooling2d_1 (MaxPooling  (None, 36, 36, 64)       0         \n",
            " 2D)                                                             \n",
            "                                                                 \n",
            " conv2d_2 (Conv2D)           (None, 34, 34, 128)       73856     \n",
            "                                                                 \n",
            " max_pooling2d_2 (MaxPooling  (None, 17, 17, 128)      0         \n",
            " 2D)                                                             \n",
            "                                                                 \n",
            " conv2d_3 (Conv2D)           (None, 15, 15, 128)       147584    \n",
            "                                                                 \n",
            " max_pooling2d_3 (MaxPooling  (None, 7, 7, 128)        0         \n",
            " 2D)                                                             \n",
            "                                                                 \n",
            " flatten (Flatten)           (None, 6272)              0         \n",
            "                                                                 \n",
            " dense (Dense)               (None, 128)               802944    \n",
            "                                                                 \n",
            " dense_1 (Dense)             (None, 1)                 129       \n",
            "                                                                 \n",
            "=================================================================\n",
            "Total params: 1,043,905\n",
            "Trainable params: 1,043,905\n",
            "Non-trainable params: 0\n",
            "_________________________________________________________________\n"
          ]
        }
      ]
    },
    {
      "cell_type": "code",
      "source": [
        "from tensorflow.keras import optimizers\n",
        "\n",
        "model.compile(loss='binary_crossentropy',\n",
        "              optimizer=optimizers.RMSprop(lr=1e-4),\n",
        "              metrics=['acc'])"
      ],
      "metadata": {
        "colab": {
          "base_uri": "https://localhost:8080/"
        },
        "id": "F0wlUGQQTavf",
        "outputId": "b95b79ec-96f4-479f-d2f9-7440ff54bea2"
      },
      "execution_count": null,
      "outputs": [
        {
          "output_type": "stream",
          "name": "stderr",
          "text": [
            "/usr/local/lib/python3.7/dist-packages/keras/optimizer_v2/rmsprop.py:130: UserWarning: The `lr` argument is deprecated, use `learning_rate` instead.\n",
            "  super(RMSprop, self).__init__(name, **kwargs)\n"
          ]
        }
      ]
    },
    {
      "cell_type": "code",
      "source": [
        "history = model.fit(train_generator,\n",
        "                    steps_per_epoch=45, # 한 에포크 정의 위해 몇 번의 iteration이 필요한지- 하나의 배치에서 20개씩 되어있으니까 2000개 만들려면 100번 수행해야 함  \n",
        "                    epochs=50,\n",
        "                    validation_data=validation_generator,\n",
        "                    validation_steps=5) "
      ],
      "metadata": {
        "colab": {
          "base_uri": "https://localhost:8080/"
        },
        "id": "_ydPEUA6KJgl",
        "outputId": "a9efad4b-aa1b-442a-f393-61cefd65171d"
      },
      "execution_count": null,
      "outputs": [
        {
          "output_type": "stream",
          "name": "stdout",
          "text": [
            "Epoch 1/50\n",
            "45/45 [==============================] - 261s 6s/step - loss: 1.6869 - acc: 0.5622 - val_loss: 1.4963 - val_acc: 0.6600\n",
            "Epoch 2/50\n",
            "45/45 [==============================] - 16s 345ms/step - loss: 1.3732 - acc: 0.6013 - val_loss: 1.2267 - val_acc: 0.6700\n",
            "Epoch 3/50\n",
            "45/45 [==============================] - 16s 343ms/step - loss: 1.1569 - acc: 0.6506 - val_loss: 1.0699 - val_acc: 0.6400\n",
            "Epoch 4/50\n",
            "45/45 [==============================] - 16s 346ms/step - loss: 1.0227 - acc: 0.6249 - val_loss: 1.0531 - val_acc: 0.5800\n",
            "Epoch 5/50\n",
            "45/45 [==============================] - 16s 346ms/step - loss: 0.9285 - acc: 0.6394 - val_loss: 0.8828 - val_acc: 0.6400\n",
            "Epoch 6/50\n",
            "45/45 [==============================] - 16s 357ms/step - loss: 0.8605 - acc: 0.6428 - val_loss: 0.8094 - val_acc: 0.6700\n",
            "Epoch 7/50\n",
            "45/45 [==============================] - 16s 345ms/step - loss: 0.8181 - acc: 0.6506 - val_loss: 0.7839 - val_acc: 0.6700\n",
            "Epoch 8/50\n",
            "45/45 [==============================] - 16s 346ms/step - loss: 0.7851 - acc: 0.6573 - val_loss: 0.7603 - val_acc: 0.6800\n",
            "Epoch 9/50\n",
            "45/45 [==============================] - 16s 345ms/step - loss: 0.7629 - acc: 0.6473 - val_loss: 0.7597 - val_acc: 0.6500\n",
            "Epoch 10/50\n",
            "45/45 [==============================] - 15s 341ms/step - loss: 0.7422 - acc: 0.6674 - val_loss: 0.7351 - val_acc: 0.6700\n",
            "Epoch 11/50\n",
            "45/45 [==============================] - 16s 350ms/step - loss: 0.7272 - acc: 0.6663 - val_loss: 0.7336 - val_acc: 0.6700\n",
            "Epoch 12/50\n",
            "45/45 [==============================] - 16s 347ms/step - loss: 0.7261 - acc: 0.6439 - val_loss: 0.6907 - val_acc: 0.6700\n",
            "Epoch 13/50\n",
            "45/45 [==============================] - 16s 345ms/step - loss: 0.7073 - acc: 0.6652 - val_loss: 0.7123 - val_acc: 0.6900\n",
            "Epoch 14/50\n",
            "45/45 [==============================] - 16s 353ms/step - loss: 0.6972 - acc: 0.6719 - val_loss: 0.7158 - val_acc: 0.6800\n",
            "Epoch 15/50\n",
            "45/45 [==============================] - 16s 343ms/step - loss: 0.6876 - acc: 0.6674 - val_loss: 0.6712 - val_acc: 0.6800\n",
            "Epoch 16/50\n",
            "45/45 [==============================] - 16s 344ms/step - loss: 0.6752 - acc: 0.6741 - val_loss: 0.6850 - val_acc: 0.6800\n",
            "Epoch 17/50\n",
            "45/45 [==============================] - 16s 346ms/step - loss: 0.6792 - acc: 0.6775 - val_loss: 0.7133 - val_acc: 0.6400\n",
            "Epoch 18/50\n",
            "45/45 [==============================] - 16s 347ms/step - loss: 0.6659 - acc: 0.6797 - val_loss: 0.6613 - val_acc: 0.6800\n",
            "Epoch 19/50\n",
            "45/45 [==============================] - 16s 347ms/step - loss: 0.6600 - acc: 0.6585 - val_loss: 0.7075 - val_acc: 0.5800\n",
            "Epoch 20/50\n",
            "45/45 [==============================] - 16s 348ms/step - loss: 0.6583 - acc: 0.6809 - val_loss: 0.6407 - val_acc: 0.7100\n",
            "Epoch 21/50\n",
            "45/45 [==============================] - 16s 345ms/step - loss: 0.6526 - acc: 0.6909 - val_loss: 0.6344 - val_acc: 0.7200\n",
            "Epoch 22/50\n",
            "45/45 [==============================] - 16s 347ms/step - loss: 0.6462 - acc: 0.6831 - val_loss: 0.6372 - val_acc: 0.6600\n",
            "Epoch 23/50\n",
            "45/45 [==============================] - 16s 344ms/step - loss: 0.6423 - acc: 0.6898 - val_loss: 0.6479 - val_acc: 0.7500\n",
            "Epoch 24/50\n",
            "45/45 [==============================] - 16s 345ms/step - loss: 0.6466 - acc: 0.6719 - val_loss: 0.6391 - val_acc: 0.6600\n",
            "Epoch 25/50\n",
            "45/45 [==============================] - 16s 349ms/step - loss: 0.6431 - acc: 0.6730 - val_loss: 0.6232 - val_acc: 0.6400\n",
            "Epoch 26/50\n",
            "45/45 [==============================] - 16s 346ms/step - loss: 0.6243 - acc: 0.6932 - val_loss: 0.6701 - val_acc: 0.6900\n",
            "Epoch 27/50\n",
            "45/45 [==============================] - 16s 348ms/step - loss: 0.6267 - acc: 0.6988 - val_loss: 0.6217 - val_acc: 0.6700\n",
            "Epoch 28/50\n",
            "45/45 [==============================] - 16s 346ms/step - loss: 0.6350 - acc: 0.6775 - val_loss: 0.6273 - val_acc: 0.7000\n",
            "Epoch 29/50\n",
            "45/45 [==============================] - 16s 344ms/step - loss: 0.6274 - acc: 0.6764 - val_loss: 0.6062 - val_acc: 0.7200\n",
            "Epoch 30/50\n",
            "45/45 [==============================] - 16s 346ms/step - loss: 0.6201 - acc: 0.6831 - val_loss: 0.7490 - val_acc: 0.5700\n",
            "Epoch 31/50\n",
            "45/45 [==============================] - 16s 346ms/step - loss: 0.6263 - acc: 0.6898 - val_loss: 0.6046 - val_acc: 0.7200\n",
            "Epoch 32/50\n",
            "45/45 [==============================] - 16s 348ms/step - loss: 0.6160 - acc: 0.6831 - val_loss: 0.6878 - val_acc: 0.6200\n",
            "Epoch 33/50\n",
            "45/45 [==============================] - 16s 346ms/step - loss: 0.6257 - acc: 0.6887 - val_loss: 0.5970 - val_acc: 0.7800\n",
            "Epoch 34/50\n",
            "45/45 [==============================] - 16s 348ms/step - loss: 0.6170 - acc: 0.6831 - val_loss: 0.6152 - val_acc: 0.6500\n",
            "Epoch 35/50\n",
            "45/45 [==============================] - 16s 344ms/step - loss: 0.6165 - acc: 0.7021 - val_loss: 0.6264 - val_acc: 0.7200\n",
            "Epoch 36/50\n",
            "45/45 [==============================] - 16s 348ms/step - loss: 0.6125 - acc: 0.6988 - val_loss: 0.6092 - val_acc: 0.7200\n",
            "Epoch 37/50\n",
            "45/45 [==============================] - 16s 345ms/step - loss: 0.6100 - acc: 0.6999 - val_loss: 0.6119 - val_acc: 0.7000\n",
            "Epoch 38/50\n",
            "45/45 [==============================] - 16s 351ms/step - loss: 0.6147 - acc: 0.6842 - val_loss: 0.5552 - val_acc: 0.7000\n",
            "Epoch 39/50\n",
            "45/45 [==============================] - 16s 344ms/step - loss: 0.5991 - acc: 0.6932 - val_loss: 0.6282 - val_acc: 0.7100\n",
            "Epoch 40/50\n",
            "45/45 [==============================] - 16s 347ms/step - loss: 0.6025 - acc: 0.6976 - val_loss: 0.6490 - val_acc: 0.6600\n",
            "Epoch 41/50\n",
            "45/45 [==============================] - 16s 355ms/step - loss: 0.6028 - acc: 0.6876 - val_loss: 0.5646 - val_acc: 0.7000\n",
            "Epoch 42/50\n",
            "45/45 [==============================] - 16s 347ms/step - loss: 0.6035 - acc: 0.7032 - val_loss: 0.5996 - val_acc: 0.6600\n",
            "Epoch 43/50\n",
            "45/45 [==============================] - 16s 345ms/step - loss: 0.6063 - acc: 0.7088 - val_loss: 0.6407 - val_acc: 0.6600\n",
            "Epoch 44/50\n",
            "45/45 [==============================] - 16s 349ms/step - loss: 0.5975 - acc: 0.7077 - val_loss: 0.5760 - val_acc: 0.6700\n",
            "Epoch 45/50\n",
            "45/45 [==============================] - 16s 348ms/step - loss: 0.5956 - acc: 0.6999 - val_loss: 0.6089 - val_acc: 0.6900\n",
            "Epoch 46/50\n",
            "45/45 [==============================] - 16s 345ms/step - loss: 0.5986 - acc: 0.7044 - val_loss: 0.5967 - val_acc: 0.7200\n",
            "Epoch 47/50\n",
            "45/45 [==============================] - 16s 343ms/step - loss: 0.6052 - acc: 0.6909 - val_loss: 0.5901 - val_acc: 0.7500\n",
            "Epoch 48/50\n",
            "45/45 [==============================] - 16s 350ms/step - loss: 0.6007 - acc: 0.7022 - val_loss: 0.6643 - val_acc: 0.6500\n",
            "Epoch 49/50\n",
            "45/45 [==============================] - 16s 342ms/step - loss: 0.6026 - acc: 0.6943 - val_loss: 0.5751 - val_acc: 0.7600\n",
            "Epoch 50/50\n",
            "45/45 [==============================] - 16s 346ms/step - loss: 0.5985 - acc: 0.6999 - val_loss: 0.6133 - val_acc: 0.6700\n"
          ]
        }
      ]
    },
    {
      "cell_type": "code",
      "source": [
        "model.save('/content/drive/MyDrive/Project/blockchain_deeplearning/1.h5')"
      ],
      "metadata": {
        "id": "LJPh6pa8Tk-w"
      },
      "execution_count": null,
      "outputs": []
    },
    {
      "cell_type": "code",
      "source": [
        "from keras.models import load_model\n",
        "model = load_model('/content/drive/MyDrive/Project/blockchain_deeplearning/1.h5')\n",
        "model.evaluate(test_generator)"
      ],
      "metadata": {
        "colab": {
          "base_uri": "https://localhost:8080/"
        },
        "id": "lKFsPgxzk03k",
        "outputId": "f80e42d5-e804-4197-8ce0-7275e40a6f0f"
      },
      "execution_count": null,
      "outputs": [
        {
          "output_type": "stream",
          "name": "stdout",
          "text": [
            "6/6 [==============================] - 53s 11s/step - loss: 0.5839 - acc: 0.7155\n"
          ]
        },
        {
          "output_type": "execute_result",
          "data": {
            "text/plain": [
              "[0.5838770866394043, 0.7155172228813171]"
            ]
          },
          "metadata": {},
          "execution_count": 19
        }
      ]
    },
    {
      "cell_type": "code",
      "source": [
        "import matplotlib.pyplot as plt\n",
        "\n",
        "acc = history.history['acc'] \n",
        "val_acc = history.history['val_acc'] \n",
        "loss = history.history['loss'] \n",
        "val_loss = history.history['val_loss']\n",
        "\n",
        "epochs = range(1, len(acc) + 1)\n",
        "\n",
        "plt.plot(epochs, acc, 'bo', label='Training acc') \n",
        "plt.plot(epochs, val_acc, 'b', label='Validation acc') \n",
        "plt.title('Training and validation accuracy') \n",
        "plt.legend()\n",
        "\n",
        "plt.figure()\n",
        "\n",
        "plt.plot(epochs, loss, 'bo', label='Training loss') \n",
        "plt.plot(epochs, val_loss, 'b', label='Validation loss') \n",
        "plt.title('Training and validation loss') \n",
        "plt.legend()\n",
        "\n",
        "plt.show()\n",
        "\n"
      ],
      "metadata": {
        "colab": {
          "base_uri": "https://localhost:8080/",
          "height": 545
        },
        "id": "fyT_ZPG_UM2S",
        "outputId": "c085b28f-457c-4d2b-ff71-8be6456f10fb"
      },
      "execution_count": null,
      "outputs": [
        {
          "output_type": "display_data",
          "data": {
            "text/plain": [
              "<Figure size 432x288 with 1 Axes>"
            ],
            "image/png": "[encoded data removed]"
          },
          "metadata": {
            "needs_background": "light"
          }
        },
        {
          "output_type": "display_data",
          "data": {
            "text/plain": [
              "<Figure size 432x288 with 1 Axes>"
            ],
            "image/png": "[encoded data removed]"
          },
          "metadata": {
            "needs_background": "light"
          }
        }
      ]
    },
    {
      "cell_type": "markdown",
      "source": [
        "# VGGNet"
      ],
      "metadata": {
        "id": "xzwSfw8EmS3l"
      }
    },
    {
      "cell_type": "code",
      "source": [
        "from tensorflow.keras.applications import VGG16\n",
        "\n",
        "conv_base = VGG16(weights='imagenet',\n",
        "                  include_top=False,   # 마지막 Fully connected layer포함하는 것. True 이면 마지막 부분 뺌\n",
        "                  input_shape=(150, 150, 3))"
      ],
      "metadata": {
        "id": "Q7pLi6ypmVbF",
        "colab": {
          "base_uri": "https://localhost:8080/"
        },
        "outputId": "90d51820-c06b-43c3-cecd-97bb91640714"
      },
      "execution_count": null,
      "outputs": [
        {
          "output_type": "stream",
          "name": "stdout",
          "text": [
            "Downloading data from https://storage.googleapis.com/tensorflow/keras-applications/vgg16/vgg16_weights_tf_dim_ordering_tf_kernels_notop.h5\n",
            "58892288/58889256 [==============================] - 0s 0us/step\n",
            "58900480/58889256 [==============================] - 0s 0us/step\n"
          ]
        }
      ]
    },
    {
      "cell_type": "code",
      "source": [
        "conv_base.summary()"
      ],
      "metadata": {
        "colab": {
          "base_uri": "https://localhost:8080/"
        },
        "id": "ej3NoO468idH",
        "outputId": "688c8360-36b1-44ca-ee2f-667430642b95"
      },
      "execution_count": null,
      "outputs": [
        {
          "output_type": "stream",
          "name": "stdout",
          "text": [
            "Model: \"vgg16\"\n",
            "_________________________________________________________________\n",
            " Layer (type)                Output Shape              Param #   \n",
            "=================================================================\n",
            " input_1 (InputLayer)        [(None, 150, 150, 3)]     0         \n",
            "                                                                 \n",
            " block1_conv1 (Conv2D)       (None, 150, 150, 64)      1792      \n",
            "                                                                 \n",
            " block1_conv2 (Conv2D)       (None, 150, 150, 64)      36928     \n",
            "                                                                 \n",
            " block1_pool (MaxPooling2D)  (None, 75, 75, 64)        0         \n",
            "                                                                 \n",
            " block2_conv1 (Conv2D)       (None, 75, 75, 128)       73856     \n",
            "                                                                 \n",
            " block2_conv2 (Conv2D)       (None, 75, 75, 128)       147584    \n",
            "                                                                 \n",
            " block2_pool (MaxPooling2D)  (None, 37, 37, 128)       0         \n",
            "                                                                 \n",
            " block3_conv1 (Conv2D)       (None, 37, 37, 256)       295168    \n",
            "                                                                 \n",
            " block3_conv2 (Conv2D)       (None, 37, 37, 256)       590080    \n",
            "                                                                 \n",
            " block3_conv3 (Conv2D)       (None, 37, 37, 256)       590080    \n",
            "                                                                 \n",
            " block3_pool (MaxPooling2D)  (None, 18, 18, 256)       0         \n",
            "                                                                 \n",
            " block4_conv1 (Conv2D)       (None, 18, 18, 512)       1180160   \n",
            "                                                                 \n",
            " block4_conv2 (Conv2D)       (None, 18, 18, 512)       2359808   \n",
            "                                                                 \n",
            " block4_conv3 (Conv2D)       (None, 18, 18, 512)       2359808   \n",
            "                                                                 \n",
            " block4_pool (MaxPooling2D)  (None, 9, 9, 512)         0         \n",
            "                                                                 \n",
            " block5_conv1 (Conv2D)       (None, 9, 9, 512)         2359808   \n",
            "                                                                 \n",
            " block5_conv2 (Conv2D)       (None, 9, 9, 512)         2359808   \n",
            "                                                                 \n",
            " block5_conv3 (Conv2D)       (None, 9, 9, 512)         2359808   \n",
            "                                                                 \n",
            " block5_pool (MaxPooling2D)  (None, 4, 4, 512)         0         \n",
            "                                                                 \n",
            "=================================================================\n",
            "Total params: 14,714,688\n",
            "Trainable params: 14,714,688\n",
            "Non-trainable params: 0\n",
            "_________________________________________________________________\n"
          ]
        }
      ]
    },
    {
      "cell_type": "code",
      "source": [
        "from keras import models\n",
        "from keras import layers\n",
        "from tensorflow.keras.preprocessing.image import ImageDataGenerator\n",
        "from tensorflow.keras import optimizers\n",
        "from keras import regularizers\n",
        "\n",
        "model = models.Sequential()\n",
        "model.add(conv_base)\n",
        "model.add(layers.Flatten())\n",
        "model.add(layers.Dense(256, activation='relu'))\n",
        "model.add(layers.Dense(1, activation='sigmoid'))\n",
        "\n",
        "conv_base.trainable = False"
      ],
      "metadata": {
        "id": "Rhs82qFPmVdh"
      },
      "execution_count": null,
      "outputs": []
    },
    {
      "cell_type": "code",
      "source": [
        "model.summary()"
      ],
      "metadata": {
        "colab": {
          "base_uri": "https://localhost:8080/"
        },
        "id": "JLY64dX58ZQz",
        "outputId": "0dc911f9-baeb-4527-e240-0ae71ead79ac"
      },
      "execution_count": null,
      "outputs": [
        {
          "output_type": "stream",
          "name": "stdout",
          "text": [
            "Model: \"sequential_1\"\n",
            "_________________________________________________________________\n",
            " Layer (type)                Output Shape              Param #   \n",
            "=================================================================\n",
            " vgg16 (Functional)          (None, 4, 4, 512)         14714688  \n",
            "                                                                 \n",
            " flatten_1 (Flatten)         (None, 8192)              0         \n",
            "                                                                 \n",
            " dense_2 (Dense)             (None, 256)               2097408   \n",
            "                                                                 \n",
            " dense_3 (Dense)             (None, 1)                 257       \n",
            "                                                                 \n",
            "=================================================================\n",
            "Total params: 16,812,353\n",
            "Trainable params: 2,097,665\n",
            "Non-trainable params: 14,714,688\n",
            "_________________________________________________________________\n"
          ]
        }
      ]
    },
    {
      "cell_type": "code",
      "source": [
        "model.compile(loss='binary_crossentropy',\n",
        "              optimizer=optimizers.Adam(lr=0.001),\n",
        "              metrics=['acc'])"
      ],
      "metadata": {
        "colab": {
          "base_uri": "https://localhost:8080/"
        },
        "id": "RQaMa6FGmVn-",
        "outputId": "149a66d0-b827-462f-8b7f-31366d1dba09"
      },
      "execution_count": null,
      "outputs": [
        {
          "output_type": "stream",
          "name": "stderr",
          "text": [
            "/usr/local/lib/python3.7/dist-packages/keras/optimizer_v2/adam.py:105: UserWarning: The `lr` argument is deprecated, use `learning_rate` instead.\n",
            "  super(Adam, self).__init__(name, **kwargs)\n"
          ]
        }
      ]
    },
    {
      "cell_type": "code",
      "source": [
        "history = model.fit_generator(\n",
        "      train_generator,\n",
        "      steps_per_epoch=45,\n",
        "      epochs=50,\n",
        "      validation_data=validation_generator,\n",
        "      validation_steps=5)\n",
        "\n",
        "model.save('/content/drive/MyDrive/Project/blockchain_deeplearning/2.h5')"
      ],
      "metadata": {
        "colab": {
          "base_uri": "https://localhost:8080/"
        },
        "id": "ltEmZUKbmVqf",
        "outputId": "757f2b5a-0d52-41d9-975e-40480722d55d"
      },
      "execution_count": null,
      "outputs": [
        {
          "output_type": "stream",
          "name": "stderr",
          "text": [
            "/usr/local/lib/python3.7/dist-packages/ipykernel_launcher.py:6: UserWarning: `Model.fit_generator` is deprecated and will be removed in a future version. Please use `Model.fit`, which supports generators.\n",
            "  \n"
          ]
        },
        {
          "output_type": "stream",
          "name": "stdout",
          "text": [
            "Epoch 1/50\n",
            "45/45 [==============================] - 115s 3s/step - loss: 0.8553 - acc: 0.5577 - val_loss: 0.5535 - val_acc: 0.7700\n",
            "Epoch 2/50\n",
            "45/45 [==============================] - 112s 3s/step - loss: 0.6383 - acc: 0.6529 - val_loss: 0.7838 - val_acc: 0.5900\n",
            "Epoch 3/50\n",
            "45/45 [==============================] - 113s 3s/step - loss: 0.5964 - acc: 0.6697 - val_loss: 0.5739 - val_acc: 0.6900\n",
            "Epoch 4/50\n",
            "45/45 [==============================] - 112s 2s/step - loss: 0.6137 - acc: 0.6719 - val_loss: 0.6305 - val_acc: 0.6700\n",
            "Epoch 5/50\n",
            "45/45 [==============================] - 112s 2s/step - loss: 0.5477 - acc: 0.7144 - val_loss: 0.7341 - val_acc: 0.6200\n",
            "Epoch 6/50\n",
            "45/45 [==============================] - 113s 3s/step - loss: 0.5307 - acc: 0.7346 - val_loss: 0.5465 - val_acc: 0.7200\n",
            "Epoch 7/50\n",
            "45/45 [==============================] - 113s 3s/step - loss: 0.5206 - acc: 0.7391 - val_loss: 0.5421 - val_acc: 0.7000\n",
            "Epoch 8/50\n",
            "45/45 [==============================] - 113s 3s/step - loss: 0.5219 - acc: 0.7402 - val_loss: 0.7131 - val_acc: 0.6700\n",
            "Epoch 9/50\n",
            "45/45 [==============================] - 113s 3s/step - loss: 0.5041 - acc: 0.7592 - val_loss: 0.5921 - val_acc: 0.6800\n",
            "Epoch 10/50\n",
            "45/45 [==============================] - 113s 3s/step - loss: 0.4936 - acc: 0.7492 - val_loss: 0.6345 - val_acc: 0.7200\n",
            "Epoch 11/50\n",
            "45/45 [==============================] - 113s 3s/step - loss: 0.4934 - acc: 0.7637 - val_loss: 0.5602 - val_acc: 0.7000\n",
            "Epoch 12/50\n",
            "45/45 [==============================] - 112s 2s/step - loss: 0.4822 - acc: 0.7570 - val_loss: 0.6182 - val_acc: 0.6600\n",
            "Epoch 13/50\n",
            "45/45 [==============================] - 112s 2s/step - loss: 0.5090 - acc: 0.7570 - val_loss: 0.5744 - val_acc: 0.7300\n",
            "Epoch 14/50\n",
            "45/45 [==============================] - 113s 3s/step - loss: 0.4631 - acc: 0.7671 - val_loss: 0.5154 - val_acc: 0.7400\n",
            "Epoch 15/50\n",
            "45/45 [==============================] - 113s 3s/step - loss: 0.4768 - acc: 0.7581 - val_loss: 0.5480 - val_acc: 0.7500\n",
            "Epoch 16/50\n",
            "45/45 [==============================] - 113s 3s/step - loss: 0.4763 - acc: 0.7778 - val_loss: 0.5725 - val_acc: 0.7400\n",
            "Epoch 17/50\n",
            "45/45 [==============================] - 112s 3s/step - loss: 0.4850 - acc: 0.7727 - val_loss: 0.7520 - val_acc: 0.7000\n",
            "Epoch 18/50\n",
            "45/45 [==============================] - 115s 3s/step - loss: 0.4916 - acc: 0.7548 - val_loss: 0.5240 - val_acc: 0.7500\n",
            "Epoch 19/50\n",
            "45/45 [==============================] - 114s 3s/step - loss: 0.4599 - acc: 0.7760 - val_loss: 0.5779 - val_acc: 0.7400\n",
            "Epoch 20/50\n",
            "45/45 [==============================] - 112s 2s/step - loss: 0.4537 - acc: 0.7940 - val_loss: 0.6469 - val_acc: 0.6700\n",
            "Epoch 21/50\n",
            "45/45 [==============================] - 112s 2s/step - loss: 0.3977 - acc: 0.8186 - val_loss: 0.5742 - val_acc: 0.7200\n",
            "Epoch 22/50\n",
            "45/45 [==============================] - 111s 2s/step - loss: 0.4124 - acc: 0.8040 - val_loss: 0.6250 - val_acc: 0.7400\n",
            "Epoch 23/50\n",
            "45/45 [==============================] - 112s 2s/step - loss: 0.4021 - acc: 0.8208 - val_loss: 0.5803 - val_acc: 0.7500\n",
            "Epoch 24/50\n",
            "45/45 [==============================] - 113s 3s/step - loss: 0.3957 - acc: 0.8264 - val_loss: 0.4865 - val_acc: 0.8100\n",
            "Epoch 25/50\n",
            "45/45 [==============================] - 112s 2s/step - loss: 0.4219 - acc: 0.8007 - val_loss: 0.5641 - val_acc: 0.7200\n",
            "Epoch 26/50\n",
            "45/45 [==============================] - 112s 2s/step - loss: 0.3775 - acc: 0.8298 - val_loss: 0.5520 - val_acc: 0.7200\n",
            "Epoch 27/50\n",
            "45/45 [==============================] - 113s 3s/step - loss: 0.3941 - acc: 0.8275 - val_loss: 0.7059 - val_acc: 0.6600\n",
            "Epoch 28/50\n",
            "45/45 [==============================] - 113s 3s/step - loss: 0.3781 - acc: 0.8320 - val_loss: 0.6374 - val_acc: 0.7500\n",
            "Epoch 29/50\n",
            "45/45 [==============================] - 112s 2s/step - loss: 0.3626 - acc: 0.8399 - val_loss: 0.5474 - val_acc: 0.7300\n",
            "Epoch 30/50\n",
            "45/45 [==============================] - 113s 3s/step - loss: 0.4175 - acc: 0.8163 - val_loss: 0.5763 - val_acc: 0.7100\n",
            "Epoch 31/50\n",
            "45/45 [==============================] - 115s 3s/step - loss: 0.4218 - acc: 0.8018 - val_loss: 0.7768 - val_acc: 0.6900\n",
            "Epoch 32/50\n",
            "45/45 [==============================] - 114s 3s/step - loss: 0.3754 - acc: 0.8130 - val_loss: 0.5514 - val_acc: 0.7400\n",
            "Epoch 33/50\n",
            "45/45 [==============================] - 114s 3s/step - loss: 0.3487 - acc: 0.8499 - val_loss: 0.6060 - val_acc: 0.7400\n",
            "Epoch 34/50\n",
            "45/45 [==============================] - 113s 3s/step - loss: 0.3909 - acc: 0.8119 - val_loss: 0.4728 - val_acc: 0.8000\n",
            "Epoch 35/50\n",
            "45/45 [==============================] - 113s 3s/step - loss: 0.3424 - acc: 0.8623 - val_loss: 0.5603 - val_acc: 0.8000\n",
            "Epoch 36/50\n",
            "45/45 [==============================] - 112s 2s/step - loss: 0.3066 - acc: 0.8723 - val_loss: 0.5431 - val_acc: 0.7300\n",
            "Epoch 37/50\n",
            "45/45 [==============================] - 113s 3s/step - loss: 0.3365 - acc: 0.8533 - val_loss: 0.7523 - val_acc: 0.6800\n",
            "Epoch 38/50\n",
            "45/45 [==============================] - 113s 3s/step - loss: 0.3301 - acc: 0.8634 - val_loss: 0.4907 - val_acc: 0.7200\n",
            "Epoch 39/50\n",
            "45/45 [==============================] - 114s 3s/step - loss: 0.3602 - acc: 0.8264 - val_loss: 0.5280 - val_acc: 0.7700\n",
            "Epoch 40/50\n",
            "45/45 [==============================] - 115s 3s/step - loss: 0.3687 - acc: 0.8331 - val_loss: 0.5175 - val_acc: 0.7600\n",
            "Epoch 41/50\n",
            "45/45 [==============================] - 113s 3s/step - loss: 0.2938 - acc: 0.8835 - val_loss: 0.5523 - val_acc: 0.7000\n",
            "Epoch 42/50\n",
            "45/45 [==============================] - 112s 2s/step - loss: 0.2847 - acc: 0.8847 - val_loss: 0.6913 - val_acc: 0.7400\n",
            "Epoch 43/50\n",
            "45/45 [==============================] - 113s 3s/step - loss: 0.3341 - acc: 0.8544 - val_loss: 0.6141 - val_acc: 0.7200\n",
            "Epoch 44/50\n",
            "45/45 [==============================] - 112s 2s/step - loss: 0.3379 - acc: 0.8511 - val_loss: 0.6808 - val_acc: 0.7200\n",
            "Epoch 45/50\n",
            "45/45 [==============================] - 113s 3s/step - loss: 0.3046 - acc: 0.8813 - val_loss: 0.5449 - val_acc: 0.7200\n",
            "Epoch 46/50\n",
            "45/45 [==============================] - 113s 3s/step - loss: 0.2920 - acc: 0.8802 - val_loss: 0.7940 - val_acc: 0.7400\n",
            "Epoch 47/50\n",
            "45/45 [==============================] - 113s 3s/step - loss: 0.2691 - acc: 0.8824 - val_loss: 0.6973 - val_acc: 0.7100\n",
            "Epoch 48/50\n",
            "45/45 [==============================] - 112s 2s/step - loss: 0.3340 - acc: 0.8667 - val_loss: 0.6716 - val_acc: 0.7600\n",
            "Epoch 49/50\n",
            "45/45 [==============================] - 112s 2s/step - loss: 0.2847 - acc: 0.8813 - val_loss: 0.6551 - val_acc: 0.7200\n",
            "Epoch 50/50\n",
            "45/45 [==============================] - 112s 2s/step - loss: 0.2562 - acc: 0.9026 - val_loss: 0.5746 - val_acc: 0.7700\n"
          ]
        }
      ]
    },
    {
      "cell_type": "code",
      "source": [
        "import matplotlib.pyplot as plt\n",
        "\n",
        "acc = history.history['acc'] \n",
        "val_acc = history.history['val_acc'] \n",
        "loss = history.history['loss'] \n",
        "val_loss = history.history['val_loss']\n",
        "\n",
        "epochs = range(1, len(acc) + 1)\n",
        "\n",
        "plt.plot(epochs, acc, 'bo', label='Training acc') \n",
        "plt.plot(epochs, val_acc, 'b', label='Validation acc') \n",
        "plt.title('Training and validation accuracy') \n",
        "plt.legend()\n",
        "\n",
        "plt.figure()\n",
        "\n",
        "plt.plot(epochs, loss, 'bo', label='Training loss') \n",
        "plt.plot(epochs, val_loss, 'b', label='Validation loss') \n",
        "plt.title('Training and validation loss') \n",
        "plt.legend()\n",
        "\n",
        "plt.show()\n",
        "\n"
      ],
      "metadata": {
        "id": "1-KKZeMNmVs1",
        "colab": {
          "base_uri": "https://localhost:8080/",
          "height": 545
        },
        "outputId": "b8dcac5f-9cf9-48b4-d434-89ae200242e9"
      },
      "execution_count": null,
      "outputs": [
        {
          "output_type": "display_data",
          "data": {
            "text/plain": [
              "<Figure size 432x288 with 1 Axes>"
            ],
            "image/png": "[encoded data removed]"
          },
          "metadata": {
            "needs_background": "light"
          }
        },
        {
          "output_type": "display_data",
          "data": {
            "text/plain": [
              "<Figure size 432x288 with 1 Axes>"
            ],
            "image/png": "[encoded data removed]"
          },
          "metadata": {
            "needs_background": "light"
          }
        }
      ]
    },
    {
      "cell_type": "code",
      "source": [
        "from keras.models import load_model\n",
        "model = load_model('/content/drive/MyDrive/Project/blockchain_deeplearning/2.h5')\n",
        "model.evaluate(test_generator)"
      ],
      "metadata": {
        "id": "mLS0hwtEmVvq",
        "colab": {
          "base_uri": "https://localhost:8080/"
        },
        "outputId": "0bafee14-5ea2-4714-fb45-e03b4695e7e8"
      },
      "execution_count": null,
      "outputs": [
        {
          "output_type": "stream",
          "name": "stdout",
          "text": [
            "6/6 [==============================] - 14s 2s/step - loss: 0.9189 - acc: 0.6638\n"
          ]
        },
        {
          "output_type": "execute_result",
          "data": {
            "text/plain": [
              "[0.9189180135726929, 0.6637930870056152]"
            ]
          },
          "metadata": {},
          "execution_count": 25
        }
      ]
    },
    {
      "cell_type": "markdown",
      "source": [
        "VGGNet의 사전 학습된 훈련 모델에서 마지막 convolution block까지 가중치 업데이트 가능하도록 하는 또다른 튜닝 방법"
      ],
      "metadata": {
        "id": "JQHuS0XG7mCc"
      }
    },
    {
      "cell_type": "code",
      "source": [
        "from tensorflow.keras.applications import VGG16\n",
        "\n",
        "conv_base = VGG16(weights='imagenet',\n",
        "                  include_top=False,   # 마지막 Fully connected layer포함하는 것. True 이면 마지막 부분 뺌\n",
        "                  input_shape=(150, 150, 3))"
      ],
      "metadata": {
        "id": "0AWCVeaFHZpT"
      },
      "execution_count": null,
      "outputs": []
    },
    {
      "cell_type": "code",
      "source": [
        "model = models.Sequential()\n",
        "model.add(conv_base)\n",
        "model.add(layers.Flatten())\n",
        "model.add(layers.Dense(256, activation='relu'))\n",
        "model.add(layers.Dense(1, activation='sigmoid'))"
      ],
      "metadata": {
        "id": "A6CiU-YwHm5g"
      },
      "execution_count": null,
      "outputs": []
    },
    {
      "cell_type": "code",
      "source": [
        "conv_base.trainable = True\n",
        "\n",
        "set_trainable = False\n",
        "for layer in conv_base.layers:\n",
        "  if layer.name == 'block5_conv1':\n",
        "    set_trainable = True\n",
        "  if set_trainable:\n",
        "    layer.trainable = True\n",
        "  else:\n",
        "    layer.trainable = False"
      ],
      "metadata": {
        "id": "rwsE0r4jHbcp"
      },
      "execution_count": null,
      "outputs": []
    },
    {
      "cell_type": "code",
      "source": [
        "model.summary()"
      ],
      "metadata": {
        "colab": {
          "base_uri": "https://localhost:8080/"
        },
        "id": "6bamK4Lu8ieg",
        "outputId": "7efda671-81b0-4f52-d244-b798e6d2bad9"
      },
      "execution_count": null,
      "outputs": [
        {
          "output_type": "stream",
          "name": "stdout",
          "text": [
            "Model: \"sequential_2\"\n",
            "_________________________________________________________________\n",
            " Layer (type)                Output Shape              Param #   \n",
            "=================================================================\n",
            " vgg16 (Functional)          (None, 4, 4, 512)         14714688  \n",
            "                                                                 \n",
            " flatten_2 (Flatten)         (None, 8192)              0         \n",
            "                                                                 \n",
            " dense_4 (Dense)             (None, 256)               2097408   \n",
            "                                                                 \n",
            " dense_5 (Dense)             (None, 1)                 257       \n",
            "                                                                 \n",
            "=================================================================\n",
            "Total params: 16,812,353\n",
            "Trainable params: 9,177,089\n",
            "Non-trainable params: 7,635,264\n",
            "_________________________________________________________________\n"
          ]
        }
      ]
    },
    {
      "cell_type": "code",
      "source": [
        "model.compile(loss='binary_crossentropy',\n",
        "              optimizer=optimizers.RMSprop(lr=1e-5), # very low learning rate -> 미세조정\n",
        "              metrics=['acc'])\n",
        "\n",
        "history = model.fit_generator(\n",
        "      train_generator,\n",
        "      steps_per_epoch=45,\n",
        "      epochs=50,\n",
        "      validation_data=validation_generator,\n",
        "      validation_steps=5)\n",
        "model.save('/content/drive/MyDrive/Project/blockchain_deeplearning/3.h5')"
      ],
      "metadata": {
        "colab": {
          "base_uri": "https://localhost:8080/"
        },
        "id": "SywjJqlfHblo",
        "outputId": "f85ae063-a1d1-490f-93a4-beacf3f13f1f"
      },
      "execution_count": null,
      "outputs": [
        {
          "output_type": "stream",
          "name": "stdout",
          "text": [
            "Epoch 1/50\n"
          ]
        },
        {
          "output_type": "stream",
          "name": "stderr",
          "text": [
            "/usr/local/lib/python3.7/dist-packages/keras/optimizer_v2/rmsprop.py:130: UserWarning: The `lr` argument is deprecated, use `learning_rate` instead.\n",
            "  super(RMSprop, self).__init__(name, **kwargs)\n",
            "/usr/local/lib/python3.7/dist-packages/ipykernel_launcher.py:10: UserWarning: `Model.fit_generator` is deprecated and will be removed in a future version. Please use `Model.fit`, which supports generators.\n",
            "  # Remove the CWD from sys.path while we load stuff.\n"
          ]
        },
        {
          "output_type": "stream",
          "name": "stdout",
          "text": [
            "45/45 [==============================] - 90s 2s/step - loss: 0.6814 - acc: 0.5722 - val_loss: 0.6578 - val_acc: 0.6300\n",
            "Epoch 2/50\n",
            "45/45 [==============================] - 89s 2s/step - loss: 0.6348 - acc: 0.6282 - val_loss: 0.5514 - val_acc: 0.7600\n",
            "Epoch 3/50\n",
            "45/45 [==============================] - 89s 2s/step - loss: 0.6116 - acc: 0.6797 - val_loss: 0.5621 - val_acc: 0.7200\n",
            "Epoch 4/50\n",
            "45/45 [==============================] - 89s 2s/step - loss: 0.5884 - acc: 0.6932 - val_loss: 0.6005 - val_acc: 0.6500\n",
            "Epoch 5/50\n",
            "45/45 [==============================] - 89s 2s/step - loss: 0.5572 - acc: 0.7066 - val_loss: 0.6269 - val_acc: 0.6600\n",
            "Epoch 6/50\n",
            "45/45 [==============================] - 90s 2s/step - loss: 0.5429 - acc: 0.7402 - val_loss: 0.5419 - val_acc: 0.7200\n",
            "Epoch 7/50\n",
            "45/45 [==============================] - 90s 2s/step - loss: 0.5276 - acc: 0.7447 - val_loss: 0.5962 - val_acc: 0.6900\n",
            "Epoch 8/50\n",
            "45/45 [==============================] - 91s 2s/step - loss: 0.5122 - acc: 0.7581 - val_loss: 0.5454 - val_acc: 0.6900\n",
            "Epoch 9/50\n",
            "45/45 [==============================] - 90s 2s/step - loss: 0.4877 - acc: 0.7772 - val_loss: 0.5592 - val_acc: 0.7000\n",
            "Epoch 10/50\n",
            "45/45 [==============================] - 90s 2s/step - loss: 0.4726 - acc: 0.7794 - val_loss: 0.5953 - val_acc: 0.7200\n",
            "Epoch 11/50\n",
            "45/45 [==============================] - 89s 2s/step - loss: 0.4431 - acc: 0.8029 - val_loss: 0.5860 - val_acc: 0.7200\n",
            "Epoch 12/50\n",
            "45/45 [==============================] - 89s 2s/step - loss: 0.4397 - acc: 0.8130 - val_loss: 0.6072 - val_acc: 0.7300\n",
            "Epoch 13/50\n",
            "45/45 [==============================] - 89s 2s/step - loss: 0.4451 - acc: 0.7940 - val_loss: 0.5196 - val_acc: 0.7100\n",
            "Epoch 14/50\n",
            "45/45 [==============================] - 89s 2s/step - loss: 0.3922 - acc: 0.8298 - val_loss: 0.6254 - val_acc: 0.7200\n",
            "Epoch 15/50\n",
            "45/45 [==============================] - 90s 2s/step - loss: 0.4181 - acc: 0.8186 - val_loss: 0.4717 - val_acc: 0.7400\n",
            "Epoch 16/50\n",
            "45/45 [==============================] - 89s 2s/step - loss: 0.3861 - acc: 0.8488 - val_loss: 0.5540 - val_acc: 0.7300\n",
            "Epoch 17/50\n",
            "45/45 [==============================] - 89s 2s/step - loss: 0.3683 - acc: 0.8399 - val_loss: 0.6001 - val_acc: 0.7500\n",
            "Epoch 18/50\n",
            "45/45 [==============================] - 89s 2s/step - loss: 0.3711 - acc: 0.8399 - val_loss: 0.5333 - val_acc: 0.7600\n",
            "Epoch 19/50\n",
            "45/45 [==============================] - 89s 2s/step - loss: 0.3513 - acc: 0.8611 - val_loss: 0.4956 - val_acc: 0.7700\n",
            "Epoch 20/50\n",
            "45/45 [==============================] - 89s 2s/step - loss: 0.3458 - acc: 0.8387 - val_loss: 0.5370 - val_acc: 0.7500\n",
            "Epoch 21/50\n",
            "45/45 [==============================] - 89s 2s/step - loss: 0.3224 - acc: 0.8656 - val_loss: 0.5409 - val_acc: 0.7400\n",
            "Epoch 22/50\n",
            "45/45 [==============================] - 89s 2s/step - loss: 0.2965 - acc: 0.8880 - val_loss: 0.4836 - val_acc: 0.7800\n",
            "Epoch 23/50\n",
            "45/45 [==============================] - 89s 2s/step - loss: 0.2893 - acc: 0.8779 - val_loss: 0.4811 - val_acc: 0.7700\n",
            "Epoch 24/50\n",
            "45/45 [==============================] - 89s 2s/step - loss: 0.3012 - acc: 0.8757 - val_loss: 0.4875 - val_acc: 0.7800\n",
            "Epoch 25/50\n",
            "45/45 [==============================] - 89s 2s/step - loss: 0.2876 - acc: 0.8914 - val_loss: 0.4255 - val_acc: 0.8200\n",
            "Epoch 26/50\n",
            "45/45 [==============================] - 89s 2s/step - loss: 0.2687 - acc: 0.8847 - val_loss: 0.5645 - val_acc: 0.7600\n",
            "Epoch 27/50\n",
            "45/45 [==============================] - 89s 2s/step - loss: 0.2652 - acc: 0.8959 - val_loss: 0.5103 - val_acc: 0.7800\n",
            "Epoch 28/50\n",
            "45/45 [==============================] - 89s 2s/step - loss: 0.2633 - acc: 0.8903 - val_loss: 0.4740 - val_acc: 0.8300\n",
            "Epoch 29/50\n",
            "45/45 [==============================] - 89s 2s/step - loss: 0.2522 - acc: 0.8936 - val_loss: 0.5084 - val_acc: 0.7800\n",
            "Epoch 30/50\n",
            "45/45 [==============================] - 89s 2s/step - loss: 0.2445 - acc: 0.9071 - val_loss: 0.4062 - val_acc: 0.8100\n",
            "Epoch 31/50\n",
            "45/45 [==============================] - 89s 2s/step - loss: 0.2404 - acc: 0.9071 - val_loss: 0.4993 - val_acc: 0.7800\n",
            "Epoch 32/50\n",
            "45/45 [==============================] - 89s 2s/step - loss: 0.2197 - acc: 0.9160 - val_loss: 0.4972 - val_acc: 0.8300\n",
            "Epoch 33/50\n",
            "45/45 [==============================] - 89s 2s/step - loss: 0.2181 - acc: 0.9306 - val_loss: 0.5748 - val_acc: 0.7700\n",
            "Epoch 34/50\n",
            "45/45 [==============================] - 89s 2s/step - loss: 0.1951 - acc: 0.9328 - val_loss: 0.4908 - val_acc: 0.8000\n",
            "Epoch 35/50\n",
            "45/45 [==============================] - 90s 2s/step - loss: 0.1964 - acc: 0.9222 - val_loss: 0.6224 - val_acc: 0.6900\n",
            "Epoch 36/50\n",
            "45/45 [==============================] - 89s 2s/step - loss: 0.1953 - acc: 0.9283 - val_loss: 0.3986 - val_acc: 0.8400\n",
            "Epoch 37/50\n",
            "45/45 [==============================] - 89s 2s/step - loss: 0.1749 - acc: 0.9395 - val_loss: 0.6685 - val_acc: 0.7200\n",
            "Epoch 38/50\n",
            "45/45 [==============================] - 89s 2s/step - loss: 0.1799 - acc: 0.9339 - val_loss: 0.5186 - val_acc: 0.7900\n",
            "Epoch 39/50\n",
            "45/45 [==============================] - 90s 2s/step - loss: 0.1816 - acc: 0.9295 - val_loss: 0.4991 - val_acc: 0.8300\n",
            "Epoch 40/50\n",
            "45/45 [==============================] - 89s 2s/step - loss: 0.1520 - acc: 0.9429 - val_loss: 0.4412 - val_acc: 0.8500\n",
            "Epoch 41/50\n",
            "45/45 [==============================] - 89s 2s/step - loss: 0.1636 - acc: 0.9328 - val_loss: 0.4693 - val_acc: 0.8300\n",
            "Epoch 42/50\n",
            "45/45 [==============================] - 89s 2s/step - loss: 0.1609 - acc: 0.9429 - val_loss: 0.6634 - val_acc: 0.7400\n",
            "Epoch 43/50\n",
            "45/45 [==============================] - 89s 2s/step - loss: 0.1640 - acc: 0.9362 - val_loss: 0.4376 - val_acc: 0.8400\n",
            "Epoch 44/50\n",
            "45/45 [==============================] - 89s 2s/step - loss: 0.1361 - acc: 0.9597 - val_loss: 0.3717 - val_acc: 0.8700\n",
            "Epoch 45/50\n",
            "45/45 [==============================] - 90s 2s/step - loss: 0.1375 - acc: 0.9474 - val_loss: 0.4448 - val_acc: 0.8200\n",
            "Epoch 46/50\n",
            "45/45 [==============================] - 89s 2s/step - loss: 0.1279 - acc: 0.9563 - val_loss: 0.5266 - val_acc: 0.8500\n",
            "Epoch 47/50\n",
            "45/45 [==============================] - 89s 2s/step - loss: 0.1332 - acc: 0.9496 - val_loss: 0.4603 - val_acc: 0.8500\n",
            "Epoch 48/50\n",
            "45/45 [==============================] - 90s 2s/step - loss: 0.1267 - acc: 0.9474 - val_loss: 0.5097 - val_acc: 0.8300\n",
            "Epoch 49/50\n",
            "45/45 [==============================] - 89s 2s/step - loss: 0.1081 - acc: 0.9664 - val_loss: 0.4588 - val_acc: 0.8300\n",
            "Epoch 50/50\n",
            "45/45 [==============================] - 89s 2s/step - loss: 0.1214 - acc: 0.9574 - val_loss: 0.5251 - val_acc: 0.8100\n"
          ]
        }
      ]
    },
    {
      "cell_type": "code",
      "source": [
        "model.evaluate(test_generator)"
      ],
      "metadata": {
        "colab": {
          "base_uri": "https://localhost:8080/"
        },
        "id": "7Svmm3dgkBek",
        "outputId": "89b15beb-ddcc-4889-df13-a4cc335237fb"
      },
      "execution_count": null,
      "outputs": [
        {
          "output_type": "stream",
          "name": "stdout",
          "text": [
            "6/6 [==============================] - 9s 1s/step - loss: 1.1300 - acc: 0.6897\n"
          ]
        },
        {
          "output_type": "execute_result",
          "data": {
            "text/plain": [
              "[1.130042314529419, 0.6896551847457886]"
            ]
          },
          "metadata": {},
          "execution_count": 30
        }
      ]
    },
    {
      "cell_type": "code",
      "source": [
        "import matplotlib.pyplot as plt\n",
        "\n",
        "acc = history.history['acc'] \n",
        "val_acc = history.history['val_acc'] \n",
        "loss = history.history['loss'] \n",
        "val_loss = history.history['val_loss']\n",
        "\n",
        "epochs = range(1, len(acc) + 1)\n",
        "\n",
        "plt.plot(epochs, acc, 'bo', label='Training acc') \n",
        "plt.plot(epochs, val_acc, 'b', label='Validation acc') \n",
        "plt.title('Training and validation accuracy') \n",
        "plt.legend()\n",
        "\n",
        "plt.figure()\n",
        "\n",
        "plt.plot(epochs, loss, 'bo', label='Training loss') \n",
        "plt.plot(epochs, val_loss, 'b', label='Validation loss') \n",
        "plt.title('Training and validation loss') \n",
        "plt.legend()\n",
        "\n",
        "plt.show()"
      ],
      "metadata": {
        "colab": {
          "base_uri": "https://localhost:8080/",
          "height": 545
        },
        "id": "uLKEiTHIkBxy",
        "outputId": "85a0aca7-2f3a-47cc-988b-75c33b626cb3"
      },
      "execution_count": null,
      "outputs": [
        {
          "output_type": "display_data",
          "data": {
            "text/plain": [
              "<Figure size 432x288 with 1 Axes>"
            ],
            "image/png": "[encoded data removed]"
          },
          "metadata": {
            "needs_background": "light"
          }
        },
        {
          "output_type": "display_data",
          "data": {
            "text/plain": [
              "<Figure size 432x288 with 1 Axes>"
            ],
            "image/png": "[encoded data removed]"
          },
          "metadata": {
            "needs_background": "light"
          }
        }
      ]
    },
    {
      "cell_type": "markdown",
      "source": [
        "# ResNet"
      ],
      "metadata": {
        "id": "QJFq039pIQqn"
      }
    },
    {
      "cell_type": "code",
      "source": [
        "from tensorflow.keras.applications import ResNet50\n",
        "from tensorflow import keras\n",
        "from keras.layers import Conv2D, MaxPooling2D, Flatten, Dense, Dropout, InputLayer, Flatten\n",
        "\n",
        "Res_model = ResNet50(include_top=True, weights=None, input_shape=(150, 150, 3), pooling=max, classes=2)\n",
        "\n",
        "\n",
        "## ResNet50 모델에 Dense layer추가\n",
        "Res_new_model = models.Sequential()\n",
        "Res_new_model.add(Res_model)\n",
        "Res_new_model.add(Dense(512, activation='relu', input_shape=(128,128,3)))\n",
        "Res_new_model.add(Dropout(0.3))\n",
        "Res_new_model.add(Dense(512, activation='relu'))\n",
        "Res_new_model.add(Dropout(0.3))\n",
        "Res_new_model.add(Dense(1, activation='sigmoid'))\n",
        "Res_new_model.compile(loss='binary_crossentropy',\n",
        "                        optimizer=keras.optimizers.RMSprop(lr=2e-5),\n",
        "              metrics=['accuracy'])"
      ],
      "metadata": {
        "colab": {
          "base_uri": "https://localhost:8080/"
        },
        "id": "kAAfCjLwHboQ",
        "outputId": "4411592f-9881-4f93-8a87-c859ce06ffa4"
      },
      "execution_count": null,
      "outputs": [
        {
          "output_type": "stream",
          "name": "stderr",
          "text": [
            "/usr/local/lib/python3.7/dist-packages/keras/optimizer_v2/rmsprop.py:130: UserWarning: The `lr` argument is deprecated, use `learning_rate` instead.\n",
            "  super(RMSprop, self).__init__(name, **kwargs)\n"
          ]
        }
      ]
    },
    {
      "cell_type": "code",
      "source": [
        "Res_model.summary()"
      ],
      "metadata": {
        "colab": {
          "base_uri": "https://localhost:8080/"
        },
        "id": "6jiajgZ7Z4E7",
        "outputId": "eb77c1f2-9547-43b0-a8e5-29cbd0a3bcd3"
      },
      "execution_count": null,
      "outputs": [
        {
          "output_type": "stream",
          "name": "stdout",
          "text": [
            "Model: \"resnet50\"\n",
            "__________________________________________________________________________________________________\n",
            " Layer (type)                   Output Shape         Param #     Connected to                     \n",
            "==================================================================================================\n",
            " input_3 (InputLayer)           [(None, 150, 150, 3  0           []                               \n",
            "                                )]                                                                \n",
            "                                                                                                  \n",
            " conv1_pad (ZeroPadding2D)      (None, 156, 156, 3)  0           ['input_3[0][0]']                \n",
            "                                                                                                  \n",
            " conv1_conv (Conv2D)            (None, 75, 75, 64)   9472        ['conv1_pad[0][0]']              \n",
            "                                                                                                  \n",
            " conv1_bn (BatchNormalization)  (None, 75, 75, 64)   256         ['conv1_conv[0][0]']             \n",
            "                                                                                                  \n",
            " conv1_relu (Activation)        (None, 75, 75, 64)   0           ['conv1_bn[0][0]']               \n",
            "                                                                                                  \n",
            " pool1_pad (ZeroPadding2D)      (None, 77, 77, 64)   0           ['conv1_relu[0][0]']             \n",
            "                                                                                                  \n",
            " pool1_pool (MaxPooling2D)      (None, 38, 38, 64)   0           ['pool1_pad[0][0]']              \n",
            "                                                                                                  \n",
            " conv2_block1_1_conv (Conv2D)   (None, 38, 38, 64)   4160        ['pool1_pool[0][0]']             \n",
            "                                                                                                  \n",
            " conv2_block1_1_bn (BatchNormal  (None, 38, 38, 64)  256         ['conv2_block1_1_conv[0][0]']    \n",
            " ization)                                                                                         \n",
            "                                                                                                  \n",
            " conv2_block1_1_relu (Activatio  (None, 38, 38, 64)  0           ['conv2_block1_1_bn[0][0]']      \n",
            " n)                                                                                               \n",
            "                                                                                                  \n",
            " conv2_block1_2_conv (Conv2D)   (None, 38, 38, 64)   36928       ['conv2_block1_1_relu[0][0]']    \n",
            "                                                                                                  \n",
            " conv2_block1_2_bn (BatchNormal  (None, 38, 38, 64)  256         ['conv2_block1_2_conv[0][0]']    \n",
            " ization)                                                                                         \n",
            "                                                                                                  \n",
            " conv2_block1_2_relu (Activatio  (None, 38, 38, 64)  0           ['conv2_block1_2_bn[0][0]']      \n",
            " n)                                                                                               \n",
            "                                                                                                  \n",
            " conv2_block1_0_conv (Conv2D)   (None, 38, 38, 256)  16640       ['pool1_pool[0][0]']             \n",
            "                                                                                                  \n",
            " conv2_block1_3_conv (Conv2D)   (None, 38, 38, 256)  16640       ['conv2_block1_2_relu[0][0]']    \n",
            "                                                                                                  \n",
            " conv2_block1_0_bn (BatchNormal  (None, 38, 38, 256)  1024       ['conv2_block1_0_conv[0][0]']    \n",
            " ization)                                                                                         \n",
            "                                                                                                  \n",
            " conv2_block1_3_bn (BatchNormal  (None, 38, 38, 256)  1024       ['conv2_block1_3_conv[0][0]']    \n",
            " ization)                                                                                         \n",
            "                                                                                                  \n",
            " conv2_block1_add (Add)         (None, 38, 38, 256)  0           ['conv2_block1_0_bn[0][0]',      \n",
            "                                                                  'conv2_block1_3_bn[0][0]']      \n",
            "                                                                                                  \n",
            " conv2_block1_out (Activation)  (None, 38, 38, 256)  0           ['conv2_block1_add[0][0]']       \n",
            "                                                                                                  \n",
            " conv2_block2_1_conv (Conv2D)   (None, 38, 38, 64)   16448       ['conv2_block1_out[0][0]']       \n",
            "                                                                                                  \n",
            " conv2_block2_1_bn (BatchNormal  (None, 38, 38, 64)  256         ['conv2_block2_1_conv[0][0]']    \n",
            " ization)                                                                                         \n",
            "                                                                                                  \n",
            " conv2_block2_1_relu (Activatio  (None, 38, 38, 64)  0           ['conv2_block2_1_bn[0][0]']      \n",
            " n)                                                                                               \n",
            "                                                                                                  \n",
            " conv2_block2_2_conv (Conv2D)   (None, 38, 38, 64)   36928       ['conv2_block2_1_relu[0][0]']    \n",
            "                                                                                                  \n",
            " conv2_block2_2_bn (BatchNormal  (None, 38, 38, 64)  256         ['conv2_block2_2_conv[0][0]']    \n",
            " ization)                                                                                         \n",
            "                                                                                                  \n",
            " conv2_block2_2_relu (Activatio  (None, 38, 38, 64)  0           ['conv2_block2_2_bn[0][0]']      \n",
            " n)                                                                                               \n",
            "                                                                                                  \n",
            " conv2_block2_3_conv (Conv2D)   (None, 38, 38, 256)  16640       ['conv2_block2_2_relu[0][0]']    \n",
            "                                                                                                  \n",
            " conv2_block2_3_bn (BatchNormal  (None, 38, 38, 256)  1024       ['conv2_block2_3_conv[0][0]']    \n",
            " ization)                                                                                         \n",
            "                                                                                                  \n",
            " conv2_block2_add (Add)         (None, 38, 38, 256)  0           ['conv2_block1_out[0][0]',       \n",
            "                                                                  'conv2_block2_3_bn[0][0]']      \n",
            "                                                                                                  \n",
            " conv2_block2_out (Activation)  (None, 38, 38, 256)  0           ['conv2_block2_add[0][0]']       \n",
            "                                                                                                  \n",
            " conv2_block3_1_conv (Conv2D)   (None, 38, 38, 64)   16448       ['conv2_block2_out[0][0]']       \n",
            "                                                                                                  \n",
            " conv2_block3_1_bn (BatchNormal  (None, 38, 38, 64)  256         ['conv2_block3_1_conv[0][0]']    \n",
            " ization)                                                                                         \n",
            "                                                                                                  \n",
            " conv2_block3_1_relu (Activatio  (None, 38, 38, 64)  0           ['conv2_block3_1_bn[0][0]']      \n",
            " n)                                                                                               \n",
            "                                                                                                  \n",
            " conv2_block3_2_conv (Conv2D)   (None, 38, 38, 64)   36928       ['conv2_block3_1_relu[0][0]']    \n",
            "                                                                                                  \n",
            " conv2_block3_2_bn (BatchNormal  (None, 38, 38, 64)  256         ['conv2_block3_2_conv[0][0]']    \n",
            " ization)                                                                                         \n",
            "                                                                                                  \n",
            " conv2_block3_2_relu (Activatio  (None, 38, 38, 64)  0           ['conv2_block3_2_bn[0][0]']      \n",
            " n)                                                                                               \n",
            "                                                                                                  \n",
            " conv2_block3_3_conv (Conv2D)   (None, 38, 38, 256)  16640       ['conv2_block3_2_relu[0][0]']    \n",
            "                                                                                                  \n",
            " conv2_block3_3_bn (BatchNormal  (None, 38, 38, 256)  1024       ['conv2_block3_3_conv[0][0]']    \n",
            " ization)                                                                                         \n",
            "                                                                                                  \n",
            " conv2_block3_add (Add)         (None, 38, 38, 256)  0           ['conv2_block2_out[0][0]',       \n",
            "                                                                  'conv2_block3_3_bn[0][0]']      \n",
            "                                                                                                  \n",
            " conv2_block3_out (Activation)  (None, 38, 38, 256)  0           ['conv2_block3_add[0][0]']       \n",
            "                                                                                                  \n",
            " conv3_block1_1_conv (Conv2D)   (None, 19, 19, 128)  32896       ['conv2_block3_out[0][0]']       \n",
            "                                                                                                  \n",
            " conv3_block1_1_bn (BatchNormal  (None, 19, 19, 128)  512        ['conv3_block1_1_conv[0][0]']    \n",
            " ization)                                                                                         \n",
            "                                                                                                  \n",
            " conv3_block1_1_relu (Activatio  (None, 19, 19, 128)  0          ['conv3_block1_1_bn[0][0]']      \n",
            " n)                                                                                               \n",
            "                                                                                                  \n",
            " conv3_block1_2_conv (Conv2D)   (None, 19, 19, 128)  147584      ['conv3_block1_1_relu[0][0]']    \n",
            "                                                                                                  \n",
            " conv3_block1_2_bn (BatchNormal  (None, 19, 19, 128)  512        ['conv3_block1_2_conv[0][0]']    \n",
            " ization)                                                                                         \n",
            "                                                                                                  \n",
            " conv3_block1_2_relu (Activatio  (None, 19, 19, 128)  0          ['conv3_block1_2_bn[0][0]']      \n",
            " n)                                                                                               \n",
            "                                                                                                  \n",
            " conv3_block1_0_conv (Conv2D)   (None, 19, 19, 512)  131584      ['conv2_block3_out[0][0]']       \n",
            "                                                                                                  \n",
            " conv3_block1_3_conv (Conv2D)   (None, 19, 19, 512)  66048       ['conv3_block1_2_relu[0][0]']    \n",
            "                                                                                                  \n",
            " conv3_block1_0_bn (BatchNormal  (None, 19, 19, 512)  2048       ['conv3_block1_0_conv[0][0]']    \n",
            " ization)                                                                                         \n",
            "                                                                                                  \n",
            " conv3_block1_3_bn (BatchNormal  (None, 19, 19, 512)  2048       ['conv3_block1_3_conv[0][0]']    \n",
            " ization)                                                                                         \n",
            "                                                                                                  \n",
            " conv3_block1_add (Add)         (None, 19, 19, 512)  0           ['conv3_block1_0_bn[0][0]',      \n",
            "                                                                  'conv3_block1_3_bn[0][0]']      \n",
            "                                                                                                  \n",
            " conv3_block1_out (Activation)  (None, 19, 19, 512)  0           ['conv3_block1_add[0][0]']       \n",
            "                                                                                                  \n",
            " conv3_block2_1_conv (Conv2D)   (None, 19, 19, 128)  65664       ['conv3_block1_out[0][0]']       \n",
            "                                                                                                  \n",
            " conv3_block2_1_bn (BatchNormal  (None, 19, 19, 128)  512        ['conv3_block2_1_conv[0][0]']    \n",
            " ization)                                                                                         \n",
            "                                                                                                  \n",
            " conv3_block2_1_relu (Activatio  (None, 19, 19, 128)  0          ['conv3_block2_1_bn[0][0]']      \n",
            " n)                                                                                               \n",
            "                                                                                                  \n",
            " conv3_block2_2_conv (Conv2D)   (None, 19, 19, 128)  147584      ['conv3_block2_1_relu[0][0]']    \n",
            "                                                                                                  \n",
            " conv3_block2_2_bn (BatchNormal  (None, 19, 19, 128)  512        ['conv3_block2_2_conv[0][0]']    \n",
            " ization)                                                                                         \n",
            "                                                                                                  \n",
            " conv3_block2_2_relu (Activatio  (None, 19, 19, 128)  0          ['conv3_block2_2_bn[0][0]']      \n",
            " n)                                                                                               \n",
            "                                                                                                  \n",
            " conv3_block2_3_conv (Conv2D)   (None, 19, 19, 512)  66048       ['conv3_block2_2_relu[0][0]']    \n",
            "                                                                                                  \n",
            " conv3_block2_3_bn (BatchNormal  (None, 19, 19, 512)  2048       ['conv3_block2_3_conv[0][0]']    \n",
            " ization)                                                                                         \n",
            "                                                                                                  \n",
            " conv3_block2_add (Add)         (None, 19, 19, 512)  0           ['conv3_block1_out[0][0]',       \n",
            "                                                                  'conv3_block2_3_bn[0][0]']      \n",
            "                                                                                                  \n",
            " conv3_block2_out (Activation)  (None, 19, 19, 512)  0           ['conv3_block2_add[0][0]']       \n",
            "                                                                                                  \n",
            " conv3_block3_1_conv (Conv2D)   (None, 19, 19, 128)  65664       ['conv3_block2_out[0][0]']       \n",
            "                                                                                                  \n",
            " conv3_block3_1_bn (BatchNormal  (None, 19, 19, 128)  512        ['conv3_block3_1_conv[0][0]']    \n",
            " ization)                                                                                         \n",
            "                                                                                                  \n",
            " conv3_block3_1_relu (Activatio  (None, 19, 19, 128)  0          ['conv3_block3_1_bn[0][0]']      \n",
            " n)                                                                                               \n",
            "                                                                                                  \n",
            " conv3_block3_2_conv (Conv2D)   (None, 19, 19, 128)  147584      ['conv3_block3_1_relu[0][0]']    \n",
            "                                                                                                  \n",
            " conv3_block3_2_bn (BatchNormal  (None, 19, 19, 128)  512        ['conv3_block3_2_conv[0][0]']    \n",
            " ization)                                                                                         \n",
            "                                                                                                  \n",
            " conv3_block3_2_relu (Activatio  (None, 19, 19, 128)  0          ['conv3_block3_2_bn[0][0]']      \n",
            " n)                                                                                               \n",
            "                                                                                                  \n",
            " conv3_block3_3_conv (Conv2D)   (None, 19, 19, 512)  66048       ['conv3_block3_2_relu[0][0]']    \n",
            "                                                                                                  \n",
            " conv3_block3_3_bn (BatchNormal  (None, 19, 19, 512)  2048       ['conv3_block3_3_conv[0][0]']    \n",
            " ization)                                                                                         \n",
            "                                                                                                  \n",
            " conv3_block3_add (Add)         (None, 19, 19, 512)  0           ['conv3_block2_out[0][0]',       \n",
            "                                                                  'conv3_block3_3_bn[0][0]']      \n",
            "                                                                                                  \n",
            " conv3_block3_out (Activation)  (None, 19, 19, 512)  0           ['conv3_block3_add[0][0]']       \n",
            "                                                                                                  \n",
            " conv3_block4_1_conv (Conv2D)   (None, 19, 19, 128)  65664       ['conv3_block3_out[0][0]']       \n",
            "                                                                                                  \n",
            " conv3_block4_1_bn (BatchNormal  (None, 19, 19, 128)  512        ['conv3_block4_1_conv[0][0]']    \n",
            " ization)                                                                                         \n",
            "                                                                                                  \n",
            " conv3_block4_1_relu (Activatio  (None, 19, 19, 128)  0          ['conv3_block4_1_bn[0][0]']      \n",
            " n)                                                                                               \n",
            "                                                                                                  \n",
            " conv3_block4_2_conv (Conv2D)   (None, 19, 19, 128)  147584      ['conv3_block4_1_relu[0][0]']    \n",
            "                                                                                                  \n",
            " conv3_block4_2_bn (BatchNormal  (None, 19, 19, 128)  512        ['conv3_block4_2_conv[0][0]']    \n",
            " ization)                                                                                         \n",
            "                                                                                                  \n",
            " conv3_block4_2_relu (Activatio  (None, 19, 19, 128)  0          ['conv3_block4_2_bn[0][0]']      \n",
            " n)                                                                                               \n",
            "                                                                                                  \n",
            " conv3_block4_3_conv (Conv2D)   (None, 19, 19, 512)  66048       ['conv3_block4_2_relu[0][0]']    \n",
            "                                                                                                  \n",
            " conv3_block4_3_bn (BatchNormal  (None, 19, 19, 512)  2048       ['conv3_block4_3_conv[0][0]']    \n",
            " ization)                                                                                         \n",
            "                                                                                                  \n",
            " conv3_block4_add (Add)         (None, 19, 19, 512)  0           ['conv3_block3_out[0][0]',       \n",
            "                                                                  'conv3_block4_3_bn[0][0]']      \n",
            "                                                                                                  \n",
            " conv3_block4_out (Activation)  (None, 19, 19, 512)  0           ['conv3_block4_add[0][0]']       \n",
            "                                                                                                  \n",
            " conv4_block1_1_conv (Conv2D)   (None, 10, 10, 256)  131328      ['conv3_block4_out[0][0]']       \n",
            "                                                                                                  \n",
            " conv4_block1_1_bn (BatchNormal  (None, 10, 10, 256)  1024       ['conv4_block1_1_conv[0][0]']    \n",
            " ization)                                                                                         \n",
            "                                                                                                  \n",
            " conv4_block1_1_relu (Activatio  (None, 10, 10, 256)  0          ['conv4_block1_1_bn[0][0]']      \n",
            " n)                                                                                               \n",
            "                                                                                                  \n",
            " conv4_block1_2_conv (Conv2D)   (None, 10, 10, 256)  590080      ['conv4_block1_1_relu[0][0]']    \n",
            "                                                                                                  \n",
            " conv4_block1_2_bn (BatchNormal  (None, 10, 10, 256)  1024       ['conv4_block1_2_conv[0][0]']    \n",
            " ization)                                                                                         \n",
            "                                                                                                  \n",
            " conv4_block1_2_relu (Activatio  (None, 10, 10, 256)  0          ['conv4_block1_2_bn[0][0]']      \n",
            " n)                                                                                               \n",
            "                                                                                                  \n",
            " conv4_block1_0_conv (Conv2D)   (None, 10, 10, 1024  525312      ['conv3_block4_out[0][0]']       \n",
            "                                )                                                                 \n",
            "                                                                                                  \n",
            " conv4_block1_3_conv (Conv2D)   (None, 10, 10, 1024  263168      ['conv4_block1_2_relu[0][0]']    \n",
            "                                )                                                                 \n",
            "                                                                                                  \n",
            " conv4_block1_0_bn (BatchNormal  (None, 10, 10, 1024  4096       ['conv4_block1_0_conv[0][0]']    \n",
            " ization)                       )                                                                 \n",
            "                                                                                                  \n",
            " conv4_block1_3_bn (BatchNormal  (None, 10, 10, 1024  4096       ['conv4_block1_3_conv[0][0]']    \n",
            " ization)                       )                                                                 \n",
            "                                                                                                  \n",
            " conv4_block1_add (Add)         (None, 10, 10, 1024  0           ['conv4_block1_0_bn[0][0]',      \n",
            "                                )                                 'conv4_block1_3_bn[0][0]']      \n",
            "                                                                                                  \n",
            " conv4_block1_out (Activation)  (None, 10, 10, 1024  0           ['conv4_block1_add[0][0]']       \n",
            "                                )                                                                 \n",
            "                                                                                                  \n",
            " conv4_block2_1_conv (Conv2D)   (None, 10, 10, 256)  262400      ['conv4_block1_out[0][0]']       \n",
            "                                                                                                  \n",
            " conv4_block2_1_bn (BatchNormal  (None, 10, 10, 256)  1024       ['conv4_block2_1_conv[0][0]']    \n",
            " ization)                                                                                         \n",
            "                                                                                                  \n",
            " conv4_block2_1_relu (Activatio  (None, 10, 10, 256)  0          ['conv4_block2_1_bn[0][0]']      \n",
            " n)                                                                                               \n",
            "                                                                                                  \n",
            " conv4_block2_2_conv (Conv2D)   (None, 10, 10, 256)  590080      ['conv4_block2_1_relu[0][0]']    \n",
            "                                                                                                  \n",
            " conv4_block2_2_bn (BatchNormal  (None, 10, 10, 256)  1024       ['conv4_block2_2_conv[0][0]']    \n",
            " ization)                                                                                         \n",
            "                                                                                                  \n",
            " conv4_block2_2_relu (Activatio  (None, 10, 10, 256)  0          ['conv4_block2_2_bn[0][0]']      \n",
            " n)                                                                                               \n",
            "                                                                                                  \n",
            " conv4_block2_3_conv (Conv2D)   (None, 10, 10, 1024  263168      ['conv4_block2_2_relu[0][0]']    \n",
            "                                )                                                                 \n",
            "                                                                                                  \n",
            " conv4_block2_3_bn (BatchNormal  (None, 10, 10, 1024  4096       ['conv4_block2_3_conv[0][0]']    \n",
            " ization)                       )                                                                 \n",
            "                                                                                                  \n",
            " conv4_block2_add (Add)         (None, 10, 10, 1024  0           ['conv4_block1_out[0][0]',       \n",
            "                                )                                 'conv4_block2_3_bn[0][0]']      \n",
            "                                                                                                  \n",
            " conv4_block2_out (Activation)  (None, 10, 10, 1024  0           ['conv4_block2_add[0][0]']       \n",
            "                                )                                                                 \n",
            "                                                                                                  \n",
            " conv4_block3_1_conv (Conv2D)   (None, 10, 10, 256)  262400      ['conv4_block2_out[0][0]']       \n",
            "                                                                                                  \n",
            " conv4_block3_1_bn (BatchNormal  (None, 10, 10, 256)  1024       ['conv4_block3_1_conv[0][0]']    \n",
            " ization)                                                                                         \n",
            "                                                                                                  \n",
            " conv4_block3_1_relu (Activatio  (None, 10, 10, 256)  0          ['conv4_block3_1_bn[0][0]']      \n",
            " n)                                                                                               \n",
            "                                                                                                  \n",
            " conv4_block3_2_conv (Conv2D)   (None, 10, 10, 256)  590080      ['conv4_block3_1_relu[0][0]']    \n",
            "                                                                                                  \n",
            " conv4_block3_2_bn (BatchNormal  (None, 10, 10, 256)  1024       ['conv4_block3_2_conv[0][0]']    \n",
            " ization)                                                                                         \n",
            "                                                                                                  \n",
            " conv4_block3_2_relu (Activatio  (None, 10, 10, 256)  0          ['conv4_block3_2_bn[0][0]']      \n",
            " n)                                                                                               \n",
            "                                                                                                  \n",
            " conv4_block3_3_conv (Conv2D)   (None, 10, 10, 1024  263168      ['conv4_block3_2_relu[0][0]']    \n",
            "                                )                                                                 \n",
            "                                                                                                  \n",
            " conv4_block3_3_bn (BatchNormal  (None, 10, 10, 1024  4096       ['conv4_block3_3_conv[0][0]']    \n",
            " ization)                       )                                                                 \n",
            "                                                                                                  \n",
            " conv4_block3_add (Add)         (None, 10, 10, 1024  0           ['conv4_block2_out[0][0]',       \n",
            "                                )                                 'conv4_block3_3_bn[0][0]']      \n",
            "                                                                                                  \n",
            " conv4_block3_out (Activation)  (None, 10, 10, 1024  0           ['conv4_block3_add[0][0]']       \n",
            "                                )                                                                 \n",
            "                                                                                                  \n",
            " conv4_block4_1_conv (Conv2D)   (None, 10, 10, 256)  262400      ['conv4_block3_out[0][0]']       \n",
            "                                                                                                  \n",
            " conv4_block4_1_bn (BatchNormal  (None, 10, 10, 256)  1024       ['conv4_block4_1_conv[0][0]']    \n",
            " ization)                                                                                         \n",
            "                                                                                                  \n",
            " conv4_block4_1_relu (Activatio  (None, 10, 10, 256)  0          ['conv4_block4_1_bn[0][0]']      \n",
            " n)                                                                                               \n",
            "                                                                                                  \n",
            " conv4_block4_2_conv (Conv2D)   (None, 10, 10, 256)  590080      ['conv4_block4_1_relu[0][0]']    \n",
            "                                                                                                  \n",
            " conv4_block4_2_bn (BatchNormal  (None, 10, 10, 256)  1024       ['conv4_block4_2_conv[0][0]']    \n",
            " ization)                                                                                         \n",
            "                                                                                                  \n",
            " conv4_block4_2_relu (Activatio  (None, 10, 10, 256)  0          ['conv4_block4_2_bn[0][0]']      \n",
            " n)                                                                                               \n",
            "                                                                                                  \n",
            " conv4_block4_3_conv (Conv2D)   (None, 10, 10, 1024  263168      ['conv4_block4_2_relu[0][0]']    \n",
            "                                )                                                                 \n",
            "                                                                                                  \n",
            " conv4_block4_3_bn (BatchNormal  (None, 10, 10, 1024  4096       ['conv4_block4_3_conv[0][0]']    \n",
            " ization)                       )                                                                 \n",
            "                                                                                                  \n",
            " conv4_block4_add (Add)         (None, 10, 10, 1024  0           ['conv4_block3_out[0][0]',       \n",
            "                                )                                 'conv4_block4_3_bn[0][0]']      \n",
            "                                                                                                  \n",
            " conv4_block4_out (Activation)  (None, 10, 10, 1024  0           ['conv4_block4_add[0][0]']       \n",
            "                                )                                                                 \n",
            "                                                                                                  \n",
            " conv4_block5_1_conv (Conv2D)   (None, 10, 10, 256)  262400      ['conv4_block4_out[0][0]']       \n",
            "                                                                                                  \n",
            " conv4_block5_1_bn (BatchNormal  (None, 10, 10, 256)  1024       ['conv4_block5_1_conv[0][0]']    \n",
            " ization)                                                                                         \n",
            "                                                                                                  \n",
            " conv4_block5_1_relu (Activatio  (None, 10, 10, 256)  0          ['conv4_block5_1_bn[0][0]']      \n",
            " n)                                                                                               \n",
            "                                                                                                  \n",
            " conv4_block5_2_conv (Conv2D)   (None, 10, 10, 256)  590080      ['conv4_block5_1_relu[0][0]']    \n",
            "                                                                                                  \n",
            " conv4_block5_2_bn (BatchNormal  (None, 10, 10, 256)  1024       ['conv4_block5_2_conv[0][0]']    \n",
            " ization)                                                                                         \n",
            "                                                                                                  \n",
            " conv4_block5_2_relu (Activatio  (None, 10, 10, 256)  0          ['conv4_block5_2_bn[0][0]']      \n",
            " n)                                                                                               \n",
            "                                                                                                  \n",
            " conv4_block5_3_conv (Conv2D)   (None, 10, 10, 1024  263168      ['conv4_block5_2_relu[0][0]']    \n",
            "                                )                                                                 \n",
            "                                                                                                  \n",
            " conv4_block5_3_bn (BatchNormal  (None, 10, 10, 1024  4096       ['conv4_block5_3_conv[0][0]']    \n",
            " ization)                       )                                                                 \n",
            "                                                                                                  \n",
            " conv4_block5_add (Add)         (None, 10, 10, 1024  0           ['conv4_block4_out[0][0]',       \n",
            "                                )                                 'conv4_block5_3_bn[0][0]']      \n",
            "                                                                                                  \n",
            " conv4_block5_out (Activation)  (None, 10, 10, 1024  0           ['conv4_block5_add[0][0]']       \n",
            "                                )                                                                 \n",
            "                                                                                                  \n",
            " conv4_block6_1_conv (Conv2D)   (None, 10, 10, 256)  262400      ['conv4_block5_out[0][0]']       \n",
            "                                                                                                  \n",
            " conv4_block6_1_bn (BatchNormal  (None, 10, 10, 256)  1024       ['conv4_block6_1_conv[0][0]']    \n",
            " ization)                                                                                         \n",
            "                                                                                                  \n",
            " conv4_block6_1_relu (Activatio  (None, 10, 10, 256)  0          ['conv4_block6_1_bn[0][0]']      \n",
            " n)                                                                                               \n",
            "                                                                                                  \n",
            " conv4_block6_2_conv (Conv2D)   (None, 10, 10, 256)  590080      ['conv4_block6_1_relu[0][0]']    \n",
            "                                                                                                  \n",
            " conv4_block6_2_bn (BatchNormal  (None, 10, 10, 256)  1024       ['conv4_block6_2_conv[0][0]']    \n",
            " ization)                                                                                         \n",
            "                                                                                                  \n",
            " conv4_block6_2_relu (Activatio  (None, 10, 10, 256)  0          ['conv4_block6_2_bn[0][0]']      \n",
            " n)                                                                                               \n",
            "                                                                                                  \n",
            " conv4_block6_3_conv (Conv2D)   (None, 10, 10, 1024  263168      ['conv4_block6_2_relu[0][0]']    \n",
            "                                )                                                                 \n",
            "                                                                                                  \n",
            " conv4_block6_3_bn (BatchNormal  (None, 10, 10, 1024  4096       ['conv4_block6_3_conv[0][0]']    \n",
            " ization)                       )                                                                 \n",
            "                                                                                                  \n",
            " conv4_block6_add (Add)         (None, 10, 10, 1024  0           ['conv4_block5_out[0][0]',       \n",
            "                                )                                 'conv4_block6_3_bn[0][0]']      \n",
            "                                                                                                  \n",
            " conv4_block6_out (Activation)  (None, 10, 10, 1024  0           ['conv4_block6_add[0][0]']       \n",
            "                                )                                                                 \n",
            "                                                                                                  \n",
            " conv5_block1_1_conv (Conv2D)   (None, 5, 5, 512)    524800      ['conv4_block6_out[0][0]']       \n",
            "                                                                                                  \n",
            " conv5_block1_1_bn (BatchNormal  (None, 5, 5, 512)   2048        ['conv5_block1_1_conv[0][0]']    \n",
            " ization)                                                                                         \n",
            "                                                                                                  \n",
            " conv5_block1_1_relu (Activatio  (None, 5, 5, 512)   0           ['conv5_block1_1_bn[0][0]']      \n",
            " n)                                                                                               \n",
            "                                                                                                  \n",
            " conv5_block1_2_conv (Conv2D)   (None, 5, 5, 512)    2359808     ['conv5_block1_1_relu[0][0]']    \n",
            "                                                                                                  \n",
            " conv5_block1_2_bn (BatchNormal  (None, 5, 5, 512)   2048        ['conv5_block1_2_conv[0][0]']    \n",
            " ization)                                                                                         \n",
            "                                                                                                  \n",
            " conv5_block1_2_relu (Activatio  (None, 5, 5, 512)   0           ['conv5_block1_2_bn[0][0]']      \n",
            " n)                                                                                               \n",
            "                                                                                                  \n",
            " conv5_block1_0_conv (Conv2D)   (None, 5, 5, 2048)   2099200     ['conv4_block6_out[0][0]']       \n",
            "                                                                                                  \n",
            " conv5_block1_3_conv (Conv2D)   (None, 5, 5, 2048)   1050624     ['conv5_block1_2_relu[0][0]']    \n",
            "                                                                                                  \n",
            " conv5_block1_0_bn (BatchNormal  (None, 5, 5, 2048)  8192        ['conv5_block1_0_conv[0][0]']    \n",
            " ization)                                                                                         \n",
            "                                                                                                  \n",
            " conv5_block1_3_bn (BatchNormal  (None, 5, 5, 2048)  8192        ['conv5_block1_3_conv[0][0]']    \n",
            " ization)                                                                                         \n",
            "                                                                                                  \n",
            " conv5_block1_add (Add)         (None, 5, 5, 2048)   0           ['conv5_block1_0_bn[0][0]',      \n",
            "                                                                  'conv5_block1_3_bn[0][0]']      \n",
            "                                                                                                  \n",
            " conv5_block1_out (Activation)  (None, 5, 5, 2048)   0           ['conv5_block1_add[0][0]']       \n",
            "                                                                                                  \n",
            " conv5_block2_1_conv (Conv2D)   (None, 5, 5, 512)    1049088     ['conv5_block1_out[0][0]']       \n",
            "                                                                                                  \n",
            " conv5_block2_1_bn (BatchNormal  (None, 5, 5, 512)   2048        ['conv5_block2_1_conv[0][0]']    \n",
            " ization)                                                                                         \n",
            "                                                                                                  \n",
            " conv5_block2_1_relu (Activatio  (None, 5, 5, 512)   0           ['conv5_block2_1_bn[0][0]']      \n",
            " n)                                                                                               \n",
            "                                                                                                  \n",
            " conv5_block2_2_conv (Conv2D)   (None, 5, 5, 512)    2359808     ['conv5_block2_1_relu[0][0]']    \n",
            "                                                                                                  \n",
            " conv5_block2_2_bn (BatchNormal  (None, 5, 5, 512)   2048        ['conv5_block2_2_conv[0][0]']    \n",
            " ization)                                                                                         \n",
            "                                                                                                  \n",
            " conv5_block2_2_relu (Activatio  (None, 5, 5, 512)   0           ['conv5_block2_2_bn[0][0]']      \n",
            " n)                                                                                               \n",
            "                                                                                                  \n",
            " conv5_block2_3_conv (Conv2D)   (None, 5, 5, 2048)   1050624     ['conv5_block2_2_relu[0][0]']    \n",
            "                                                                                                  \n",
            " conv5_block2_3_bn (BatchNormal  (None, 5, 5, 2048)  8192        ['conv5_block2_3_conv[0][0]']    \n",
            " ization)                                                                                         \n",
            "                                                                                                  \n",
            " conv5_block2_add (Add)         (None, 5, 5, 2048)   0           ['conv5_block1_out[0][0]',       \n",
            "                                                                  'conv5_block2_3_bn[0][0]']      \n",
            "                                                                                                  \n",
            " conv5_block2_out (Activation)  (None, 5, 5, 2048)   0           ['conv5_block2_add[0][0]']       \n",
            "                                                                                                  \n",
            " conv5_block3_1_conv (Conv2D)   (None, 5, 5, 512)    1049088     ['conv5_block2_out[0][0]']       \n",
            "                                                                                                  \n",
            " conv5_block3_1_bn (BatchNormal  (None, 5, 5, 512)   2048        ['conv5_block3_1_conv[0][0]']    \n",
            " ization)                                                                                         \n",
            "                                                                                                  \n",
            " conv5_block3_1_relu (Activatio  (None, 5, 5, 512)   0           ['conv5_block3_1_bn[0][0]']      \n",
            " n)                                                                                               \n",
            "                                                                                                  \n",
            " conv5_block3_2_conv (Conv2D)   (None, 5, 5, 512)    2359808     ['conv5_block3_1_relu[0][0]']    \n",
            "                                                                                                  \n",
            " conv5_block3_2_bn (BatchNormal  (None, 5, 5, 512)   2048        ['conv5_block3_2_conv[0][0]']    \n",
            " ization)                                                                                         \n",
            "                                                                                                  \n",
            " conv5_block3_2_relu (Activatio  (None, 5, 5, 512)   0           ['conv5_block3_2_bn[0][0]']      \n",
            " n)                                                                                               \n",
            "                                                                                                  \n",
            " conv5_block3_3_conv (Conv2D)   (None, 5, 5, 2048)   1050624     ['conv5_block3_2_relu[0][0]']    \n",
            "                                                                                                  \n",
            " conv5_block3_3_bn (BatchNormal  (None, 5, 5, 2048)  8192        ['conv5_block3_3_conv[0][0]']    \n",
            " ization)                                                                                         \n",
            "                                                                                                  \n",
            " conv5_block3_add (Add)         (None, 5, 5, 2048)   0           ['conv5_block2_out[0][0]',       \n",
            "                                                                  'conv5_block3_3_bn[0][0]']      \n",
            "                                                                                                  \n",
            " conv5_block3_out (Activation)  (None, 5, 5, 2048)   0           ['conv5_block3_add[0][0]']       \n",
            "                                                                                                  \n",
            " avg_pool (GlobalAveragePooling  (None, 2048)        0           ['conv5_block3_out[0][0]']       \n",
            " 2D)                                                                                              \n",
            "                                                                                                  \n",
            " predictions (Dense)            (None, 2)            4098        ['avg_pool[0][0]']               \n",
            "                                                                                                  \n",
            "==================================================================================================\n",
            "Total params: 23,591,810\n",
            "Trainable params: 23,538,690\n",
            "Non-trainable params: 53,120\n",
            "__________________________________________________________________________________________________\n"
          ]
        }
      ]
    },
    {
      "cell_type": "code",
      "source": [
        "Res_new_model.summary()"
      ],
      "metadata": {
        "colab": {
          "base_uri": "https://localhost:8080/"
        },
        "id": "AFG-niyKZ97G",
        "outputId": "42c17265-8e23-41a3-d85d-500c181c8eda"
      },
      "execution_count": null,
      "outputs": [
        {
          "output_type": "stream",
          "name": "stdout",
          "text": [
            "Model: \"sequential_5\"\n",
            "_________________________________________________________________\n",
            " Layer (type)                Output Shape              Param #   \n",
            "=================================================================\n",
            " resnet50 (Functional)       (None, 2)                 23591810  \n",
            "                                                                 \n",
            " dense_11 (Dense)            (None, 512)               1536      \n",
            "                                                                 \n",
            " dropout_2 (Dropout)         (None, 512)               0         \n",
            "                                                                 \n",
            " dense_12 (Dense)            (None, 512)               262656    \n",
            "                                                                 \n",
            " dropout_3 (Dropout)         (None, 512)               0         \n",
            "                                                                 \n",
            " dense_13 (Dense)            (None, 1)                 513       \n",
            "                                                                 \n",
            "=================================================================\n",
            "Total params: 23,856,515\n",
            "Trainable params: 23,803,395\n",
            "Non-trainable params: 53,120\n",
            "_________________________________________________________________\n"
          ]
        }
      ]
    },
    {
      "cell_type": "code",
      "source": [
        "ResNet50_history = Res_new_model.fit_generator(train_generator,\n",
        "                              steps_per_epoch=45,\n",
        "                              epochs=50,\n",
        "                              validation_data=validation_generator,\n",
        "                              validation_steps=5)\n",
        "model.save('/content/drive/MyDrive/Project/blockchain_deeplearning/4.h5')"
      ],
      "metadata": {
        "colab": {
          "base_uri": "https://localhost:8080/"
        },
        "id": "F_44SJXZOPKS",
        "outputId": "b7bc520d-11f9-4f8f-fca0-ff5bf5cdb565"
      },
      "execution_count": null,
      "outputs": [
        {
          "output_type": "stream",
          "name": "stderr",
          "text": [
            "/usr/local/lib/python3.7/dist-packages/ipykernel_launcher.py:5: UserWarning: `Model.fit_generator` is deprecated and will be removed in a future version. Please use `Model.fit`, which supports generators.\n",
            "  \"\"\"\n"
          ]
        },
        {
          "output_type": "stream",
          "name": "stdout",
          "text": [
            "Epoch 1/50\n",
            "45/45 [==============================] - 126s 3s/step - loss: 0.6930 - accuracy: 0.5039 - val_loss: 0.6931 - val_accuracy: 0.5100\n",
            "Epoch 2/50\n",
            "45/45 [==============================] - 117s 3s/step - loss: 0.6915 - accuracy: 0.5151 - val_loss: 0.6931 - val_accuracy: 0.5100\n",
            "Epoch 3/50\n",
            "45/45 [==============================] - 117s 3s/step - loss: 0.6885 - accuracy: 0.5274 - val_loss: 0.6935 - val_accuracy: 0.4900\n",
            "Epoch 4/50\n",
            "45/45 [==============================] - 117s 3s/step - loss: 0.6810 - accuracy: 0.6002 - val_loss: 0.6951 - val_accuracy: 0.4800\n",
            "Epoch 5/50\n",
            "45/45 [==============================] - 117s 3s/step - loss: 0.6732 - accuracy: 0.6316 - val_loss: 0.6968 - val_accuracy: 0.4900\n",
            "Epoch 6/50\n",
            "45/45 [==============================] - 118s 3s/step - loss: 0.6625 - accuracy: 0.6652 - val_loss: 0.6940 - val_accuracy: 0.5200\n",
            "Epoch 7/50\n",
            "45/45 [==============================] - 118s 3s/step - loss: 0.6563 - accuracy: 0.6674 - val_loss: 0.7017 - val_accuracy: 0.4900\n",
            "Epoch 8/50\n",
            "45/45 [==============================] - 118s 3s/step - loss: 0.6507 - accuracy: 0.6719 - val_loss: 0.6948 - val_accuracy: 0.5300\n",
            "Epoch 9/50\n",
            "45/45 [==============================] - 117s 3s/step - loss: 0.6479 - accuracy: 0.6540 - val_loss: 0.6831 - val_accuracy: 0.5500\n",
            "Epoch 10/50\n",
            "45/45 [==============================] - 121s 3s/step - loss: 0.6416 - accuracy: 0.6663 - val_loss: 0.6578 - val_accuracy: 0.6000\n",
            "Epoch 11/50\n",
            "45/45 [==============================] - 118s 3s/step - loss: 0.6471 - accuracy: 0.6484 - val_loss: 0.6071 - val_accuracy: 0.7400\n",
            "Epoch 12/50\n",
            "45/45 [==============================] - 123s 3s/step - loss: 0.6316 - accuracy: 0.6865 - val_loss: 0.6306 - val_accuracy: 0.6600\n",
            "Epoch 13/50\n",
            "45/45 [==============================] - 119s 3s/step - loss: 0.6213 - accuracy: 0.6988 - val_loss: 0.5983 - val_accuracy: 0.7400\n",
            "Epoch 14/50\n",
            "45/45 [==============================] - 119s 3s/step - loss: 0.6250 - accuracy: 0.6831 - val_loss: 0.5997 - val_accuracy: 0.7200\n",
            "Epoch 15/50\n",
            "45/45 [==============================] - 118s 3s/step - loss: 0.6261 - accuracy: 0.6708 - val_loss: 0.6025 - val_accuracy: 0.7100\n",
            "Epoch 16/50\n",
            "45/45 [==============================] - 118s 3s/step - loss: 0.6240 - accuracy: 0.6853 - val_loss: 0.6273 - val_accuracy: 0.6700\n",
            "Epoch 17/50\n",
            "45/45 [==============================] - 121s 3s/step - loss: 0.6234 - accuracy: 0.6767 - val_loss: 0.6057 - val_accuracy: 0.7200\n",
            "Epoch 18/50\n",
            "45/45 [==============================] - 120s 3s/step - loss: 0.6215 - accuracy: 0.6809 - val_loss: 0.6208 - val_accuracy: 0.6900\n",
            "Epoch 19/50\n",
            "45/45 [==============================] - 120s 3s/step - loss: 0.6209 - accuracy: 0.6786 - val_loss: 0.6470 - val_accuracy: 0.6400\n",
            "Epoch 20/50\n",
            "45/45 [==============================] - 119s 3s/step - loss: 0.6124 - accuracy: 0.6898 - val_loss: 0.6001 - val_accuracy: 0.7000\n",
            "Epoch 21/50\n",
            "45/45 [==============================] - 120s 3s/step - loss: 0.6125 - accuracy: 0.6876 - val_loss: 0.6122 - val_accuracy: 0.7000\n",
            "Epoch 22/50\n",
            "45/45 [==============================] - 119s 3s/step - loss: 0.6024 - accuracy: 0.7021 - val_loss: 0.6152 - val_accuracy: 0.7000\n",
            "Epoch 23/50\n",
            "45/45 [==============================] - 119s 3s/step - loss: 0.6215 - accuracy: 0.6730 - val_loss: 0.7066 - val_accuracy: 0.6000\n",
            "Epoch 24/50\n",
            "45/45 [==============================] - 120s 3s/step - loss: 0.6076 - accuracy: 0.6943 - val_loss: 0.6451 - val_accuracy: 0.6500\n",
            "Epoch 25/50\n",
            "45/45 [==============================] - 121s 3s/step - loss: 0.6097 - accuracy: 0.6853 - val_loss: 0.6777 - val_accuracy: 0.6500\n",
            "Epoch 26/50\n",
            "45/45 [==============================] - 120s 3s/step - loss: 0.6235 - accuracy: 0.6741 - val_loss: 0.7402 - val_accuracy: 0.5600\n",
            "Epoch 27/50\n",
            "45/45 [==============================] - 120s 3s/step - loss: 0.6074 - accuracy: 0.6865 - val_loss: 0.6283 - val_accuracy: 0.6700\n",
            "Epoch 28/50\n",
            "45/45 [==============================] - 121s 3s/step - loss: 0.5983 - accuracy: 0.7077 - val_loss: 0.6590 - val_accuracy: 0.6500\n",
            "Epoch 29/50\n",
            "45/45 [==============================] - 121s 3s/step - loss: 0.6144 - accuracy: 0.6820 - val_loss: 0.6668 - val_accuracy: 0.6500\n",
            "Epoch 30/50\n",
            "45/45 [==============================] - 121s 3s/step - loss: 0.6059 - accuracy: 0.6898 - val_loss: 0.6509 - val_accuracy: 0.6700\n",
            "Epoch 31/50\n",
            "45/45 [==============================] - 121s 3s/step - loss: 0.6106 - accuracy: 0.6831 - val_loss: 0.6485 - val_accuracy: 0.6500\n",
            "Epoch 32/50\n",
            "45/45 [==============================] - 124s 3s/step - loss: 0.5894 - accuracy: 0.7111 - val_loss: 0.6157 - val_accuracy: 0.6800\n",
            "Epoch 33/50\n",
            "45/45 [==============================] - 121s 3s/step - loss: 0.6057 - accuracy: 0.6909 - val_loss: 0.7387 - val_accuracy: 0.5200\n",
            "Epoch 34/50\n",
            "45/45 [==============================] - 120s 3s/step - loss: 0.5908 - accuracy: 0.7122 - val_loss: 0.5785 - val_accuracy: 0.7400\n",
            "Epoch 35/50\n",
            "45/45 [==============================] - 120s 3s/step - loss: 0.5949 - accuracy: 0.7010 - val_loss: 0.6489 - val_accuracy: 0.6200\n",
            "Epoch 36/50\n",
            "45/45 [==============================] - 121s 3s/step - loss: 0.5981 - accuracy: 0.7044 - val_loss: 0.6820 - val_accuracy: 0.6200\n",
            "Epoch 37/50\n",
            "45/45 [==============================] - 121s 3s/step - loss: 0.5922 - accuracy: 0.7055 - val_loss: 0.6468 - val_accuracy: 0.6800\n",
            "Epoch 38/50\n",
            "45/45 [==============================] - 121s 3s/step - loss: 0.5949 - accuracy: 0.7077 - val_loss: 0.6661 - val_accuracy: 0.6600\n",
            "Epoch 39/50\n",
            "45/45 [==============================] - 121s 3s/step - loss: 0.5932 - accuracy: 0.6999 - val_loss: 0.6339 - val_accuracy: 0.6800\n",
            "Epoch 40/50\n",
            "45/45 [==============================] - 121s 3s/step - loss: 0.5789 - accuracy: 0.7234 - val_loss: 0.6297 - val_accuracy: 0.6800\n",
            "Epoch 41/50\n",
            "45/45 [==============================] - 123s 3s/step - loss: 0.5776 - accuracy: 0.7223 - val_loss: 0.6295 - val_accuracy: 0.6800\n",
            "Epoch 42/50\n",
            "45/45 [==============================] - 124s 3s/step - loss: 0.5867 - accuracy: 0.7077 - val_loss: 0.6446 - val_accuracy: 0.6400\n",
            "Epoch 43/50\n",
            "45/45 [==============================] - 124s 3s/step - loss: 0.5717 - accuracy: 0.7189 - val_loss: 0.6556 - val_accuracy: 0.6800\n",
            "Epoch 44/50\n",
            "45/45 [==============================] - 121s 3s/step - loss: 0.5796 - accuracy: 0.7156 - val_loss: 0.6727 - val_accuracy: 0.6200\n",
            "Epoch 45/50\n",
            "45/45 [==============================] - 121s 3s/step - loss: 0.5820 - accuracy: 0.7156 - val_loss: 0.6426 - val_accuracy: 0.6400\n",
            "Epoch 46/50\n",
            "45/45 [==============================] - 121s 3s/step - loss: 0.5826 - accuracy: 0.7055 - val_loss: 0.7528 - val_accuracy: 0.5200\n",
            "Epoch 47/50\n",
            "45/45 [==============================] - 121s 3s/step - loss: 0.5884 - accuracy: 0.7100 - val_loss: 0.5976 - val_accuracy: 0.7200\n",
            "Epoch 48/50\n",
            "45/45 [==============================] - 121s 3s/step - loss: 0.5795 - accuracy: 0.7111 - val_loss: 0.6062 - val_accuracy: 0.7100\n",
            "Epoch 49/50\n",
            "45/45 [==============================] - 121s 3s/step - loss: 0.5873 - accuracy: 0.7122 - val_loss: 0.6304 - val_accuracy: 0.6800\n",
            "Epoch 50/50\n",
            "45/45 [==============================] - 122s 3s/step - loss: 0.5803 - accuracy: 0.7144 - val_loss: 0.6327 - val_accuracy: 0.7000\n"
          ]
        }
      ]
    },
    {
      "cell_type": "code",
      "source": [
        "Res_new_model.evaluate(test_generator)"
      ],
      "metadata": {
        "colab": {
          "base_uri": "https://localhost:8080/"
        },
        "id": "r2XijGcQOPNi",
        "outputId": "89e3e5cd-b0a6-48fd-f99a-6371d318d158"
      },
      "execution_count": null,
      "outputs": [
        {
          "output_type": "stream",
          "name": "stdout",
          "text": [
            "6/6 [==============================] - 3s 505ms/step - loss: 0.6743 - accuracy: 0.6638\n"
          ]
        },
        {
          "output_type": "execute_result",
          "data": {
            "text/plain": [
              "[0.6742859482765198, 0.6637930870056152]"
            ]
          },
          "metadata": {},
          "execution_count": 35
        }
      ]
    },
    {
      "cell_type": "code",
      "source": [
        "import matplotlib.pyplot as plt\n",
        "\n",
        "acc = ResNet50_history.history['accuracy'] \n",
        "val_acc = ResNet50_history.history['val_accuracy'] \n",
        "loss = ResNet50_history.history['loss'] \n",
        "val_loss = ResNet50_history.history['val_loss']\n",
        "\n",
        "epochs = range(1, len(acc) + 1)\n",
        "\n",
        "plt.plot(epochs, acc, 'bo', label='Training acc') \n",
        "plt.plot(epochs, val_acc, 'b', label='Validation acc') \n",
        "plt.title('Training and validation accuracy') \n",
        "plt.legend()\n",
        "\n",
        "plt.figure()\n",
        "\n",
        "plt.plot(epochs, loss, 'bo', label='Training loss') \n",
        "plt.plot(epochs, val_loss, 'b', label='Validation loss') \n",
        "plt.title('Training and validation loss') \n",
        "plt.legend()\n",
        "\n",
        "plt.show()"
      ],
      "metadata": {
        "colab": {
          "base_uri": "https://localhost:8080/",
          "height": 545
        },
        "id": "9toHIpH3OPSG",
        "outputId": "b3295c65-0c2a-4169-8f86-a2db9c80adf8"
      },
      "execution_count": null,
      "outputs": [
        {
          "output_type": "display_data",
          "data": {
            "text/plain": [
              "<Figure size 432x288 with 1 Axes>"
            ],
            "image/png": "[encoded data removed]"
          },
          "metadata": {
            "needs_background": "light"
          }
        },
        {
          "output_type": "display_data",
          "data": {
            "text/plain": [
              "<Figure size 432x288 with 1 Axes>"
            ],
            "image/png": "[encoded data removed]"
          },
          "metadata": {
            "needs_background": "light"
          }
        }
      ]
    },
    {
      "cell_type": "markdown",
      "source": [
        "# EfficientNet"
      ],
      "metadata": {
        "id": "fb70_F5j8NhF"
      }
    },
    {
      "cell_type": "code",
      "source": [
        "from tensorflow.keras.applications import EfficientNetB0\n",
        "\n",
        "EfficientNetB0_base_model = EfficientNetB0(\n",
        "    include_top=True,\n",
        "    weights=None,\n",
        "    input_tensor=None,\n",
        "    input_shape=None,\n",
        "    pooling=None,\n",
        "    classes=2,\n",
        "    classifier_activation='sigmoid')\n",
        "\n",
        "EfficientNetB0_model = models.Sequential()\n",
        "EfficientNetB0_model.add(EfficientNetB0_base_model)\n",
        "\n",
        "EfficientNetB0_model.add(layers.Flatten())\n",
        "EfficientNetB0_model.add(layers.Dense(256, activation='relu'))\n",
        "EfficientNetB0_model.add(layers.Dense(1, activation='sigmoid'))\n",
        "\n",
        "\n",
        "EfficientNetB0_model.compile(loss='binary_crossentropy',\n",
        "              optimizer=optimizers.Adam(lr=1e-5),\n",
        "              metrics=['acc'])"
      ],
      "metadata": {
        "colab": {
          "base_uri": "https://localhost:8080/"
        },
        "id": "fzZYwZstOPbr",
        "outputId": "6afeabb0-5a77-4ed0-ff46-bd4a538f2a7d"
      },
      "execution_count": null,
      "outputs": [
        {
          "output_type": "stream",
          "name": "stderr",
          "text": [
            "/usr/local/lib/python3.7/dist-packages/keras/optimizer_v2/adam.py:105: UserWarning: The `lr` argument is deprecated, use `learning_rate` instead.\n",
            "  super(Adam, self).__init__(name, **kwargs)\n"
          ]
        }
      ]
    },
    {
      "cell_type": "code",
      "source": [
        "EfficientNetB0_base_model.summary()"
      ],
      "metadata": {
        "colab": {
          "base_uri": "https://localhost:8080/"
        },
        "id": "gnN-2s7BzvtO",
        "outputId": "0f3d6be7-a072-4575-e5c9-5e6506190f4d"
      },
      "execution_count": null,
      "outputs": [
        {
          "output_type": "stream",
          "name": "stdout",
          "text": [
            "Model: \"efficientnetb0\"\n",
            "__________________________________________________________________________________________________\n",
            " Layer (type)                   Output Shape         Param #     Connected to                     \n",
            "==================================================================================================\n",
            " input_6 (InputLayer)           [(None, 224, 224, 3  0           []                               \n",
            "                                )]                                                                \n",
            "                                                                                                  \n",
            " rescaling_1 (Rescaling)        (None, 224, 224, 3)  0           ['input_6[0][0]']                \n",
            "                                                                                                  \n",
            " normalization_1 (Normalization  (None, 224, 224, 3)  7          ['rescaling_1[0][0]']            \n",
            " )                                                                                                \n",
            "                                                                                                  \n",
            " stem_conv_pad (ZeroPadding2D)  (None, 225, 225, 3)  0           ['normalization_1[0][0]']        \n",
            "                                                                                                  \n",
            " stem_conv (Conv2D)             (None, 112, 112, 32  864         ['stem_conv_pad[0][0]']          \n",
            "                                )                                                                 \n",
            "                                                                                                  \n",
            " stem_bn (BatchNormalization)   (None, 112, 112, 32  128         ['stem_conv[0][0]']              \n",
            "                                )                                                                 \n",
            "                                                                                                  \n",
            " stem_activation (Activation)   (None, 112, 112, 32  0           ['stem_bn[0][0]']                \n",
            "                                )                                                                 \n",
            "                                                                                                  \n",
            " block1a_dwconv (DepthwiseConv2  (None, 112, 112, 32  288        ['stem_activation[0][0]']        \n",
            " D)                             )                                                                 \n",
            "                                                                                                  \n",
            " block1a_bn (BatchNormalization  (None, 112, 112, 32  128        ['block1a_dwconv[0][0]']         \n",
            " )                              )                                                                 \n",
            "                                                                                                  \n",
            " block1a_activation (Activation  (None, 112, 112, 32  0          ['block1a_bn[0][0]']             \n",
            " )                              )                                                                 \n",
            "                                                                                                  \n",
            " block1a_se_squeeze (GlobalAver  (None, 32)          0           ['block1a_activation[0][0]']     \n",
            " agePooling2D)                                                                                    \n",
            "                                                                                                  \n",
            " block1a_se_reshape (Reshape)   (None, 1, 1, 32)     0           ['block1a_se_squeeze[0][0]']     \n",
            "                                                                                                  \n",
            " block1a_se_reduce (Conv2D)     (None, 1, 1, 8)      264         ['block1a_se_reshape[0][0]']     \n",
            "                                                                                                  \n",
            " block1a_se_expand (Conv2D)     (None, 1, 1, 32)     288         ['block1a_se_reduce[0][0]']      \n",
            "                                                                                                  \n",
            " block1a_se_excite (Multiply)   (None, 112, 112, 32  0           ['block1a_activation[0][0]',     \n",
            "                                )                                 'block1a_se_expand[0][0]']      \n",
            "                                                                                                  \n",
            " block1a_project_conv (Conv2D)  (None, 112, 112, 16  512         ['block1a_se_excite[0][0]']      \n",
            "                                )                                                                 \n",
            "                                                                                                  \n",
            " block1a_project_bn (BatchNorma  (None, 112, 112, 16  64         ['block1a_project_conv[0][0]']   \n",
            " lization)                      )                                                                 \n",
            "                                                                                                  \n",
            " block2a_expand_conv (Conv2D)   (None, 112, 112, 96  1536        ['block1a_project_bn[0][0]']     \n",
            "                                )                                                                 \n",
            "                                                                                                  \n",
            " block2a_expand_bn (BatchNormal  (None, 112, 112, 96  384        ['block2a_expand_conv[0][0]']    \n",
            " ization)                       )                                                                 \n",
            "                                                                                                  \n",
            " block2a_expand_activation (Act  (None, 112, 112, 96  0          ['block2a_expand_bn[0][0]']      \n",
            " ivation)                       )                                                                 \n",
            "                                                                                                  \n",
            " block2a_dwconv_pad (ZeroPaddin  (None, 113, 113, 96  0          ['block2a_expand_activation[0][0]\n",
            " g2D)                           )                                ']                               \n",
            "                                                                                                  \n",
            " block2a_dwconv (DepthwiseConv2  (None, 56, 56, 96)  864         ['block2a_dwconv_pad[0][0]']     \n",
            " D)                                                                                               \n",
            "                                                                                                  \n",
            " block2a_bn (BatchNormalization  (None, 56, 56, 96)  384         ['block2a_dwconv[0][0]']         \n",
            " )                                                                                                \n",
            "                                                                                                  \n",
            " block2a_activation (Activation  (None, 56, 56, 96)  0           ['block2a_bn[0][0]']             \n",
            " )                                                                                                \n",
            "                                                                                                  \n",
            " block2a_se_squeeze (GlobalAver  (None, 96)          0           ['block2a_activation[0][0]']     \n",
            " agePooling2D)                                                                                    \n",
            "                                                                                                  \n",
            " block2a_se_reshape (Reshape)   (None, 1, 1, 96)     0           ['block2a_se_squeeze[0][0]']     \n",
            "                                                                                                  \n",
            " block2a_se_reduce (Conv2D)     (None, 1, 1, 4)      388         ['block2a_se_reshape[0][0]']     \n",
            "                                                                                                  \n",
            " block2a_se_expand (Conv2D)     (None, 1, 1, 96)     480         ['block2a_se_reduce[0][0]']      \n",
            "                                                                                                  \n",
            " block2a_se_excite (Multiply)   (None, 56, 56, 96)   0           ['block2a_activation[0][0]',     \n",
            "                                                                  'block2a_se_expand[0][0]']      \n",
            "                                                                                                  \n",
            " block2a_project_conv (Conv2D)  (None, 56, 56, 24)   2304        ['block2a_se_excite[0][0]']      \n",
            "                                                                                                  \n",
            " block2a_project_bn (BatchNorma  (None, 56, 56, 24)  96          ['block2a_project_conv[0][0]']   \n",
            " lization)                                                                                        \n",
            "                                                                                                  \n",
            " block2b_expand_conv (Conv2D)   (None, 56, 56, 144)  3456        ['block2a_project_bn[0][0]']     \n",
            "                                                                                                  \n",
            " block2b_expand_bn (BatchNormal  (None, 56, 56, 144)  576        ['block2b_expand_conv[0][0]']    \n",
            " ization)                                                                                         \n",
            "                                                                                                  \n",
            " block2b_expand_activation (Act  (None, 56, 56, 144)  0          ['block2b_expand_bn[0][0]']      \n",
            " ivation)                                                                                         \n",
            "                                                                                                  \n",
            " block2b_dwconv (DepthwiseConv2  (None, 56, 56, 144)  1296       ['block2b_expand_activation[0][0]\n",
            " D)                                                              ']                               \n",
            "                                                                                                  \n",
            " block2b_bn (BatchNormalization  (None, 56, 56, 144)  576        ['block2b_dwconv[0][0]']         \n",
            " )                                                                                                \n",
            "                                                                                                  \n",
            " block2b_activation (Activation  (None, 56, 56, 144)  0          ['block2b_bn[0][0]']             \n",
            " )                                                                                                \n",
            "                                                                                                  \n",
            " block2b_se_squeeze (GlobalAver  (None, 144)         0           ['block2b_activation[0][0]']     \n",
            " agePooling2D)                                                                                    \n",
            "                                                                                                  \n",
            " block2b_se_reshape (Reshape)   (None, 1, 1, 144)    0           ['block2b_se_squeeze[0][0]']     \n",
            "                                                                                                  \n",
            " block2b_se_reduce (Conv2D)     (None, 1, 1, 6)      870         ['block2b_se_reshape[0][0]']     \n",
            "                                                                                                  \n",
            " block2b_se_expand (Conv2D)     (None, 1, 1, 144)    1008        ['block2b_se_reduce[0][0]']      \n",
            "                                                                                                  \n",
            " block2b_se_excite (Multiply)   (None, 56, 56, 144)  0           ['block2b_activation[0][0]',     \n",
            "                                                                  'block2b_se_expand[0][0]']      \n",
            "                                                                                                  \n",
            " block2b_project_conv (Conv2D)  (None, 56, 56, 24)   3456        ['block2b_se_excite[0][0]']      \n",
            "                                                                                                  \n",
            " block2b_project_bn (BatchNorma  (None, 56, 56, 24)  96          ['block2b_project_conv[0][0]']   \n",
            " lization)                                                                                        \n",
            "                                                                                                  \n",
            " block2b_drop (Dropout)         (None, 56, 56, 24)   0           ['block2b_project_bn[0][0]']     \n",
            "                                                                                                  \n",
            " block2b_add (Add)              (None, 56, 56, 24)   0           ['block2b_drop[0][0]',           \n",
            "                                                                  'block2a_project_bn[0][0]']     \n",
            "                                                                                                  \n",
            " block3a_expand_conv (Conv2D)   (None, 56, 56, 144)  3456        ['block2b_add[0][0]']            \n",
            "                                                                                                  \n",
            " block3a_expand_bn (BatchNormal  (None, 56, 56, 144)  576        ['block3a_expand_conv[0][0]']    \n",
            " ization)                                                                                         \n",
            "                                                                                                  \n",
            " block3a_expand_activation (Act  (None, 56, 56, 144)  0          ['block3a_expand_bn[0][0]']      \n",
            " ivation)                                                                                         \n",
            "                                                                                                  \n",
            " block3a_dwconv_pad (ZeroPaddin  (None, 59, 59, 144)  0          ['block3a_expand_activation[0][0]\n",
            " g2D)                                                            ']                               \n",
            "                                                                                                  \n",
            " block3a_dwconv (DepthwiseConv2  (None, 28, 28, 144)  3600       ['block3a_dwconv_pad[0][0]']     \n",
            " D)                                                                                               \n",
            "                                                                                                  \n",
            " block3a_bn (BatchNormalization  (None, 28, 28, 144)  576        ['block3a_dwconv[0][0]']         \n",
            " )                                                                                                \n",
            "                                                                                                  \n",
            " block3a_activation (Activation  (None, 28, 28, 144)  0          ['block3a_bn[0][0]']             \n",
            " )                                                                                                \n",
            "                                                                                                  \n",
            " block3a_se_squeeze (GlobalAver  (None, 144)         0           ['block3a_activation[0][0]']     \n",
            " agePooling2D)                                                                                    \n",
            "                                                                                                  \n",
            " block3a_se_reshape (Reshape)   (None, 1, 1, 144)    0           ['block3a_se_squeeze[0][0]']     \n",
            "                                                                                                  \n",
            " block3a_se_reduce (Conv2D)     (None, 1, 1, 6)      870         ['block3a_se_reshape[0][0]']     \n",
            "                                                                                                  \n",
            " block3a_se_expand (Conv2D)     (None, 1, 1, 144)    1008        ['block3a_se_reduce[0][0]']      \n",
            "                                                                                                  \n",
            " block3a_se_excite (Multiply)   (None, 28, 28, 144)  0           ['block3a_activation[0][0]',     \n",
            "                                                                  'block3a_se_expand[0][0]']      \n",
            "                                                                                                  \n",
            " block3a_project_conv (Conv2D)  (None, 28, 28, 40)   5760        ['block3a_se_excite[0][0]']      \n",
            "                                                                                                  \n",
            " block3a_project_bn (BatchNorma  (None, 28, 28, 40)  160         ['block3a_project_conv[0][0]']   \n",
            " lization)                                                                                        \n",
            "                                                                                                  \n",
            " block3b_expand_conv (Conv2D)   (None, 28, 28, 240)  9600        ['block3a_project_bn[0][0]']     \n",
            "                                                                                                  \n",
            " block3b_expand_bn (BatchNormal  (None, 28, 28, 240)  960        ['block3b_expand_conv[0][0]']    \n",
            " ization)                                                                                         \n",
            "                                                                                                  \n",
            " block3b_expand_activation (Act  (None, 28, 28, 240)  0          ['block3b_expand_bn[0][0]']      \n",
            " ivation)                                                                                         \n",
            "                                                                                                  \n",
            " block3b_dwconv (DepthwiseConv2  (None, 28, 28, 240)  6000       ['block3b_expand_activation[0][0]\n",
            " D)                                                              ']                               \n",
            "                                                                                                  \n",
            " block3b_bn (BatchNormalization  (None, 28, 28, 240)  960        ['block3b_dwconv[0][0]']         \n",
            " )                                                                                                \n",
            "                                                                                                  \n",
            " block3b_activation (Activation  (None, 28, 28, 240)  0          ['block3b_bn[0][0]']             \n",
            " )                                                                                                \n",
            "                                                                                                  \n",
            " block3b_se_squeeze (GlobalAver  (None, 240)         0           ['block3b_activation[0][0]']     \n",
            " agePooling2D)                                                                                    \n",
            "                                                                                                  \n",
            " block3b_se_reshape (Reshape)   (None, 1, 1, 240)    0           ['block3b_se_squeeze[0][0]']     \n",
            "                                                                                                  \n",
            " block3b_se_reduce (Conv2D)     (None, 1, 1, 10)     2410        ['block3b_se_reshape[0][0]']     \n",
            "                                                                                                  \n",
            " block3b_se_expand (Conv2D)     (None, 1, 1, 240)    2640        ['block3b_se_reduce[0][0]']      \n",
            "                                                                                                  \n",
            " block3b_se_excite (Multiply)   (None, 28, 28, 240)  0           ['block3b_activation[0][0]',     \n",
            "                                                                  'block3b_se_expand[0][0]']      \n",
            "                                                                                                  \n",
            " block3b_project_conv (Conv2D)  (None, 28, 28, 40)   9600        ['block3b_se_excite[0][0]']      \n",
            "                                                                                                  \n",
            " block3b_project_bn (BatchNorma  (None, 28, 28, 40)  160         ['block3b_project_conv[0][0]']   \n",
            " lization)                                                                                        \n",
            "                                                                                                  \n",
            " block3b_drop (Dropout)         (None, 28, 28, 40)   0           ['block3b_project_bn[0][0]']     \n",
            "                                                                                                  \n",
            " block3b_add (Add)              (None, 28, 28, 40)   0           ['block3b_drop[0][0]',           \n",
            "                                                                  'block3a_project_bn[0][0]']     \n",
            "                                                                                                  \n",
            " block4a_expand_conv (Conv2D)   (None, 28, 28, 240)  9600        ['block3b_add[0][0]']            \n",
            "                                                                                                  \n",
            " block4a_expand_bn (BatchNormal  (None, 28, 28, 240)  960        ['block4a_expand_conv[0][0]']    \n",
            " ization)                                                                                         \n",
            "                                                                                                  \n",
            " block4a_expand_activation (Act  (None, 28, 28, 240)  0          ['block4a_expand_bn[0][0]']      \n",
            " ivation)                                                                                         \n",
            "                                                                                                  \n",
            " block4a_dwconv_pad (ZeroPaddin  (None, 29, 29, 240)  0          ['block4a_expand_activation[0][0]\n",
            " g2D)                                                            ']                               \n",
            "                                                                                                  \n",
            " block4a_dwconv (DepthwiseConv2  (None, 14, 14, 240)  2160       ['block4a_dwconv_pad[0][0]']     \n",
            " D)                                                                                               \n",
            "                                                                                                  \n",
            " block4a_bn (BatchNormalization  (None, 14, 14, 240)  960        ['block4a_dwconv[0][0]']         \n",
            " )                                                                                                \n",
            "                                                                                                  \n",
            " block4a_activation (Activation  (None, 14, 14, 240)  0          ['block4a_bn[0][0]']             \n",
            " )                                                                                                \n",
            "                                                                                                  \n",
            " block4a_se_squeeze (GlobalAver  (None, 240)         0           ['block4a_activation[0][0]']     \n",
            " agePooling2D)                                                                                    \n",
            "                                                                                                  \n",
            " block4a_se_reshape (Reshape)   (None, 1, 1, 240)    0           ['block4a_se_squeeze[0][0]']     \n",
            "                                                                                                  \n",
            " block4a_se_reduce (Conv2D)     (None, 1, 1, 10)     2410        ['block4a_se_reshape[0][0]']     \n",
            "                                                                                                  \n",
            " block4a_se_expand (Conv2D)     (None, 1, 1, 240)    2640        ['block4a_se_reduce[0][0]']      \n",
            "                                                                                                  \n",
            " block4a_se_excite (Multiply)   (None, 14, 14, 240)  0           ['block4a_activation[0][0]',     \n",
            "                                                                  'block4a_se_expand[0][0]']      \n",
            "                                                                                                  \n",
            " block4a_project_conv (Conv2D)  (None, 14, 14, 80)   19200       ['block4a_se_excite[0][0]']      \n",
            "                                                                                                  \n",
            " block4a_project_bn (BatchNorma  (None, 14, 14, 80)  320         ['block4a_project_conv[0][0]']   \n",
            " lization)                                                                                        \n",
            "                                                                                                  \n",
            " block4b_expand_conv (Conv2D)   (None, 14, 14, 480)  38400       ['block4a_project_bn[0][0]']     \n",
            "                                                                                                  \n",
            " block4b_expand_bn (BatchNormal  (None, 14, 14, 480)  1920       ['block4b_expand_conv[0][0]']    \n",
            " ization)                                                                                         \n",
            "                                                                                                  \n",
            " block4b_expand_activation (Act  (None, 14, 14, 480)  0          ['block4b_expand_bn[0][0]']      \n",
            " ivation)                                                                                         \n",
            "                                                                                                  \n",
            " block4b_dwconv (DepthwiseConv2  (None, 14, 14, 480)  4320       ['block4b_expand_activation[0][0]\n",
            " D)                                                              ']                               \n",
            "                                                                                                  \n",
            " block4b_bn (BatchNormalization  (None, 14, 14, 480)  1920       ['block4b_dwconv[0][0]']         \n",
            " )                                                                                                \n",
            "                                                                                                  \n",
            " block4b_activation (Activation  (None, 14, 14, 480)  0          ['block4b_bn[0][0]']             \n",
            " )                                                                                                \n",
            "                                                                                                  \n",
            " block4b_se_squeeze (GlobalAver  (None, 480)         0           ['block4b_activation[0][0]']     \n",
            " agePooling2D)                                                                                    \n",
            "                                                                                                  \n",
            " block4b_se_reshape (Reshape)   (None, 1, 1, 480)    0           ['block4b_se_squeeze[0][0]']     \n",
            "                                                                                                  \n",
            " block4b_se_reduce (Conv2D)     (None, 1, 1, 20)     9620        ['block4b_se_reshape[0][0]']     \n",
            "                                                                                                  \n",
            " block4b_se_expand (Conv2D)     (None, 1, 1, 480)    10080       ['block4b_se_reduce[0][0]']      \n",
            "                                                                                                  \n",
            " block4b_se_excite (Multiply)   (None, 14, 14, 480)  0           ['block4b_activation[0][0]',     \n",
            "                                                                  'block4b_se_expand[0][0]']      \n",
            "                                                                                                  \n",
            " block4b_project_conv (Conv2D)  (None, 14, 14, 80)   38400       ['block4b_se_excite[0][0]']      \n",
            "                                                                                                  \n",
            " block4b_project_bn (BatchNorma  (None, 14, 14, 80)  320         ['block4b_project_conv[0][0]']   \n",
            " lization)                                                                                        \n",
            "                                                                                                  \n",
            " block4b_drop (Dropout)         (None, 14, 14, 80)   0           ['block4b_project_bn[0][0]']     \n",
            "                                                                                                  \n",
            " block4b_add (Add)              (None, 14, 14, 80)   0           ['block4b_drop[0][0]',           \n",
            "                                                                  'block4a_project_bn[0][0]']     \n",
            "                                                                                                  \n",
            " block4c_expand_conv (Conv2D)   (None, 14, 14, 480)  38400       ['block4b_add[0][0]']            \n",
            "                                                                                                  \n",
            " block4c_expand_bn (BatchNormal  (None, 14, 14, 480)  1920       ['block4c_expand_conv[0][0]']    \n",
            " ization)                                                                                         \n",
            "                                                                                                  \n",
            " block4c_expand_activation (Act  (None, 14, 14, 480)  0          ['block4c_expand_bn[0][0]']      \n",
            " ivation)                                                                                         \n",
            "                                                                                                  \n",
            " block4c_dwconv (DepthwiseConv2  (None, 14, 14, 480)  4320       ['block4c_expand_activation[0][0]\n",
            " D)                                                              ']                               \n",
            "                                                                                                  \n",
            " block4c_bn (BatchNormalization  (None, 14, 14, 480)  1920       ['block4c_dwconv[0][0]']         \n",
            " )                                                                                                \n",
            "                                                                                                  \n",
            " block4c_activation (Activation  (None, 14, 14, 480)  0          ['block4c_bn[0][0]']             \n",
            " )                                                                                                \n",
            "                                                                                                  \n",
            " block4c_se_squeeze (GlobalAver  (None, 480)         0           ['block4c_activation[0][0]']     \n",
            " agePooling2D)                                                                                    \n",
            "                                                                                                  \n",
            " block4c_se_reshape (Reshape)   (None, 1, 1, 480)    0           ['block4c_se_squeeze[0][0]']     \n",
            "                                                                                                  \n",
            " block4c_se_reduce (Conv2D)     (None, 1, 1, 20)     9620        ['block4c_se_reshape[0][0]']     \n",
            "                                                                                                  \n",
            " block4c_se_expand (Conv2D)     (None, 1, 1, 480)    10080       ['block4c_se_reduce[0][0]']      \n",
            "                                                                                                  \n",
            " block4c_se_excite (Multiply)   (None, 14, 14, 480)  0           ['block4c_activation[0][0]',     \n",
            "                                                                  'block4c_se_expand[0][0]']      \n",
            "                                                                                                  \n",
            " block4c_project_conv (Conv2D)  (None, 14, 14, 80)   38400       ['block4c_se_excite[0][0]']      \n",
            "                                                                                                  \n",
            " block4c_project_bn (BatchNorma  (None, 14, 14, 80)  320         ['block4c_project_conv[0][0]']   \n",
            " lization)                                                                                        \n",
            "                                                                                                  \n",
            " block4c_drop (Dropout)         (None, 14, 14, 80)   0           ['block4c_project_bn[0][0]']     \n",
            "                                                                                                  \n",
            " block4c_add (Add)              (None, 14, 14, 80)   0           ['block4c_drop[0][0]',           \n",
            "                                                                  'block4b_add[0][0]']            \n",
            "                                                                                                  \n",
            " block5a_expand_conv (Conv2D)   (None, 14, 14, 480)  38400       ['block4c_add[0][0]']            \n",
            "                                                                                                  \n",
            " block5a_expand_bn (BatchNormal  (None, 14, 14, 480)  1920       ['block5a_expand_conv[0][0]']    \n",
            " ization)                                                                                         \n",
            "                                                                                                  \n",
            " block5a_expand_activation (Act  (None, 14, 14, 480)  0          ['block5a_expand_bn[0][0]']      \n",
            " ivation)                                                                                         \n",
            "                                                                                                  \n",
            " block5a_dwconv (DepthwiseConv2  (None, 14, 14, 480)  12000      ['block5a_expand_activation[0][0]\n",
            " D)                                                              ']                               \n",
            "                                                                                                  \n",
            " block5a_bn (BatchNormalization  (None, 14, 14, 480)  1920       ['block5a_dwconv[0][0]']         \n",
            " )                                                                                                \n",
            "                                                                                                  \n",
            " block5a_activation (Activation  (None, 14, 14, 480)  0          ['block5a_bn[0][0]']             \n",
            " )                                                                                                \n",
            "                                                                                                  \n",
            " block5a_se_squeeze (GlobalAver  (None, 480)         0           ['block5a_activation[0][0]']     \n",
            " agePooling2D)                                                                                    \n",
            "                                                                                                  \n",
            " block5a_se_reshape (Reshape)   (None, 1, 1, 480)    0           ['block5a_se_squeeze[0][0]']     \n",
            "                                                                                                  \n",
            " block5a_se_reduce (Conv2D)     (None, 1, 1, 20)     9620        ['block5a_se_reshape[0][0]']     \n",
            "                                                                                                  \n",
            " block5a_se_expand (Conv2D)     (None, 1, 1, 480)    10080       ['block5a_se_reduce[0][0]']      \n",
            "                                                                                                  \n",
            " block5a_se_excite (Multiply)   (None, 14, 14, 480)  0           ['block5a_activation[0][0]',     \n",
            "                                                                  'block5a_se_expand[0][0]']      \n",
            "                                                                                                  \n",
            " block5a_project_conv (Conv2D)  (None, 14, 14, 112)  53760       ['block5a_se_excite[0][0]']      \n",
            "                                                                                                  \n",
            " block5a_project_bn (BatchNorma  (None, 14, 14, 112)  448        ['block5a_project_conv[0][0]']   \n",
            " lization)                                                                                        \n",
            "                                                                                                  \n",
            " block5b_expand_conv (Conv2D)   (None, 14, 14, 672)  75264       ['block5a_project_bn[0][0]']     \n",
            "                                                                                                  \n",
            " block5b_expand_bn (BatchNormal  (None, 14, 14, 672)  2688       ['block5b_expand_conv[0][0]']    \n",
            " ization)                                                                                         \n",
            "                                                                                                  \n",
            " block5b_expand_activation (Act  (None, 14, 14, 672)  0          ['block5b_expand_bn[0][0]']      \n",
            " ivation)                                                                                         \n",
            "                                                                                                  \n",
            " block5b_dwconv (DepthwiseConv2  (None, 14, 14, 672)  16800      ['block5b_expand_activation[0][0]\n",
            " D)                                                              ']                               \n",
            "                                                                                                  \n",
            " block5b_bn (BatchNormalization  (None, 14, 14, 672)  2688       ['block5b_dwconv[0][0]']         \n",
            " )                                                                                                \n",
            "                                                                                                  \n",
            " block5b_activation (Activation  (None, 14, 14, 672)  0          ['block5b_bn[0][0]']             \n",
            " )                                                                                                \n",
            "                                                                                                  \n",
            " block5b_se_squeeze (GlobalAver  (None, 672)         0           ['block5b_activation[0][0]']     \n",
            " agePooling2D)                                                                                    \n",
            "                                                                                                  \n",
            " block5b_se_reshape (Reshape)   (None, 1, 1, 672)    0           ['block5b_se_squeeze[0][0]']     \n",
            "                                                                                                  \n",
            " block5b_se_reduce (Conv2D)     (None, 1, 1, 28)     18844       ['block5b_se_reshape[0][0]']     \n",
            "                                                                                                  \n",
            " block5b_se_expand (Conv2D)     (None, 1, 1, 672)    19488       ['block5b_se_reduce[0][0]']      \n",
            "                                                                                                  \n",
            " block5b_se_excite (Multiply)   (None, 14, 14, 672)  0           ['block5b_activation[0][0]',     \n",
            "                                                                  'block5b_se_expand[0][0]']      \n",
            "                                                                                                  \n",
            " block5b_project_conv (Conv2D)  (None, 14, 14, 112)  75264       ['block5b_se_excite[0][0]']      \n",
            "                                                                                                  \n",
            " block5b_project_bn (BatchNorma  (None, 14, 14, 112)  448        ['block5b_project_conv[0][0]']   \n",
            " lization)                                                                                        \n",
            "                                                                                                  \n",
            " block5b_drop (Dropout)         (None, 14, 14, 112)  0           ['block5b_project_bn[0][0]']     \n",
            "                                                                                                  \n",
            " block5b_add (Add)              (None, 14, 14, 112)  0           ['block5b_drop[0][0]',           \n",
            "                                                                  'block5a_project_bn[0][0]']     \n",
            "                                                                                                  \n",
            " block5c_expand_conv (Conv2D)   (None, 14, 14, 672)  75264       ['block5b_add[0][0]']            \n",
            "                                                                                                  \n",
            " block5c_expand_bn (BatchNormal  (None, 14, 14, 672)  2688       ['block5c_expand_conv[0][0]']    \n",
            " ization)                                                                                         \n",
            "                                                                                                  \n",
            " block5c_expand_activation (Act  (None, 14, 14, 672)  0          ['block5c_expand_bn[0][0]']      \n",
            " ivation)                                                                                         \n",
            "                                                                                                  \n",
            " block5c_dwconv (DepthwiseConv2  (None, 14, 14, 672)  16800      ['block5c_expand_activation[0][0]\n",
            " D)                                                              ']                               \n",
            "                                                                                                  \n",
            " block5c_bn (BatchNormalization  (None, 14, 14, 672)  2688       ['block5c_dwconv[0][0]']         \n",
            " )                                                                                                \n",
            "                                                                                                  \n",
            " block5c_activation (Activation  (None, 14, 14, 672)  0          ['block5c_bn[0][0]']             \n",
            " )                                                                                                \n",
            "                                                                                                  \n",
            " block5c_se_squeeze (GlobalAver  (None, 672)         0           ['block5c_activation[0][0]']     \n",
            " agePooling2D)                                                                                    \n",
            "                                                                                                  \n",
            " block5c_se_reshape (Reshape)   (None, 1, 1, 672)    0           ['block5c_se_squeeze[0][0]']     \n",
            "                                                                                                  \n",
            " block5c_se_reduce (Conv2D)     (None, 1, 1, 28)     18844       ['block5c_se_reshape[0][0]']     \n",
            "                                                                                                  \n",
            " block5c_se_expand (Conv2D)     (None, 1, 1, 672)    19488       ['block5c_se_reduce[0][0]']      \n",
            "                                                                                                  \n",
            " block5c_se_excite (Multiply)   (None, 14, 14, 672)  0           ['block5c_activation[0][0]',     \n",
            "                                                                  'block5c_se_expand[0][0]']      \n",
            "                                                                                                  \n",
            " block5c_project_conv (Conv2D)  (None, 14, 14, 112)  75264       ['block5c_se_excite[0][0]']      \n",
            "                                                                                                  \n",
            " block5c_project_bn (BatchNorma  (None, 14, 14, 112)  448        ['block5c_project_conv[0][0]']   \n",
            " lization)                                                                                        \n",
            "                                                                                                  \n",
            " block5c_drop (Dropout)         (None, 14, 14, 112)  0           ['block5c_project_bn[0][0]']     \n",
            "                                                                                                  \n",
            " block5c_add (Add)              (None, 14, 14, 112)  0           ['block5c_drop[0][0]',           \n",
            "                                                                  'block5b_add[0][0]']            \n",
            "                                                                                                  \n",
            " block6a_expand_conv (Conv2D)   (None, 14, 14, 672)  75264       ['block5c_add[0][0]']            \n",
            "                                                                                                  \n",
            " block6a_expand_bn (BatchNormal  (None, 14, 14, 672)  2688       ['block6a_expand_conv[0][0]']    \n",
            " ization)                                                                                         \n",
            "                                                                                                  \n",
            " block6a_expand_activation (Act  (None, 14, 14, 672)  0          ['block6a_expand_bn[0][0]']      \n",
            " ivation)                                                                                         \n",
            "                                                                                                  \n",
            " block6a_dwconv_pad (ZeroPaddin  (None, 17, 17, 672)  0          ['block6a_expand_activation[0][0]\n",
            " g2D)                                                            ']                               \n",
            "                                                                                                  \n",
            " block6a_dwconv (DepthwiseConv2  (None, 7, 7, 672)   16800       ['block6a_dwconv_pad[0][0]']     \n",
            " D)                                                                                               \n",
            "                                                                                                  \n",
            " block6a_bn (BatchNormalization  (None, 7, 7, 672)   2688        ['block6a_dwconv[0][0]']         \n",
            " )                                                                                                \n",
            "                                                                                                  \n",
            " block6a_activation (Activation  (None, 7, 7, 672)   0           ['block6a_bn[0][0]']             \n",
            " )                                                                                                \n",
            "                                                                                                  \n",
            " block6a_se_squeeze (GlobalAver  (None, 672)         0           ['block6a_activation[0][0]']     \n",
            " agePooling2D)                                                                                    \n",
            "                                                                                                  \n",
            " block6a_se_reshape (Reshape)   (None, 1, 1, 672)    0           ['block6a_se_squeeze[0][0]']     \n",
            "                                                                                                  \n",
            " block6a_se_reduce (Conv2D)     (None, 1, 1, 28)     18844       ['block6a_se_reshape[0][0]']     \n",
            "                                                                                                  \n",
            " block6a_se_expand (Conv2D)     (None, 1, 1, 672)    19488       ['block6a_se_reduce[0][0]']      \n",
            "                                                                                                  \n",
            " block6a_se_excite (Multiply)   (None, 7, 7, 672)    0           ['block6a_activation[0][0]',     \n",
            "                                                                  'block6a_se_expand[0][0]']      \n",
            "                                                                                                  \n",
            " block6a_project_conv (Conv2D)  (None, 7, 7, 192)    129024      ['block6a_se_excite[0][0]']      \n",
            "                                                                                                  \n",
            " block6a_project_bn (BatchNorma  (None, 7, 7, 192)   768         ['block6a_project_conv[0][0]']   \n",
            " lization)                                                                                        \n",
            "                                                                                                  \n",
            " block6b_expand_conv (Conv2D)   (None, 7, 7, 1152)   221184      ['block6a_project_bn[0][0]']     \n",
            "                                                                                                  \n",
            " block6b_expand_bn (BatchNormal  (None, 7, 7, 1152)  4608        ['block6b_expand_conv[0][0]']    \n",
            " ization)                                                                                         \n",
            "                                                                                                  \n",
            " block6b_expand_activation (Act  (None, 7, 7, 1152)  0           ['block6b_expand_bn[0][0]']      \n",
            " ivation)                                                                                         \n",
            "                                                                                                  \n",
            " block6b_dwconv (DepthwiseConv2  (None, 7, 7, 1152)  28800       ['block6b_expand_activation[0][0]\n",
            " D)                                                              ']                               \n",
            "                                                                                                  \n",
            " block6b_bn (BatchNormalization  (None, 7, 7, 1152)  4608        ['block6b_dwconv[0][0]']         \n",
            " )                                                                                                \n",
            "                                                                                                  \n",
            " block6b_activation (Activation  (None, 7, 7, 1152)  0           ['block6b_bn[0][0]']             \n",
            " )                                                                                                \n",
            "                                                                                                  \n",
            " block6b_se_squeeze (GlobalAver  (None, 1152)        0           ['block6b_activation[0][0]']     \n",
            " agePooling2D)                                                                                    \n",
            "                                                                                                  \n",
            " block6b_se_reshape (Reshape)   (None, 1, 1, 1152)   0           ['block6b_se_squeeze[0][0]']     \n",
            "                                                                                                  \n",
            " block6b_se_reduce (Conv2D)     (None, 1, 1, 48)     55344       ['block6b_se_reshape[0][0]']     \n",
            "                                                                                                  \n",
            " block6b_se_expand (Conv2D)     (None, 1, 1, 1152)   56448       ['block6b_se_reduce[0][0]']      \n",
            "                                                                                                  \n",
            " block6b_se_excite (Multiply)   (None, 7, 7, 1152)   0           ['block6b_activation[0][0]',     \n",
            "                                                                  'block6b_se_expand[0][0]']      \n",
            "                                                                                                  \n",
            " block6b_project_conv (Conv2D)  (None, 7, 7, 192)    221184      ['block6b_se_excite[0][0]']      \n",
            "                                                                                                  \n",
            " block6b_project_bn (BatchNorma  (None, 7, 7, 192)   768         ['block6b_project_conv[0][0]']   \n",
            " lization)                                                                                        \n",
            "                                                                                                  \n",
            " block6b_drop (Dropout)         (None, 7, 7, 192)    0           ['block6b_project_bn[0][0]']     \n",
            "                                                                                                  \n",
            " block6b_add (Add)              (None, 7, 7, 192)    0           ['block6b_drop[0][0]',           \n",
            "                                                                  'block6a_project_bn[0][0]']     \n",
            "                                                                                                  \n",
            " block6c_expand_conv (Conv2D)   (None, 7, 7, 1152)   221184      ['block6b_add[0][0]']            \n",
            "                                                                                                  \n",
            " block6c_expand_bn (BatchNormal  (None, 7, 7, 1152)  4608        ['block6c_expand_conv[0][0]']    \n",
            " ization)                                                                                         \n",
            "                                                                                                  \n",
            " block6c_expand_activation (Act  (None, 7, 7, 1152)  0           ['block6c_expand_bn[0][0]']      \n",
            " ivation)                                                                                         \n",
            "                                                                                                  \n",
            " block6c_dwconv (DepthwiseConv2  (None, 7, 7, 1152)  28800       ['block6c_expand_activation[0][0]\n",
            " D)                                                              ']                               \n",
            "                                                                                                  \n",
            " block6c_bn (BatchNormalization  (None, 7, 7, 1152)  4608        ['block6c_dwconv[0][0]']         \n",
            " )                                                                                                \n",
            "                                                                                                  \n",
            " block6c_activation (Activation  (None, 7, 7, 1152)  0           ['block6c_bn[0][0]']             \n",
            " )                                                                                                \n",
            "                                                                                                  \n",
            " block6c_se_squeeze (GlobalAver  (None, 1152)        0           ['block6c_activation[0][0]']     \n",
            " agePooling2D)                                                                                    \n",
            "                                                                                                  \n",
            " block6c_se_reshape (Reshape)   (None, 1, 1, 1152)   0           ['block6c_se_squeeze[0][0]']     \n",
            "                                                                                                  \n",
            " block6c_se_reduce (Conv2D)     (None, 1, 1, 48)     55344       ['block6c_se_reshape[0][0]']     \n",
            "                                                                                                  \n",
            " block6c_se_expand (Conv2D)     (None, 1, 1, 1152)   56448       ['block6c_se_reduce[0][0]']      \n",
            "                                                                                                  \n",
            " block6c_se_excite (Multiply)   (None, 7, 7, 1152)   0           ['block6c_activation[0][0]',     \n",
            "                                                                  'block6c_se_expand[0][0]']      \n",
            "                                                                                                  \n",
            " block6c_project_conv (Conv2D)  (None, 7, 7, 192)    221184      ['block6c_se_excite[0][0]']      \n",
            "                                                                                                  \n",
            " block6c_project_bn (BatchNorma  (None, 7, 7, 192)   768         ['block6c_project_conv[0][0]']   \n",
            " lization)                                                                                        \n",
            "                                                                                                  \n",
            " block6c_drop (Dropout)         (None, 7, 7, 192)    0           ['block6c_project_bn[0][0]']     \n",
            "                                                                                                  \n",
            " block6c_add (Add)              (None, 7, 7, 192)    0           ['block6c_drop[0][0]',           \n",
            "                                                                  'block6b_add[0][0]']            \n",
            "                                                                                                  \n",
            " block6d_expand_conv (Conv2D)   (None, 7, 7, 1152)   221184      ['block6c_add[0][0]']            \n",
            "                                                                                                  \n",
            " block6d_expand_bn (BatchNormal  (None, 7, 7, 1152)  4608        ['block6d_expand_conv[0][0]']    \n",
            " ization)                                                                                         \n",
            "                                                                                                  \n",
            " block6d_expand_activation (Act  (None, 7, 7, 1152)  0           ['block6d_expand_bn[0][0]']      \n",
            " ivation)                                                                                         \n",
            "                                                                                                  \n",
            " block6d_dwconv (DepthwiseConv2  (None, 7, 7, 1152)  28800       ['block6d_expand_activation[0][0]\n",
            " D)                                                              ']                               \n",
            "                                                                                                  \n",
            " block6d_bn (BatchNormalization  (None, 7, 7, 1152)  4608        ['block6d_dwconv[0][0]']         \n",
            " )                                                                                                \n",
            "                                                                                                  \n",
            " block6d_activation (Activation  (None, 7, 7, 1152)  0           ['block6d_bn[0][0]']             \n",
            " )                                                                                                \n",
            "                                                                                                  \n",
            " block6d_se_squeeze (GlobalAver  (None, 1152)        0           ['block6d_activation[0][0]']     \n",
            " agePooling2D)                                                                                    \n",
            "                                                                                                  \n",
            " block6d_se_reshape (Reshape)   (None, 1, 1, 1152)   0           ['block6d_se_squeeze[0][0]']     \n",
            "                                                                                                  \n",
            " block6d_se_reduce (Conv2D)     (None, 1, 1, 48)     55344       ['block6d_se_reshape[0][0]']     \n",
            "                                                                                                  \n",
            " block6d_se_expand (Conv2D)     (None, 1, 1, 1152)   56448       ['block6d_se_reduce[0][0]']      \n",
            "                                                                                                  \n",
            " block6d_se_excite (Multiply)   (None, 7, 7, 1152)   0           ['block6d_activation[0][0]',     \n",
            "                                                                  'block6d_se_expand[0][0]']      \n",
            "                                                                                                  \n",
            " block6d_project_conv (Conv2D)  (None, 7, 7, 192)    221184      ['block6d_se_excite[0][0]']      \n",
            "                                                                                                  \n",
            " block6d_project_bn (BatchNorma  (None, 7, 7, 192)   768         ['block6d_project_conv[0][0]']   \n",
            " lization)                                                                                        \n",
            "                                                                                                  \n",
            " block6d_drop (Dropout)         (None, 7, 7, 192)    0           ['block6d_project_bn[0][0]']     \n",
            "                                                                                                  \n",
            " block6d_add (Add)              (None, 7, 7, 192)    0           ['block6d_drop[0][0]',           \n",
            "                                                                  'block6c_add[0][0]']            \n",
            "                                                                                                  \n",
            " block7a_expand_conv (Conv2D)   (None, 7, 7, 1152)   221184      ['block6d_add[0][0]']            \n",
            "                                                                                                  \n",
            " block7a_expand_bn (BatchNormal  (None, 7, 7, 1152)  4608        ['block7a_expand_conv[0][0]']    \n",
            " ization)                                                                                         \n",
            "                                                                                                  \n",
            " block7a_expand_activation (Act  (None, 7, 7, 1152)  0           ['block7a_expand_bn[0][0]']      \n",
            " ivation)                                                                                         \n",
            "                                                                                                  \n",
            " block7a_dwconv (DepthwiseConv2  (None, 7, 7, 1152)  10368       ['block7a_expand_activation[0][0]\n",
            " D)                                                              ']                               \n",
            "                                                                                                  \n",
            " block7a_bn (BatchNormalization  (None, 7, 7, 1152)  4608        ['block7a_dwconv[0][0]']         \n",
            " )                                                                                                \n",
            "                                                                                                  \n",
            " block7a_activation (Activation  (None, 7, 7, 1152)  0           ['block7a_bn[0][0]']             \n",
            " )                                                                                                \n",
            "                                                                                                  \n",
            " block7a_se_squeeze (GlobalAver  (None, 1152)        0           ['block7a_activation[0][0]']     \n",
            " agePooling2D)                                                                                    \n",
            "                                                                                                  \n",
            " block7a_se_reshape (Reshape)   (None, 1, 1, 1152)   0           ['block7a_se_squeeze[0][0]']     \n",
            "                                                                                                  \n",
            " block7a_se_reduce (Conv2D)     (None, 1, 1, 48)     55344       ['block7a_se_reshape[0][0]']     \n",
            "                                                                                                  \n",
            " block7a_se_expand (Conv2D)     (None, 1, 1, 1152)   56448       ['block7a_se_reduce[0][0]']      \n",
            "                                                                                                  \n",
            " block7a_se_excite (Multiply)   (None, 7, 7, 1152)   0           ['block7a_activation[0][0]',     \n",
            "                                                                  'block7a_se_expand[0][0]']      \n",
            "                                                                                                  \n",
            " block7a_project_conv (Conv2D)  (None, 7, 7, 320)    368640      ['block7a_se_excite[0][0]']      \n",
            "                                                                                                  \n",
            " block7a_project_bn (BatchNorma  (None, 7, 7, 320)   1280        ['block7a_project_conv[0][0]']   \n",
            " lization)                                                                                        \n",
            "                                                                                                  \n",
            " top_conv (Conv2D)              (None, 7, 7, 1280)   409600      ['block7a_project_bn[0][0]']     \n",
            "                                                                                                  \n",
            " top_bn (BatchNormalization)    (None, 7, 7, 1280)   5120        ['top_conv[0][0]']               \n",
            "                                                                                                  \n",
            " top_activation (Activation)    (None, 7, 7, 1280)   0           ['top_bn[0][0]']                 \n",
            "                                                                                                  \n",
            " avg_pool (GlobalAveragePooling  (None, 1280)        0           ['top_activation[0][0]']         \n",
            " 2D)                                                                                              \n",
            "                                                                                                  \n",
            " top_dropout (Dropout)          (None, 1280)         0           ['avg_pool[0][0]']               \n",
            "                                                                                                  \n",
            " predictions (Dense)            (None, 2)            2562        ['top_dropout[0][0]']            \n",
            "                                                                                                  \n",
            "==================================================================================================\n",
            "Total params: 4,052,133\n",
            "Trainable params: 4,010,110\n",
            "Non-trainable params: 42,023\n",
            "__________________________________________________________________________________________________\n"
          ]
        }
      ]
    },
    {
      "cell_type": "code",
      "source": [
        "EfficientNetB0_model.summary()"
      ],
      "metadata": {
        "colab": {
          "base_uri": "https://localhost:8080/"
        },
        "id": "lvm4BHx_zvCV",
        "outputId": "08d52b80-05ba-4611-cfa4-485be068cf46"
      },
      "execution_count": null,
      "outputs": [
        {
          "output_type": "stream",
          "name": "stdout",
          "text": [
            "Model: \"sequential_6\"\n",
            "_________________________________________________________________\n",
            " Layer (type)                Output Shape              Param #   \n",
            "=================================================================\n",
            " efficientnetb0 (Functional)  (None, 2)                4052133   \n",
            "                                                                 \n",
            " flatten_4 (Flatten)         (None, 2)                 0         \n",
            "                                                                 \n",
            " dense_14 (Dense)            (None, 256)               768       \n",
            "                                                                 \n",
            " dense_15 (Dense)            (None, 1)                 257       \n",
            "                                                                 \n",
            "=================================================================\n",
            "Total params: 4,053,158\n",
            "Trainable params: 4,011,135\n",
            "Non-trainable params: 42,023\n",
            "_________________________________________________________________\n"
          ]
        }
      ]
    },
    {
      "cell_type": "code",
      "source": [
        "EfficientB0_history = EfficientNetB0_model.fit_generator(train_generator,\n",
        "                              steps_per_epoch=45,\n",
        "                              epochs=50,\n",
        "                              validation_data=validation_generator,\n",
        "                              validation_steps=5)\n",
        "model.save('/content/drive/MyDrive/Project/blockchain_deeplearning/5.h5')"
      ],
      "metadata": {
        "colab": {
          "base_uri": "https://localhost:8080/"
        },
        "id": "koe8VIrnOT5f",
        "outputId": "cd00aa40-bb3f-4553-d3a6-035d8d99c9cb"
      },
      "execution_count": null,
      "outputs": [
        {
          "output_type": "stream",
          "name": "stdout",
          "text": [
            "Epoch 1/50\n"
          ]
        },
        {
          "output_type": "stream",
          "name": "stderr",
          "text": [
            "/usr/local/lib/python3.7/dist-packages/ipykernel_launcher.py:5: UserWarning: `Model.fit_generator` is deprecated and will be removed in a future version. Please use `Model.fit`, which supports generators.\n",
            "  \"\"\"\n"
          ]
        },
        {
          "output_type": "stream",
          "name": "stdout",
          "text": [
            "45/45 [==============================] - 35s 640ms/step - loss: 0.6925 - acc: 0.5129 - val_loss: 0.6933 - val_acc: 0.4800\n",
            "Epoch 2/50\n",
            "45/45 [==============================] - 27s 603ms/step - loss: 0.6934 - acc: 0.4961 - val_loss: 0.6932 - val_acc: 0.5000\n",
            "Epoch 3/50\n",
            "45/45 [==============================] - 28s 610ms/step - loss: 0.6931 - acc: 0.5095 - val_loss: 0.6932 - val_acc: 0.5000\n",
            "Epoch 4/50\n",
            "45/45 [==============================] - 27s 608ms/step - loss: 0.6927 - acc: 0.5409 - val_loss: 0.6932 - val_acc: 0.5000\n",
            "Epoch 5/50\n",
            "45/45 [==============================] - 28s 616ms/step - loss: 0.6930 - acc: 0.5050 - val_loss: 0.6931 - val_acc: 0.5100\n",
            "Epoch 6/50\n",
            "45/45 [==============================] - 27s 607ms/step - loss: 0.6920 - acc: 0.5286 - val_loss: 0.6934 - val_acc: 0.4700\n",
            "Epoch 7/50\n",
            "45/45 [==============================] - 29s 639ms/step - loss: 0.6926 - acc: 0.5062 - val_loss: 0.6932 - val_acc: 0.5000\n",
            "Epoch 8/50\n",
            "45/45 [==============================] - 30s 655ms/step - loss: 0.6918 - acc: 0.5544 - val_loss: 0.6935 - val_acc: 0.4700\n",
            "Epoch 9/50\n",
            "45/45 [==============================] - 29s 640ms/step - loss: 0.6927 - acc: 0.5442 - val_loss: 0.6932 - val_acc: 0.4900\n",
            "Epoch 10/50\n",
            "45/45 [==============================] - 29s 652ms/step - loss: 0.6922 - acc: 0.5319 - val_loss: 0.6933 - val_acc: 0.4900\n",
            "Epoch 11/50\n",
            "45/45 [==============================] - 29s 636ms/step - loss: 0.6913 - acc: 0.5677 - val_loss: 0.6933 - val_acc: 0.4900\n",
            "Epoch 12/50\n",
            "45/45 [==============================] - 29s 633ms/step - loss: 0.6910 - acc: 0.5588 - val_loss: 0.6932 - val_acc: 0.4900\n",
            "Epoch 13/50\n",
            "45/45 [==============================] - 29s 643ms/step - loss: 0.6912 - acc: 0.5711 - val_loss: 0.6930 - val_acc: 0.4900\n",
            "Epoch 14/50\n",
            "45/45 [==============================] - 28s 626ms/step - loss: 0.6909 - acc: 0.5689 - val_loss: 0.6924 - val_acc: 0.5100\n",
            "Epoch 15/50\n",
            "45/45 [==============================] - 29s 643ms/step - loss: 0.6896 - acc: 0.5969 - val_loss: 0.6916 - val_acc: 0.5500\n",
            "Epoch 16/50\n",
            "45/45 [==============================] - 29s 635ms/step - loss: 0.6889 - acc: 0.5901 - val_loss: 0.6881 - val_acc: 0.6600\n",
            "Epoch 17/50\n",
            "45/45 [==============================] - 29s 627ms/step - loss: 0.6887 - acc: 0.5946 - val_loss: 0.6873 - val_acc: 0.6500\n",
            "Epoch 18/50\n",
            "45/45 [==============================] - 27s 604ms/step - loss: 0.6875 - acc: 0.6025 - val_loss: 0.6859 - val_acc: 0.6500\n",
            "Epoch 19/50\n",
            "45/45 [==============================] - 27s 607ms/step - loss: 0.6870 - acc: 0.6002 - val_loss: 0.6853 - val_acc: 0.6800\n",
            "Epoch 20/50\n",
            "45/45 [==============================] - 27s 606ms/step - loss: 0.6850 - acc: 0.6237 - val_loss: 0.6851 - val_acc: 0.6300\n",
            "Epoch 21/50\n",
            "45/45 [==============================] - 28s 620ms/step - loss: 0.6852 - acc: 0.6271 - val_loss: 0.6831 - val_acc: 0.6800\n",
            "Epoch 22/50\n",
            "45/45 [==============================] - 28s 611ms/step - loss: 0.6838 - acc: 0.6305 - val_loss: 0.6880 - val_acc: 0.6000\n",
            "Epoch 23/50\n",
            "45/45 [==============================] - 28s 612ms/step - loss: 0.6832 - acc: 0.6226 - val_loss: 0.6834 - val_acc: 0.6600\n",
            "Epoch 24/50\n",
            "45/45 [==============================] - 28s 626ms/step - loss: 0.6828 - acc: 0.6215 - val_loss: 0.6856 - val_acc: 0.6100\n",
            "Epoch 25/50\n",
            "45/45 [==============================] - 28s 621ms/step - loss: 0.6835 - acc: 0.6047 - val_loss: 0.6844 - val_acc: 0.6300\n",
            "Epoch 26/50\n",
            "45/45 [==============================] - 28s 617ms/step - loss: 0.6817 - acc: 0.6237 - val_loss: 0.6796 - val_acc: 0.6300\n",
            "Epoch 27/50\n",
            "45/45 [==============================] - 27s 607ms/step - loss: 0.6796 - acc: 0.6394 - val_loss: 0.6794 - val_acc: 0.6300\n",
            "Epoch 28/50\n",
            "45/45 [==============================] - 28s 610ms/step - loss: 0.6794 - acc: 0.6293 - val_loss: 0.6816 - val_acc: 0.6000\n",
            "Epoch 29/50\n",
            "45/45 [==============================] - 28s 618ms/step - loss: 0.6778 - acc: 0.6327 - val_loss: 0.6768 - val_acc: 0.6400\n",
            "Epoch 30/50\n",
            "45/45 [==============================] - 27s 603ms/step - loss: 0.6785 - acc: 0.6282 - val_loss: 0.6759 - val_acc: 0.6400\n",
            "Epoch 31/50\n",
            "45/45 [==============================] - 27s 607ms/step - loss: 0.6757 - acc: 0.6422 - val_loss: 0.6740 - val_acc: 0.6500\n",
            "Epoch 32/50\n",
            "45/45 [==============================] - 28s 614ms/step - loss: 0.6759 - acc: 0.6338 - val_loss: 0.6726 - val_acc: 0.6700\n",
            "Epoch 33/50\n",
            "45/45 [==============================] - 27s 605ms/step - loss: 0.6742 - acc: 0.6473 - val_loss: 0.6718 - val_acc: 0.6700\n",
            "Epoch 34/50\n",
            "45/45 [==============================] - 27s 608ms/step - loss: 0.6733 - acc: 0.6439 - val_loss: 0.6744 - val_acc: 0.6400\n",
            "Epoch 35/50\n",
            "45/45 [==============================] - 27s 603ms/step - loss: 0.6754 - acc: 0.6215 - val_loss: 0.6788 - val_acc: 0.6400\n",
            "Epoch 36/50\n",
            "45/45 [==============================] - 27s 609ms/step - loss: 0.6730 - acc: 0.6405 - val_loss: 0.6762 - val_acc: 0.6500\n",
            "Epoch 37/50\n",
            "45/45 [==============================] - 27s 600ms/step - loss: 0.6721 - acc: 0.6383 - val_loss: 0.6719 - val_acc: 0.6600\n",
            "Epoch 38/50\n",
            "45/45 [==============================] - 27s 607ms/step - loss: 0.6675 - acc: 0.6562 - val_loss: 0.6727 - val_acc: 0.6600\n",
            "Epoch 39/50\n",
            "45/45 [==============================] - 27s 605ms/step - loss: 0.6712 - acc: 0.6361 - val_loss: 0.6672 - val_acc: 0.6700\n",
            "Epoch 40/50\n",
            "45/45 [==============================] - 27s 608ms/step - loss: 0.6695 - acc: 0.6383 - val_loss: 0.6624 - val_acc: 0.6800\n",
            "Epoch 41/50\n",
            "45/45 [==============================] - 27s 603ms/step - loss: 0.6680 - acc: 0.6573 - val_loss: 0.6669 - val_acc: 0.6300\n",
            "Epoch 42/50\n",
            "45/45 [==============================] - 28s 616ms/step - loss: 0.6688 - acc: 0.6383 - val_loss: 0.6700 - val_acc: 0.6400\n",
            "Epoch 43/50\n",
            "45/45 [==============================] - 28s 612ms/step - loss: 0.6658 - acc: 0.6540 - val_loss: 0.6665 - val_acc: 0.6400\n",
            "Epoch 44/50\n",
            "45/45 [==============================] - 28s 612ms/step - loss: 0.6676 - acc: 0.6473 - val_loss: 0.6654 - val_acc: 0.6500\n",
            "Epoch 45/50\n",
            "45/45 [==============================] - 27s 609ms/step - loss: 0.6677 - acc: 0.6428 - val_loss: 0.6690 - val_acc: 0.6500\n",
            "Epoch 46/50\n",
            "45/45 [==============================] - 28s 617ms/step - loss: 0.6622 - acc: 0.6618 - val_loss: 0.6674 - val_acc: 0.6300\n",
            "Epoch 47/50\n",
            "45/45 [==============================] - 28s 610ms/step - loss: 0.6667 - acc: 0.6349 - val_loss: 0.6584 - val_acc: 0.6700\n",
            "Epoch 48/50\n",
            "45/45 [==============================] - 28s 614ms/step - loss: 0.6644 - acc: 0.6517 - val_loss: 0.6620 - val_acc: 0.6500\n",
            "Epoch 49/50\n",
            "45/45 [==============================] - 27s 604ms/step - loss: 0.6606 - acc: 0.6652 - val_loss: 0.6661 - val_acc: 0.6400\n",
            "Epoch 50/50\n",
            "45/45 [==============================] - 27s 608ms/step - loss: 0.6604 - acc: 0.6618 - val_loss: 0.6598 - val_acc: 0.6500\n"
          ]
        }
      ]
    },
    {
      "cell_type": "code",
      "source": [
        "EfficientNetB0_model.evaluate(test_generator)"
      ],
      "metadata": {
        "colab": {
          "base_uri": "https://localhost:8080/"
        },
        "id": "8Aflg3c0iqWt",
        "outputId": "680d2629-45dd-4db9-c18f-9aa119e8bba9"
      },
      "execution_count": null,
      "outputs": [
        {
          "output_type": "stream",
          "name": "stdout",
          "text": [
            "6/6 [==============================] - 1s 130ms/step - loss: 0.6498 - acc: 0.6897\n"
          ]
        },
        {
          "output_type": "execute_result",
          "data": {
            "text/plain": [
              "[0.6498020887374878, 0.6896551847457886]"
            ]
          },
          "metadata": {},
          "execution_count": 39
        }
      ]
    },
    {
      "cell_type": "code",
      "source": [
        "import matplotlib.pyplot as plt\n",
        "\n",
        "acc = EfficientB0_history.history['acc'] \n",
        "val_acc = EfficientB0_history.history['val_acc'] \n",
        "loss = EfficientB0_history.history['loss'] \n",
        "val_loss = EfficientB0_history.history['val_loss']\n",
        "\n",
        "epochs = range(1, len(acc) + 1)\n",
        "\n",
        "plt.plot(epochs, acc, 'bo', label='Training acc') \n",
        "plt.plot(epochs, val_acc, 'b', label='Validation acc') \n",
        "plt.title('Training and validation accuracy') \n",
        "plt.legend()\n",
        "\n",
        "plt.figure()\n",
        "\n",
        "plt.plot(epochs, loss, 'bo', label='Training loss') \n",
        "plt.plot(epochs, val_loss, 'b', label='Validation loss') \n",
        "plt.title('Training and validation loss') \n",
        "plt.legend()\n",
        "\n",
        "plt.show()"
      ],
      "metadata": {
        "colab": {
          "base_uri": "https://localhost:8080/",
          "height": 545
        },
        "id": "2rR2IR8iOT-E",
        "outputId": "66f4ca85-b8ea-4a6d-f790-2c57f4a0423a"
      },
      "execution_count": null,
      "outputs": [
        {
          "output_type": "display_data",
          "data": {
            "text/plain": [
              "<Figure size 432x288 with 1 Axes>"
            ],
            "image/png": "[encoded data removed]"
          },
          "metadata": {
            "needs_background": "light"
          }
        },
        {
          "output_type": "display_data",
          "data": {
            "text/plain": [
              "<Figure size 432x288 with 1 Axes>"
            ],
            "image/png": "[encoded data removed]"
          },
          "metadata": {
            "needs_background": "light"
          }
        }
      ]
    }
  ]
}