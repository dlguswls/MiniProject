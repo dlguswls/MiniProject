{
  "cells": [
    {
      "cell_type": "markdown",
      "metadata": {
        "id": "OH0e0rvP-fWm"
      },
      "source": [
        "# KoSpeech\n",
        "* https://github.com/sooftware/kospeech\n",
        "* https://githubmemory.com/repo/switiz/deepspeech2.pytorch\n",
        "* https://github.com/switiz/las.pytorch\n",
        "* https://kkkkhd.tistory.com/249"
      ]
    },
    {
      "cell_type": "code",
      "execution_count": 1,
      "metadata": {
        "colab": {
          "base_uri": "https://localhost:8080/"
        },
        "id": "wTP2DnEH-fto",
        "outputId": "5d213ab0-cb30-4d93-e28d-e721475fbd47"
      },
      "outputs": [
        {
          "output_type": "stream",
          "name": "stdout",
          "text": [
            "Mounted at /content/drive\n"
          ]
        }
      ],
      "source": [
        "from google.colab import drive\n",
        "drive.mount('/content/drive')"
      ]
    },
    {
      "cell_type": "markdown",
      "metadata": {
        "id": "r43u_8QMXwr6"
      },
      "source": [
        "# 0. train 파일 정리\n",
        "* (1) json -> txt"
      ]
    },
    {
      "cell_type": "code",
      "execution_count": null,
      "metadata": {
        "colab": {
          "base_uri": "https://localhost:8080/"
        },
        "id": "npMetv43t-5w",
        "outputId": "2dc8decf-613e-4b55-a7bd-125306b2238a"
      },
      "outputs": [
        {
          "name": "stdout",
          "output_type": "stream",
          "text": [
            "2000\n"
          ]
        }
      ],
      "source": [
        "# json -> script \n",
        "# # json to txt\n",
        "# from glob import glob\n",
        "# import json\n",
        "\n",
        "# %cd \"[train] 메타데이터_json\"\n",
        "# json_list = glob('*.json')\n",
        "\n",
        "# json_text = list()\n",
        "# for i in range(len(json_list)):\n",
        "#     with open(f'{json_list[i]}',encoding='utf-8') as json_file:\n",
        "#         json_data = json.load(json_file)\n",
        "#         json_text.append(json_data['transcription']['ReadingLabelText'])\n",
        "\n",
        "# script -> txt\n",
        "# /content/drive/MyDrive/icanhearyourvoice/JsonToText/Json_To_Text의 사본\n",
        "\n",
        "# unzip\n",
        "# path_to_zip_file = '/content/drive/MyDrive/icanhearyourvoice/JsonToText/1_30000_text.zip'\n",
        "# directory_to_extract_to = '/content/drive/MyDrive/icanhearyourvoice/UnzipTxt'\n",
        "\n",
        "# import zipfile\n",
        "# with zipfile.ZipFile(path_to_zip_file, 'r') as zip_ref:\n",
        "#     zip_ref.extractall(directory_to_extract_to)\n",
        "\n",
        "# # Unzip된 파일 개수 \n",
        "import os\n",
        "list = os.listdir('/content/drive/MyDrive/icanhearyourvoice/OurSpeech/OurSpeech01/OurSpeech005')\n",
        "number_files = len(list)\n",
        "print(number_files)\n",
        "\n",
        "# # txt 파일 삭제\n",
        "# import os\n",
        "# dir_name = '/content/drive/MyDrive'\n",
        "# test = os.listdir(dir_name)\n",
        "# for item in test:\n",
        "#     if item.endswith(\".txt\"):\n",
        "#         os.remove(os.path.join(dir_name, item))"
      ]
    },
    {
      "cell_type": "markdown",
      "metadata": {
        "id": "Y--uqRcTt5mp"
      },
      "source": [
        "* (2) zip -> wav"
      ]
    },
    {
      "cell_type": "code",
      "execution_count": null,
      "metadata": {
        "id": "k17qKEBEXXHU"
      },
      "outputs": [],
      "source": [
        "# #Unzip\n",
        "# path_to_zip_file = '/content/drive/MyDrive/icanhearyourvoice/[train] 음성데이터_wav.zip'\n",
        "# directory_to_extract_to = '/content/drive/MyDrive/icanhearyourvoice/UnzipWav'\n",
        "\n",
        "# import zipfile\n",
        "# with zipfile.ZipFile(path_to_zip_file, 'r') as zip_ref:\n",
        "#     zip_ref.extractall(directory_to_extract_to)\n",
        "\n",
        "# # Unzip된 파일 개수 -> 33578개(휴~) \n",
        "# import os\n",
        "# list = os.listdir('/content/drive/MyDrive/icanhearyourvoice/UnzipWav')\n",
        "# number_files = len(list)\n",
        "# print(number_files)\n",
        "\n",
        "# # wav 파일 삭제\n",
        "# # import os\n",
        "# # dir_name = '/content/drive/MyDrive'\n",
        "# # test = os.listdir(dir_name)\n",
        "# # for item in test:\n",
        "# #     if item.endswith(\".wav\"):\n",
        "# #         os.remove(os.path.join(dir_name, item))"
      ]
    },
    {
      "cell_type": "markdown",
      "metadata": {
        "id": "boZub593t8fo"
      },
      "source": [
        "* (3) folder -> kspon \n",
        "* Speech(3만) -> Speech01(5천) -> Speech001(1천) -> wav/txt"
      ]
    },
    {
      "cell_type": "code",
      "execution_count": null,
      "metadata": {
        "colab": {
          "base_uri": "https://localhost:8080/"
        },
        "id": "yDSRXyeW0YsS",
        "outputId": "81dec11d-f00b-40f0-c118-51f83adbec59"
      },
      "outputs": [
        {
          "name": "stdout",
          "output_type": "stream",
          "text": [
            "OurSpeech01 OurSpeech001\n",
            "OurSpeech01 OurSpeech002\n",
            "OurSpeech01 OurSpeech003\n",
            "OurSpeech01 OurSpeech004\n",
            "OurSpeech01 OurSpeech005\n",
            "OurSpeech02 OurSpeech006\n",
            "OurSpeech02 OurSpeech007\n",
            "OurSpeech02 OurSpeech008\n",
            "OurSpeech02 OurSpeech009\n",
            "OurSpeech02 OurSpeech010\n",
            "OurSpeech03 OurSpeech011\n",
            "OurSpeech03 OurSpeech012\n",
            "OurSpeech03 OurSpeech013\n",
            "OurSpeech03 OurSpeech014\n",
            "OurSpeech03 OurSpeech015\n",
            "OurSpeech04 OurSpeech016\n",
            "OurSpeech04 OurSpeech017\n",
            "OurSpeech04 OurSpeech018\n",
            "OurSpeech04 OurSpeech019\n",
            "OurSpeech04 OurSpeech020\n",
            "OurSpeech05 OurSpeech021\n",
            "OurSpeech05 OurSpeech022\n",
            "OurSpeech05 OurSpeech023\n",
            "OurSpeech05 OurSpeech024\n",
            "OurSpeech05 OurSpeech025\n",
            "OurSpeech06 OurSpeech026\n",
            "OurSpeech06 OurSpeech027\n",
            "OurSpeech06 OurSpeech028\n",
            "OurSpeech06 OurSpeech029\n",
            "OurSpeech06 OurSpeech030\n"
          ]
        }
      ],
      "source": [
        "# import os\n",
        "# from glob import glob\n",
        "# import shutil\n",
        "\n",
        "# %cd /content/gdrive/MyDrive/Project/sound/NIA_contest/icanhearyourvoice\n",
        "\n",
        "\n",
        "# 경로 리스트\n",
        "# wav_list = []\n",
        "# txt_list = []\n",
        "\n",
        "# for i in glob('*') :\n",
        "#     if i in glob('*.wav') :\n",
        "#         wav_list.append(i)\n",
        "#     elif i in glob('*.txt') :\n",
        "#         txt_list.append(i)\n",
        "\n",
        "# 1000단위 이동\n",
        "# for k in range(6) :\n",
        "#     for q in range(5) :\n",
        "#         dir = '/content/drive/MyDrive/icanhearyourvoice/OurSpeech/OurSpeech0'+str(k+1)+'/OurSpeech00'+str(q+1)\n",
        "#         for j in range(0, 1000):\n",
        "#             shutil.move(wav_list[0],dir)\n",
        "#             wav_list.remove(wav_list[0])\n",
        "#             shutil.move(txt_list[0],dir)\n",
        "#             txt_list.remove(txt_list[0])\n",
        "\n",
        "# 혹시 모를 삭제\n",
        "# num = 1\n",
        "# for k in range(6):\n",
        "#   for q in range(5):\n",
        "#     sk = 'OurSpeech0' + str(k+1)\n",
        "#     if len(str(num))==1:\n",
        "#       sn = 'OurSpeech00' + str(num)\n",
        "#     else:\n",
        "#       sn = 'OurSpeech0' + str(num)\n",
        "#     %cd /content/drive/MyDrive/icanhearyourvoice/OurSpeech/{sk}/{sn}\n",
        "#     txt_list = glob('*.txt')\n",
        "#     for i in txt_list:\n",
        "#       os.remove(i)\n",
        "#     num += 1"
      ]
    },
    {
      "cell_type": "code",
      "execution_count": null,
      "metadata": {
        "id": "PBwGqgXkt8m_"
      },
      "outputs": [],
      "source": [
        "# # txt 파일 경로 추출\n",
        "# import os\n",
        "# dir_path = \"/content/drive/MyDrive/icanhearyourvoice/UnzipTxt\"\n",
        "# file_paths = [] # txt 파일 경로 리스트\n",
        "# for (root, directories, files) in os.walk(dir_path):\n",
        "#     for file in files:\n",
        "#         file_path = os.path.join(root, file)\n",
        "#         file_paths.append(file_path)\n",
        "\n",
        "# txt 파일 이동\n",
        "# import shutil\n",
        "# for i in range(len(file_paths)):\n",
        "#   if i<1000:\n",
        "#     dir = '/content/drive/MyDrive/icanhearyourvoice/OurSpeech/OurSpeech01/OurSpeech001'\n",
        "#     shutil.move(file_paths[i], dir)\n",
        "#   elif i<2000:\n",
        "#     dir = '/content/drive/MyDrive/icanhearyourvoice/OurSpeech/OurSpeech01/OurSpeech002'\n",
        "#     shutil.move(file_paths[i], dir)\n",
        "#   elif i<3000:\n",
        "#     dir = '/content/drive/MyDrive/icanhearyourvoice/OurSpeech/OurSpeech01/OurSpeech003'\n",
        "#     shutil.move(file_paths[i], dir)\n",
        "#   elif i<4000:\n",
        "#     dir = '/content/drive/MyDrive/icanhearyourvoice/OurSpeech/OurSpeech01/OurSpeech004'\n",
        "#     shutil.move(file_paths[i], dir)\n",
        "#   elif i<5000:\n",
        "#     dir = '/content/drive/MyDrive/icanhearyourvoice/OurSpeech/OurSpeech01/OurSpeech005'\n",
        "#     shutil.move(file_paths[i], dir)\n",
        "#   elif i<6000:\n",
        "#     dir = '/content/drive/MyDrive/icanhearyourvoice/OurSpeech/OurSpeech02/OurSpeech006'\n",
        "#     shutil.move(file_paths[i], dir)\n",
        "#   elif i<7000:\n",
        "#     dir = '/content/drive/MyDrive/icanhearyourvoice/OurSpeech/OurSpeech02/OurSpeech007'\n",
        "#     shutil.move(file_paths[i], dir)\n",
        "#   elif i<8000:\n",
        "#     dir = '/content/drive/MyDrive/icanhearyourvoice/OurSpeech/OurSpeech02/OurSpeech008'\n",
        "#     shutil.move(file_paths[i], dir)\n",
        "#   elif i<9000:\n",
        "#     dir = '/content/drive/MyDrive/icanhearyourvoice/OurSpeech/OurSpeech02/OurSpeech009'\n",
        "#     shutil.move(file_paths[i], dir)\n",
        "#   elif i<10000:\n",
        "#     dir = '/content/drive/MyDrive/icanhearyourvoice/OurSpeech/OurSpeech02/OurSpeech010'\n",
        "#     shutil.move(file_paths[i], dir)\n",
        "  # elif i<11000:\n",
        "  #   dir = '/content/drive/MyDrive/icanhearyourvoice/OurSpeech/OurSpeech03/OurSpeech011'\n",
        "  #   shutil.move(file_paths[i], dir)\n",
        "  # elif i<12000:\n",
        "  #   dir = '/content/drive/MyDrive/icanhearyourvoice/OurSpeech/OurSpeech03/OurSpeech012'\n",
        "  #   shutil.move(file_paths[i], dir)\n",
        "  # elif i<13000:\n",
        "  #   dir = '/content/drive/MyDrive/icanhearyourvoice/OurSpeech/OurSpeech03/OurSpeech013'\n",
        "  #   shutil.move(file_paths[i], dir)\n",
        "  # elif i<14000:\n",
        "  #   dir = '/content/drive/MyDrive/icanhearyourvoice/OurSpeech/OurSpeech03/OurSpeech014'\n",
        "  #   shutil.move(file_paths[i], dir)\n",
        "  # elif i<15000:\n",
        "  #   dir = '/content/drive/MyDrive/icanhearyourvoice/OurSpeech/OurSpeech03/OurSpeech015'\n",
        "  #   shutil.move(file_paths[i], dir)\n",
        "  # elif i<16000:\n",
        "  #   dir = '/content/drive/MyDrive/icanhearyourvoice/OurSpeech/OurSpeech04/OurSpeech016'\n",
        "  #   shutil.move(file_paths[i], dir)\n",
        "  # elif i<17000:\n",
        "  #   dir = '/content/drive/MyDrive/icanhearyourvoice/OurSpeech/OurSpeech04/OurSpeech017'\n",
        "  #   shutil.move(file_paths[i], dir)\n",
        "  # elif i<18000:\n",
        "  #   dir = '/content/drive/MyDrive/icanhearyourvoice/OurSpeech/OurSpeech04/OurSpeech018'\n",
        "  #   shutil.move(file_paths[i], dir)\n",
        "  # elif i<19000:\n",
        "  #   dir = '/content/drive/MyDrive/icanhearyourvoice/OurSpeech/OurSpeech04/OurSpeech019'\n",
        "  #   shutil.move(file_paths[i], dir)\n",
        "  # elif i<20000:\n",
        "  #   dir = '/content/drive/MyDrive/icanhearyourvoice/OurSpeech/OurSpeech04/OurSpeech020'\n",
        "  #   shutil.move(file_paths[i], dir)\n",
        "  # elif i<21000:\n",
        "  #   dir = '/content/drive/MyDrive/icanhearyourvoice/OurSpeech/OurSpeech05/OurSpeech021'\n",
        "  #   shutil.move(file_paths[i], dir)\n",
        "  # elif i<22000:\n",
        "  #   dir = '/content/drive/MyDrive/icanhearyourvoice/OurSpeech/OurSpeech05/OurSpeech022'\n",
        "  #   shutil.move(file_paths[i], dir)\n",
        "  # elif i<23000:\n",
        "  #   dir = '/content/drive/MyDrive/icanhearyourvoice/OurSpeech/OurSpeech05/OurSpeech023'\n",
        "  #   shutil.move(file_paths[i], dir)\n",
        "  # elif i<24000:\n",
        "  #   dir = '/content/drive/MyDrive/icanhearyourvoice/OurSpeech/OurSpeech05/OurSpeech024'\n",
        "  #   shutil.move(file_paths[i], dir)\n",
        "  # elif i<25000:\n",
        "  #   dir = '/content/drive/MyDrive/icanhearyourvoice/OurSpeech/OurSpeech05/OurSpeech025'\n",
        "  #   shutil.move(file_paths[i], dir)\n",
        "  # elif i<26000:\n",
        "  #   dir = '/content/drive/MyDrive/icanhearyourvoice/OurSpeech/OurSpeech06/OurSpeech026'\n",
        "  #   shutil.move(file_paths[i], dir)\n",
        "  # elif i<27000:\n",
        "  #   dir = '/content/drive/MyDrive/icanhearyourvoice/OurSpeech/OurSpeech06/OurSpeech027'\n",
        "  #   shutil.move(file_paths[i], dir)\n",
        "  # elif i<28000:\n",
        "  #   dir = '/content/drive/MyDrive/icanhearyourvoice/OurSpeech/OurSpeech06/OurSpeech028'\n",
        "  #   shutil.move(file_paths[i], dir)\n",
        "  # elif i<29000:\n",
        "  #   dir = '/content/drive/MyDrive/icanhearyourvoice/OurSpeech/OurSpeech06/OurSpeech029'\n",
        "  #   shutil.move(file_paths[i], dir)\n",
        "  # elif i<30000:\n",
        "  #   dir = '/content/drive/MyDrive/icanhearyourvoice/OurSpeech/OurSpeech06/OurSpeech030'\n",
        "  #   shutil.move(file_paths[i], dir)"
      ]
    },
    {
      "cell_type": "code",
      "execution_count": null,
      "metadata": {
        "id": "bgyQvQoGz_qj"
      },
      "outputs": [],
      "source": [
        "# # wav 파일 경로 추출\n",
        "# import os\n",
        "# dir_path = \"/content/drive/MyDrive/icanhearyourvoice/UnzipWav\"\n",
        "# file_paths = [] # txt 파일 경로 리스트\n",
        "# for (root, directories, files) in os.walk(dir_path):\n",
        "#     for file in files:\n",
        "#         file_path = os.path.join(root, file)\n",
        "#         file_paths.append(file_path)\n",
        "\n",
        "# # wav 파일 이동\n",
        "# import shutil\n",
        "# for i in range(len(file_paths)):\n",
        "#   if i<1000:\n",
        "#     dir = '/content/drive/MyDrive/icanhearyourvoice/OurSpeech/OurSpeech01/OurSpeech001'\n",
        "#     shutil.move(file_paths[i], dir)\n",
        "#   elif i<2000:\n",
        "#     dir = '/content/drive/MyDrive/icanhearyourvoice/OurSpeech/OurSpeech01/OurSpeech002'\n",
        "#     shutil.move(file_paths[i], dir)\n",
        "#   elif i<3000:\n",
        "#     dir = '/content/drive/MyDrive/icanhearyourvoice/OurSpeech/OurSpeech01/OurSpeech003'\n",
        "#     shutil.move(file_paths[i], dir)\n",
        "#   elif i<4000:\n",
        "#     dir = '/content/drive/MyDrive/icanhearyourvoice/OurSpeech/OurSpeech01/OurSpeech004'\n",
        "#     shutil.move(file_paths[i], dir)\n",
        "#   elif i<5000:\n",
        "#     dir = '/content/drive/MyDrive/icanhearyourvoice/OurSpeech/OurSpeech01/OurSpeech005'\n",
        "#     shutil.move(file_paths[i], dir)\n",
        "#   elif i<6000:\n",
        "#     dir = '/content/drive/MyDrive/icanhearyourvoice/OurSpeech/OurSpeech02/OurSpeech006'\n",
        "#     shutil.move(file_paths[i], dir)\n",
        "#   elif i<7000:\n",
        "#     dir = '/content/drive/MyDrive/icanhearyourvoice/OurSpeech/OurSpeech02/OurSpeech007'\n",
        "#     shutil.move(file_paths[i], dir)\n",
        "#   elif i<8000:\n",
        "#     dir = '/content/drive/MyDrive/icanhearyourvoice/OurSpeech/OurSpeech02/OurSpeech008'\n",
        "#     shutil.move(file_paths[i], dir)\n",
        "#   elif i<9000:\n",
        "#     dir = '/content/drive/MyDrive/icanhearyourvoice/OurSpeech/OurSpeech02/OurSpeech009'\n",
        "#     shutil.move(file_paths[i], dir)\n",
        "#   elif i<10000:\n",
        "#     dir = '/content/drive/MyDrive/icanhearyourvoice/OurSpeech/OurSpeech02/OurSpeech010'\n",
        "#     shutil.move(file_paths[i], dir)\n",
        "#   elif i<11000:\n",
        "#     dir = '/content/drive/MyDrive/icanhearyourvoice/OurSpeech/OurSpeech03/OurSpeech011'\n",
        "#     shutil.move(file_paths[i], dir)\n",
        "#   elif i<12000:\n",
        "#     dir = '/content/drive/MyDrive/icanhearyourvoice/OurSpeech/OurSpeech03/OurSpeech012'\n",
        "#     shutil.move(file_paths[i], dir)\n",
        "#   elif i<13000:\n",
        "#     dir = '/content/drive/MyDrive/icanhearyourvoice/OurSpeech/OurSpeech03/OurSpeech013'\n",
        "#     shutil.move(file_paths[i], dir)\n",
        "#   elif i<14000:\n",
        "#     dir = '/content/drive/MyDrive/icanhearyourvoice/OurSpeech/OurSpeech03/OurSpeech014'\n",
        "#     shutil.move(file_paths[i], dir)\n",
        "#   elif i<15000:\n",
        "#     dir = '/content/drive/MyDrive/icanhearyourvoice/OurSpeech/OurSpeech03/OurSpeech015'\n",
        "#     shutil.move(file_paths[i], dir)\n",
        "#   elif i<16000:\n",
        "#     dir = '/content/drive/MyDrive/icanhearyourvoice/OurSpeech/OurSpeech04/OurSpeech016'\n",
        "#     shutil.move(file_paths[i], dir)\n",
        "#   elif i<17000:\n",
        "#     dir = '/content/drive/MyDrive/icanhearyourvoice/OurSpeech/OurSpeech04/OurSpeech017'\n",
        "#     shutil.move(file_paths[i], dir)\n",
        "#   elif i<18000:\n",
        "#     dir = '/content/drive/MyDrive/icanhearyourvoice/OurSpeech/OurSpeech04/OurSpeech018'\n",
        "#     shutil.move(file_paths[i], dir)\n",
        "#   elif i<19000:\n",
        "#     dir = '/content/drive/MyDrive/icanhearyourvoice/OurSpeech/OurSpeech04/OurSpeech019'\n",
        "#     shutil.move(file_paths[i], dir)\n",
        "#   elif i<20000:\n",
        "#     dir = '/content/drive/MyDrive/icanhearyourvoice/OurSpeech/OurSpeech04/OurSpeech020'\n",
        "#     shutil.move(file_paths[i], dir)\n",
        "#   elif i<21000:\n",
        "#     dir = '/content/drive/MyDrive/icanhearyourvoice/OurSpeech/OurSpeech05/OurSpeech021'\n",
        "#     shutil.move(file_paths[i], dir)\n",
        "#   elif i<22000:\n",
        "#     dir = '/content/drive/MyDrive/icanhearyourvoice/OurSpeech/OurSpeech05/OurSpeech022'\n",
        "#     shutil.move(file_paths[i], dir)\n",
        "#   elif i<23000:\n",
        "#     dir = '/content/drive/MyDrive/icanhearyourvoice/OurSpeech/OurSpeech05/OurSpeech023'\n",
        "#     shutil.move(file_paths[i], dir)\n",
        "#   elif i<24000:\n",
        "#     dir = '/content/drive/MyDrive/icanhearyourvoice/OurSpeech/OurSpeech05/OurSpeech024'\n",
        "#     shutil.move(file_paths[i], dir)\n",
        "#   elif i<25000:\n",
        "#     dir = '/content/drive/MyDrive/icanhearyourvoice/OurSpeech/OurSpeech05/OurSpeech025'\n",
        "#     shutil.move(file_paths[i], dir)\n",
        "#   elif i<26000:\n",
        "#     dir = '/content/drive/MyDrive/icanhearyourvoice/OurSpeech/OurSpeech06/OurSpeech026'\n",
        "#     shutil.move(file_paths[i], dir)\n",
        "#   elif i<27000:\n",
        "#     dir = '/content/drive/MyDrive/icanhearyourvoice/OurSpeech/OurSpeech06/OurSpeech027'\n",
        "#     shutil.move(file_paths[i], dir)\n",
        "#   elif i<28000:\n",
        "#     dir = '/content/drive/MyDrive/icanhearyourvoice/OurSpeech/OurSpeech06/OurSpeech028'\n",
        "#     shutil.move(file_paths[i], dir)\n",
        "#   elif i<29000:\n",
        "#     dir = '/content/drive/MyDrive/icanhearyourvoice/OurSpeech/OurSpeech06/OurSpeech029'\n",
        "#     shutil.move(file_paths[i], dir)\n",
        "#   elif i<30000:\n",
        "#     dir = '/content/drive/MyDrive/icanhearyourvoice/OurSpeech/OurSpeech06/OurSpeech030'\n",
        "#     shutil.move(file_paths[i], dir)"
      ]
    },
    {
      "cell_type": "markdown",
      "source": [
        "### 약간의 대공사: 3만 -> 10만"
      ],
      "metadata": {
        "id": "LyyuHSQ6it0r"
      }
    },
    {
      "cell_type": "markdown",
      "source": [
        "* 삭제"
      ],
      "metadata": {
        "id": "iYK8Ru69lFt5"
      }
    },
    {
      "cell_type": "code",
      "source": [
        "# # (1) txt 파일 삭제\n",
        "# import os\n",
        "# dir_name = '/content/drive/MyDrive/icanhearyourvoice/UnzipTxt'\n",
        "# test = os.listdir(dir_name)\n",
        "# for item in test:\n",
        "#     if item.endswith(\".txt\"):\n",
        "#         os.remove(os.path.join(dir_name, item))\n",
        "\n",
        "# # (2) wav 파일 삭제\n",
        "# import os\n",
        "# dir_name = '/content/drive/MyDrive/icanhearyourvoice/UnzipWav'\n",
        "# test = os.listdir(dir_name)\n",
        "# for item in test:\n",
        "#     if item.endswith(\".wav\"):\n",
        "#         os.remove(os.path.join(dir_name, item))\n",
        "\n",
        "\n",
        "# # (3) OurSpeech 삭제\n",
        "# import os\n",
        "# from glob import glob\n",
        "# import shutil\n",
        "\n",
        "# %cd /content/drive/MyDrive/icanhearyourvoice\n",
        "\n",
        "# wav_list = []\n",
        "# txt_list = []\n",
        "\n",
        "# for i in glob('*') :\n",
        "#     if i in glob('*.wav') :\n",
        "#         wav_list.append(i)\n",
        "#     elif i in glob('*.txt') :\n",
        "#         txt_list.append(i)\n",
        "\n",
        "# num = 1\n",
        "# for k in range(6):\n",
        "#   for q in range(5):\n",
        "#     sk = 'OurSpeech0' + str(k+1)\n",
        "#     if len(str(num))==1:\n",
        "#       sn = 'OurSpeech00' + str(num)\n",
        "#     else:\n",
        "#       sn = 'OurSpeech0' + str(num)\n",
        "#     %cd /content/drive/MyDrive/icanhearyourvoice/OurSpeech/{sk}/{sn}\n",
        "#     txt_list = glob('*.txt')\n",
        "#     wav_list = glob('*.wav')\n",
        "#     for i in txt_list:\n",
        "#       os.remove(i)\n",
        "#     num += 1"
      ],
      "metadata": {
        "id": "myIMBrLsis0S"
      },
      "execution_count": null,
      "outputs": []
    },
    {
      "cell_type": "markdown",
      "source": [
        "* 다시 Unzip"
      ],
      "metadata": {
        "id": "uxVu3GmtlLTK"
      }
    },
    {
      "cell_type": "code",
      "source": [
        "# # # (1) txt 파일\n",
        "# #Unzip\n",
        "# path_to_zip_file = '/content/drive/MyDrive/icanhearyourvoice/JsonToText/50001~100000.zip'\n",
        "# directory_to_extract_to = '/content/drive/MyDrive/icanhearyourvoice/UnzipTxt'\n",
        "\n",
        "# import zipfile\n",
        "# with zipfile.ZipFile(path_to_zip_file, 'r') as zip_ref:\n",
        "#     zip_ref.extractall(directory_to_extract_to)\n",
        "\n",
        "\n",
        "# # # Unzip된 파일 개수 \n",
        "# import os\n",
        "# list = os.listdir('/content/drive/MyDrive/icanhearyourvoice/UnzipTxt')\n",
        "# number_files = len(list)\n",
        "# print(number_files)\n",
        "\n",
        "# # (2) wav 파일\n",
        "# #Unzip\n",
        "# path_to_zip_file = '/content/drive/MyDrive/icanhearyourvoice/[train] 음성데이터_wav.zip'\n",
        "# directory_to_extract_to = '/content/drive/MyDrive/icanhearyourvoice/UnzipWav'\n",
        "\n",
        "# import zipfile\n",
        "# with zipfile.ZipFile(path_to_zip_file, 'r') as zip_ref:\n",
        "#     zip_ref.extractall(directory_to_extract_to)\n",
        "\n",
        "# Unzip된 파일 개수\n",
        "import os\n",
        "list = os.listdir('/content/drive/MyDrive/icanhearyourvoice/UnzipWav')\n",
        "number_files = len(list)\n",
        "print(number_files)\n",
        "\n",
        " \n",
        "# # (3) OurSpeech 이동 \n",
        "# # txt 파일\n",
        "# import os\n",
        "# from glob import glob\n",
        "# import shutil\n",
        "\n",
        "# %cd /content/drive/MyDrive/icanhearyourvoice/UnzipTxt\n",
        "\n",
        "# lists = glob('*.txt')\n",
        "\n",
        "# num = 1\n",
        "# for k in range(6) :\n",
        "#   for q in range(5) :\n",
        "#     sk = 'OurSpeech0'+str(k+1)\n",
        "#     if len(str(num))==1 : \n",
        "#       sn = 'OurSpeech00'+str(num)\n",
        "#     else : \n",
        "#       sn = 'OurSpeech0'+str(num)\n",
        "#     dir =  '/content/drive/MyDrive/icanhearyourvoice/OurSpeech/'+sk+'/'+sn\n",
        "#     for j in range(0, 6000) :\n",
        "#         shutil.move(lists[0],dir)\n",
        "#         lists.remove(lists[0])\n",
        "#     num+=1\n",
        "\n",
        "# # wav 파일\n",
        "# import os\n",
        "# from glob import glob\n",
        "# import shutil\n",
        "\n",
        "# %cd /content/drive/MyDrive/icanhearyourvoice/UnzipWav\n",
        "\n",
        "# lists = glob('*.wav')\n",
        "\n",
        "# num = 1\n",
        "# for k in range(6) :\n",
        "#   for q in range(5) :\n",
        "#     sk = 'OurSpeech0'+str(k+1)\n",
        "#     if len(str(num))==1 : \n",
        "#       sn = 'OurSpeech00'+str(num)\n",
        "#     else : \n",
        "#       sn = 'OurSpeech0'+str(num)\n",
        "#     dir =  '/content/drive/MyDrive/icanhearyourvoice/OurSpeech/'+sk+'/'+sn\n",
        "#     for j in range(0, 6000) :\n",
        "#         shutil.move(lists[0],dir)\n",
        "#         lists.remove(lists[0])\n",
        "#     num+=1\n",
        "\n",
        "# # (3) txt <-> wav 파일명 \n",
        "# import os\n",
        "# from glob import glob\n",
        "# import shutil\n",
        "\n",
        "# num = 1\n",
        "# for k in range(6) :\n",
        "#   for q in range(5) :\n",
        "#     sk = 'OurSpeech0'+str(k+1)\n",
        "#     if len(str(num))==1 : \n",
        "#       sn = 'OurSpeech00'+str(num)\n",
        "#     else : \n",
        "#       sn = 'OurSpeech0'+str(num)\n",
        "\n",
        "#     %cd /content/drive/MyDrive/icanhearyourvoice/OurSpeech/{sk}/{sn}\n",
        "#     lists = glob('*.txt')\n",
        "#     for j in lists :\n",
        "#       li = j.split('_')\n",
        "#       new_filename = li[0]+'_'+li[1]+'_'+li[2]+'.txt'\n",
        "#       os.rename(j, new_filename)\n",
        "#     num+=1"
      ],
      "metadata": {
        "colab": {
          "base_uri": "https://localhost:8080/"
        },
        "id": "ouwueaptlLlv",
        "outputId": "0f9a2c3f-4000-4225-fe35-2b8158df2b6f"
      },
      "execution_count": null,
      "outputs": [
        {
          "output_type": "stream",
          "name": "stdout",
          "text": [
            "198618\n"
          ]
        }
      ]
    },
    {
      "cell_type": "markdown",
      "metadata": {
        "id": "dA83Mr6g_nS6"
      },
      "source": [
        "# 1. Prepare"
      ]
    },
    {
      "cell_type": "code",
      "execution_count": 2,
      "metadata": {
        "colab": {
          "base_uri": "https://localhost:8080/"
        },
        "id": "Cl-u-8bJ_lA5",
        "outputId": "6e9e8469-9f82-4283-9e66-95d33fdf2666"
      },
      "outputs": [
        {
          "output_type": "stream",
          "name": "stdout",
          "text": [
            "Drive already mounted at /content/drive; to attempt to forcibly remount, call drive.mount(\"/content/drive\", force_remount=True).\n",
            "Cloning into 'kospeech'...\n",
            "remote: Enumerating objects: 16643, done.\u001b[K\n",
            "remote: Counting objects: 100% (613/613), done.\u001b[K\n",
            "remote: Compressing objects: 100% (454/454), done.\u001b[K\n",
            "remote: Total 16643 (delta 351), reused 333 (delta 155), pack-reused 16030\u001b[K\n",
            "Receiving objects: 100% (16643/16643), 941.56 MiB | 26.97 MiB/s, done.\n",
            "Resolving deltas: 100% (11075/11075), done.\n",
            "Cloning into 'las.pytorch'...\n",
            "remote: Enumerating objects: 67, done.\u001b[K\n",
            "remote: Counting objects: 100% (67/67), done.\u001b[K\n",
            "remote: Compressing objects: 100% (56/56), done.\u001b[K\n",
            "remote: Total 67 (delta 14), reused 61 (delta 9), pack-reused 0\u001b[K\n",
            "Unpacking objects: 100% (67/67), done.\n"
          ]
        }
      ],
      "source": [
        "# google mount\n",
        "from google.colab import drive\n",
        "drive.mount('/content/drive')\n",
        "\n",
        "# KoSpeech git clone\n",
        "!git clone https://github.com/sooftware/kospeech\n",
        "\n",
        "# LAS git clone\n",
        "!git clone https://github.com/switiz/las.pytorch"
      ]
    },
    {
      "cell_type": "markdown",
      "metadata": {
        "id": "aYkA5f3i__22"
      },
      "source": [
        "# 2. Preprocess\n",
        "* (1) /content/kospeech/dataset/kspon/preprocess.sh 파일 수정\n",
        "* SET_YOUR_DATASET_PATH: /content/drive/MyDrive/icanhearyourvoice/OurSpeech\n",
        "* SET_LABELS_DESTINATION: /content/drive/MyDrive/icanhearyourvoice/OurSpeech/\n",
        "* (2) /content/kospeech/dataset/kspon/preprocess/preprocess.py 파일 수정\n",
        "* line 108 KsponSpeech -> OurSpeech\n"
      ]
    },
    {
      "cell_type": "code",
      "execution_count": null,
      "metadata": {
        "colab": {
          "base_uri": "https://localhost:8080/"
        },
        "id": "1HLqGXRT_sJT",
        "outputId": "942107f5-4bdd-4488-8512-81f99d3b220d"
      },
      "outputs": [
        {
          "output_type": "stream",
          "name": "stdout",
          "text": [
            "/content/kospeech/dataset/kspon\n",
            "Requirement already satisfied: tqdm in /usr/local/lib/python3.7/dist-packages (from -r requirements.txt (line 1)) (4.62.3)\n",
            "Requirement already satisfied: gluonnlp in /usr/local/lib/python3.7/dist-packages (from -r requirements.txt (line 2)) (0.10.0)\n",
            "Requirement already satisfied: sentencepiece in /usr/local/lib/python3.7/dist-packages (from -r requirements.txt (line 3)) (0.1.96)\n",
            "Requirement already satisfied: hgtk in /usr/local/lib/python3.7/dist-packages (from -r requirements.txt (line 4)) (0.1.3)\n",
            "Requirement already satisfied: pandas in /usr/local/lib/python3.7/dist-packages (from -r requirements.txt (line 5)) (1.3.4)\n",
            "Requirement already satisfied: cython in /usr/local/lib/python3.7/dist-packages (from gluonnlp->-r requirements.txt (line 2)) (0.29.24)\n",
            "Requirement already satisfied: numpy>=1.16.0 in /usr/local/lib/python3.7/dist-packages (from gluonnlp->-r requirements.txt (line 2)) (1.19.5)\n",
            "Requirement already satisfied: packaging in /usr/local/lib/python3.7/dist-packages (from gluonnlp->-r requirements.txt (line 2)) (21.3)\n",
            "Requirement already satisfied: pytz>=2017.3 in /usr/local/lib/python3.7/dist-packages (from pandas->-r requirements.txt (line 5)) (2018.9)\n",
            "Requirement already satisfied: python-dateutil>=2.7.3 in /usr/local/lib/python3.7/dist-packages (from pandas->-r requirements.txt (line 5)) (2.8.2)\n",
            "Requirement already satisfied: six>=1.5 in /usr/local/lib/python3.7/dist-packages (from python-dateutil>=2.7.3->pandas->-r requirements.txt (line 5)) (1.15.0)\n",
            "Requirement already satisfied: pyparsing!=3.0.5,>=2.0.2 in /usr/local/lib/python3.7/dist-packages (from packaging->gluonnlp->-r requirements.txt (line 2)) (3.0.6)\n",
            "\u001b[31mERROR: File \"setup.py\" or \"setup.cfg\" not found. Directory cannot be installed in editable mode: /content/kospeech/dataset/kspon\u001b[0m\n",
            "\u001b[31mERROR: Directory '.' is not installable. Neither 'setup.py' nor 'pyproject.toml' found.\u001b[0m\n"
          ]
        }
      ],
      "source": [
        "# directory setting \n",
        "%cd /content/kospeech/dataset/kspon\n",
        "\n",
        "# install files \n",
        "!pip install -U -r requirements.txt\n",
        "!pip install -e .\n",
        "!pip install .\n",
        "\n",
        "# preprocess\n",
        "#!bash preprocess.sh "
      ]
    },
    {
      "cell_type": "markdown",
      "metadata": {
        "id": "gHpALQFkAY-m"
      },
      "source": [
        "# 3. Configuration\n",
        "* /content/las.pytorch/data/config.yaml 파일 수정\n",
        "* root : /content/drive/MyDrive/icanhearyourvoice/OurSpeech # dataset root 디렉토리\n",
        "* script_data_path: /content/kospeech/dataset/kspon/transcripts.txt # script 파일\n",
        "* vocab_path: /content/drive/MyDrive/icanhearyourvoice/OurSpeech/aihub_labels.csv # preprocess로 생성된 vocab 파일\n",
        "* weight_path: /content/drive/MyDrive/icanhearyourvoice/pretrained.pt # pre-trained model의 가중치 파일"
      ]
    },
    {
      "cell_type": "code",
      "execution_count": null,
      "metadata": {
        "colab": {
          "base_uri": "https://localhost:8080/"
        },
        "id": "1ehVBc5SAbEt",
        "outputId": "bb39dfa9-0fd9-4b9a-8eda-91b6ad0ba3a0"
      },
      "outputs": [
        {
          "output_type": "stream",
          "name": "stdout",
          "text": [
            "/content/las.pytorch\n",
            "Requirement already satisfied: PyYAML in /usr/local/lib/python3.7/dist-packages (3.13)\n",
            "Collecting PyYAML\n",
            "  Downloading PyYAML-6.0-cp37-cp37m-manylinux_2_5_x86_64.manylinux1_x86_64.manylinux_2_12_x86_64.manylinux2010_x86_64.whl (596 kB)\n",
            "\u001b[K     |████████████████████████████████| 596 kB 11.5 MB/s \n",
            "\u001b[?25hInstalling collected packages: PyYAML\n",
            "  Attempting uninstall: PyYAML\n",
            "    Found existing installation: PyYAML 3.13\n",
            "    Uninstalling PyYAML-3.13:\n",
            "      Successfully uninstalled PyYAML-3.13\n",
            "Successfully installed PyYAML-6.0\n",
            "Collecting Levenshtein\n",
            "  Downloading Levenshtein-0.16.0-cp37-cp37m-manylinux_2_5_x86_64.manylinux1_x86_64.manylinux_2_12_x86_64.manylinux2010_x86_64.whl (110 kB)\n",
            "\u001b[K     |████████████████████████████████| 110 kB 11.5 MB/s \n",
            "\u001b[?25hCollecting rapidfuzz<1.9,>=1.8.2\n",
            "  Downloading rapidfuzz-1.8.3-cp37-cp37m-manylinux_2_12_x86_64.manylinux2010_x86_64.whl (854 kB)\n",
            "\u001b[K     |████████████████████████████████| 854 kB 47.8 MB/s \n",
            "\u001b[?25hInstalling collected packages: rapidfuzz, Levenshtein\n",
            "Successfully installed Levenshtein-0.16.0 rapidfuzz-1.8.3\n",
            "\u001b[31mERROR: Could not find a version that satisfies the requirement FullLoader (from versions: none)\u001b[0m\n",
            "\u001b[31mERROR: No matching distribution found for FullLoader\u001b[0m\n"
          ]
        }
      ],
      "source": [
        "# directory setting \n",
        "%cd /content/las.pytorch\n",
        "\n",
        "# install packages\n",
        "!pip install -U PyYAML\n",
        "!pip install Levenshtein\n",
        "!pip install FullLoader"
      ]
    },
    {
      "cell_type": "markdown",
      "metadata": {
        "id": "zJTkJeDHAfjf"
      },
      "source": [
        "# 4. Train"
      ]
    },
    {
      "cell_type": "code",
      "execution_count": null,
      "metadata": {
        "colab": {
          "base_uri": "https://localhost:8080/"
        },
        "id": "fGVPAvVtAgZJ",
        "outputId": "cc593b29-d893-49f6-ed19-f4d653534ad7"
      },
      "outputs": [
        {
          "output_type": "stream",
          "name": "stdout",
          "text": [
            "========================================\n",
            "[2021-12-09 13:26:58] - Load Data\n",
            "========================================\n",
            "\n",
            "/usr/local/lib/python3.7/dist-packages/torch/utils/data/dataloader.py:481: UserWarning: This DataLoader will create 8 worker processes in total. Our suggested max number of worker in current system is 2, which is smaller than what this DataLoader is going to create. Please be aware that excessive worker creation might get DataLoader running slow or even freeze, lower the worker number to avoid potential slowness/freeze if necessary.\n",
            "  cpuset_checked))\n",
            "========================================\n",
            "[2021-12-09 13:26:58] - Train data : 27000 Val data : 3000\n",
            "========================================\n",
            "\n",
            "/usr/local/lib/python3.7/dist-packages/torch/nn/modules/rnn.py:65: UserWarning: dropout option adds dropout after all but last recurrent layer, so non-zero dropout expects num_layers greater than 1, but got dropout=0.1 and num_layers=1\n",
            "  \"num_layers={}\".format(dropout, num_layers))\n",
            "----------------------------------------\n",
            "ListenAttendSpell(\n",
            "  (listener): Listener(\n",
            "    (pLSTM_layer0): pBLSTMLayer(\n",
            "      (BLSTM): LSTM(80, 256, batch_first=True, bidirectional=True)\n",
            "    )\n",
            "    (pLSTM_layers): ModuleList(\n",
            "      (0): pBLSTMLayer(\n",
            "        (BLSTM): LSTM(1024, 256, batch_first=True, dropout=0.1, bidirectional=True)\n",
            "      )\n",
            "      (1): pBLSTMLayer(\n",
            "        (BLSTM): LSTM(1024, 256, batch_first=True, dropout=0.1, bidirectional=True)\n",
            "      )\n",
            "    )\n",
            "  )\n",
            "  (speller): Speller(\n",
            "    (rnn): LSTM(512, 512, num_layers=2, batch_first=True, dropout=0.3)\n",
            "    (emb): Embedding(687, 512)\n",
            "    (attention): MultiHeadAttention(\n",
            "      (scaled_dot): ScaledDotProductAttention()\n",
            "      (query_projection): Linear(in_features=512, out_features=512, bias=True)\n",
            "      (value_projection): Linear(in_features=512, out_features=512, bias=True)\n",
            "      (out_projection): Linear(in_features=1024, out_features=512, bias=True)\n",
            "    )\n",
            "    (mlp): Sequential(\n",
            "      (0): Linear(in_features=1024, out_features=512, bias=True)\n",
            "      (1): Tanh()\n",
            "      (2): Linear(in_features=512, out_features=687, bias=True)\n",
            "    )\n",
            "    (softmax): LogSoftmax(dim=-1)\n",
            "  )\n",
            ")\n",
            "----------------------------------------\n",
            "========================================\n",
            "[2021-12-09 13:27:15] - Train Start\n",
            "========================================\n",
            "\n",
            "epoch : 0, loss : 65.29788, cer : 0.27, learning_rate : 0.00030 : 100%|█| 3375/3375 [2:24:49<00:00,  2.57s/it]\n",
            "make_checkpoint: 0\n",
            "model save on epoch:1\n",
            "========================================\n",
            "[2021-12-09 15:52:05] - validation start\n",
            "========================================\n",
            "\n",
            "100%|███████████████████████████████████████████████████████████████████████| 375/375 [04:37<00:00,  1.35it/s]\n",
            "========================================\n",
            "[2021-12-09 15:56:43] - validation complete\n",
            "========================================\n",
            "\n",
            "epoch : 1, loss : 64.05675, cer : 0.21, learning_rate : 0.00044 : 100%|█| 3375/3375 [2:25:08<00:00,  2.58s/it]\n",
            "make_checkpoint: 1\n",
            "model save on epoch:2\n",
            "========================================\n",
            "[2021-12-09 18:21:53] - validation start\n",
            "========================================\n",
            "\n",
            "100%|███████████████████████████████████████████████████████████████████████| 375/375 [04:40<00:00,  1.34it/s]\n",
            "========================================\n",
            "[2021-12-09 18:26:34] - validation complete\n",
            "========================================\n",
            "\n",
            "epoch : 2, loss : 65.14856, cer : 0.18, learning_rate : 0.00058 :  55%|▌| 1870/3375 [1:20:58<1:06:45,  2.66s/i"
          ]
        }
      ],
      "source": [
        "!python train.py \n",
        "#!python train.py --resume # 이어서 학습할 시"
      ]
    },
    {
      "cell_type": "markdown",
      "metadata": {
        "id": "RXzkjPbVAjPO"
      },
      "source": [
        "# 5. Inference\n",
        "* UnboundLocalError: 전역변수를 지역변수로 호출해서 발생하는 에러\n",
        "* inference.py -> custom_loader = ' ' 추가"
      ]
    },
    {
      "cell_type": "code",
      "execution_count": null,
      "metadata": {
        "colab": {
          "base_uri": "https://localhost:8080/"
        },
        "id": "ZA_I-u7bAiiN",
        "outputId": "877f1516-f83a-450c-fac7-8beb96345f7e"
      },
      "outputs": [
        {
          "output_type": "stream",
          "name": "stdout",
          "text": [
            "========================================\n",
            "[2021-12-12 02:22:31] - Load Data\n",
            "========================================\n",
            "\n",
            "/content/drive/MyDrive/icanhearyourvoice/UnzipTest/CN11RC001_CN0016_20210730.wav\n",
            "/usr/local/lib/python3.7/dist-packages/torch/nn/modules/rnn.py:65: UserWarning: dropout option adds dropout after all but last recurrent layer, so non-zero dropout expects num_layers greater than 1, but got dropout=0.1 and num_layers=1\n",
            "  \"num_layers={}\".format(dropout, num_layers))\n",
            "[inference_model_load] complete\n",
            "----------------------------------------\n",
            "ListenAttendSpell(\n",
            "  (listener): Listener(\n",
            "    (pLSTM_layer0): pBLSTMLayer(\n",
            "      (BLSTM): LSTM(80, 256, batch_first=True, bidirectional=True)\n",
            "    )\n",
            "    (pLSTM_layers): ModuleList(\n",
            "      (0): pBLSTMLayer(\n",
            "        (BLSTM): LSTM(1024, 256, batch_first=True, dropout=0.1, bidirectional=True)\n",
            "      )\n",
            "      (1): pBLSTMLayer(\n",
            "        (BLSTM): LSTM(1024, 256, batch_first=True, dropout=0.1, bidirectional=True)\n",
            "      )\n",
            "    )\n",
            "  )\n",
            "  (speller): Speller(\n",
            "    (rnn): LSTM(512, 512, num_layers=2, batch_first=True, dropout=0.3)\n",
            "    (emb): Embedding(687, 512)\n",
            "    (attention): MultiHeadAttention(\n",
            "      (scaled_dot): ScaledDotProductAttention()\n",
            "      (query_projection): Linear(in_features=512, out_features=512, bias=True)\n",
            "      (value_projection): Linear(in_features=512, out_features=512, bias=True)\n",
            "      (out_projection): Linear(in_features=1024, out_features=512, bias=True)\n",
            "    )\n",
            "    (mlp): Sequential(\n",
            "      (0): Linear(in_features=1024, out_features=512, bias=True)\n",
            "      (1): Tanh()\n",
            "      (2): Linear(in_features=512, out_features=687, bias=True)\n",
            "    )\n",
            "    (softmax): LogSoftmax(dim=-1)\n",
            "  )\n",
            ")\n",
            "----------------------------------------\n",
            "========================================\n",
            "[2021-12-12 02:22:34] - Inference Start\n",
            "========================================\n",
            "\n",
            "그럼                                                                                                                                                    \n",
            "========================================\n",
            "[2021-12-12 02:22:34] - Inference complete\n",
            "Elapsed time: 0:00:00.556308\n",
            "========================================\n",
            "\n"
          ]
        }
      ],
      "source": [
        "#!python inference.py \n",
        "!python inference.py --audio_path \"/content/drive/MyDrive/icanhearyourvoice/UnzipTest/CN11RC001_CN0016_20210730.wav\""
      ]
    },
    {
      "cell_type": "code",
      "source": [
        "# import os\n",
        "# from glob import glob\n",
        "# import pandas as pd\n",
        "# os.chdir('/content/drive/MyDrive/Project/sound/NIA_contest/icanhearyourvoice/UnzipTest')   # test파일 경로 넣기\n",
        "# audio_lists = glob('*.wav')    # .wav로 하기\n",
        "# path = '/content/drive/MyDrive/Project/sound/NIA_contest/icanhearyourvoice/UnzipTest/'   # test 파일 경로 지정\n",
        "\n",
        "# result = []\n",
        "\n",
        "# for i in audio_lists : \n",
        "#   #!python inference.py \n",
        "#   %cd /content/drive/MyDrive/Project/sound/NIA_contest/las.pytorch\n",
        "#   filename = path + i\n",
        "#   a = !python inference.py --audio_path {filename}\n",
        "#   result.append(a[45])\n",
        "\n",
        "# final = pd.read_csv('/content/drive/MyDrive/Project/sound/NIA_contest/icanhearyourvoice/submission.csv')\n",
        "\n",
        "# for i in range(len(result)) : \n",
        "#   index = final[final['fileName']==audio_lists[i]].index.values[0]\n",
        "#   final.iloc[index, 1] = result[i]    "
      ],
      "metadata": {
        "id": "iXBrjBuwVBli"
      },
      "execution_count": 3,
      "outputs": []
    },
    {
      "cell_type": "code",
      "execution_count": null,
      "metadata": {
        "id": "XzUqkIWoh-EQ"
      },
      "outputs": [],
      "source": [
        ""
      ]
    }
  ],
  "metadata": {
    "accelerator": "GPU",
    "colab": {
      "collapsed_sections": [],
      "name": "211201_kospeech_custom.ipynb",
      "provenance": []
    },
    "kernelspec": {
      "display_name": "Python 3",
      "name": "python3"
    },
    "language_info": {
      "name": "python"
    }
  },
  "nbformat": 4,
  "nbformat_minor": 0
}